{
 "cells": [
  {
   "cell_type": "markdown",
   "metadata": {
    "id": "RqLQ-hbyb5jH"
   },
   "source": [
    "# Fraud Detection in Electricity and Gas Consumption Challenge\n",
    "\n",
    "This is the code for a ML competition taken in Zindi, to detect fraudulent transactions in gas and electricity consumption in Tunisia. Click here for more details about the project [here](https://zindi.africa/learn/fraud-detection-in-electricity-and-gas-consumption-challenge-tutorial).\n",
    "\n",
    "This notebook covers:\n",
    "- **Preprocessing:** The data cleaning steps taken.\n",
    "- **Exploratory Data Analysis (EDA):** Any EDA that was performed to derive insights from the data. \n",
    "- **Feature Engineering:** Feature Engineering steps that were taken to create features, based on RFM - recency, frequency, monetary, based on the EDA and domain knowledge. \n",
    "- **Modelling:** Different models were applied to the data and the performance metrics were assessed. The models were stacked to see if a stacked, ensemble model performs better than a stand-alone model.\n",
    "- **Testing:** The best performing model (in this case, Light GBM) was then tested on unseen data to assess performance in a production scenario."
   ]
  },
  {
   "cell_type": "markdown",
   "metadata": {
    "id": "GKfpS4UVJ4Wj"
   },
   "source": [
    "## Import Libraries"
   ]
  },
  {
   "cell_type": "code",
   "execution_count": 1,
   "metadata": {
    "id": "OJMD_I3EJWP4"
   },
   "outputs": [
    {
     "name": "stderr",
     "output_type": "stream",
     "text": [
      "Using TensorFlow backend.\n",
      "/opt/python/anaconda3/lib/python3.6/site-packages/tensorflow/python/framework/dtypes.py:493: FutureWarning: Passing (type, 1) or '1type' as a synonym of type is deprecated; in a future version of numpy, it will be understood as (type, (1,)) / '(1,)type'.\n",
      "  _np_qint8 = np.dtype([(\"qint8\", np.int8, 1)])\n",
      "/opt/python/anaconda3/lib/python3.6/site-packages/tensorflow/python/framework/dtypes.py:494: FutureWarning: Passing (type, 1) or '1type' as a synonym of type is deprecated; in a future version of numpy, it will be understood as (type, (1,)) / '(1,)type'.\n",
      "  _np_quint8 = np.dtype([(\"quint8\", np.uint8, 1)])\n",
      "/opt/python/anaconda3/lib/python3.6/site-packages/tensorflow/python/framework/dtypes.py:495: FutureWarning: Passing (type, 1) or '1type' as a synonym of type is deprecated; in a future version of numpy, it will be understood as (type, (1,)) / '(1,)type'.\n",
      "  _np_qint16 = np.dtype([(\"qint16\", np.int16, 1)])\n",
      "/opt/python/anaconda3/lib/python3.6/site-packages/tensorflow/python/framework/dtypes.py:496: FutureWarning: Passing (type, 1) or '1type' as a synonym of type is deprecated; in a future version of numpy, it will be understood as (type, (1,)) / '(1,)type'.\n",
      "  _np_quint16 = np.dtype([(\"quint16\", np.uint16, 1)])\n",
      "/opt/python/anaconda3/lib/python3.6/site-packages/tensorflow/python/framework/dtypes.py:497: FutureWarning: Passing (type, 1) or '1type' as a synonym of type is deprecated; in a future version of numpy, it will be understood as (type, (1,)) / '(1,)type'.\n",
      "  _np_qint32 = np.dtype([(\"qint32\", np.int32, 1)])\n",
      "/opt/python/anaconda3/lib/python3.6/site-packages/tensorflow/python/framework/dtypes.py:502: FutureWarning: Passing (type, 1) or '1type' as a synonym of type is deprecated; in a future version of numpy, it will be understood as (type, (1,)) / '(1,)type'.\n",
      "  np_resource = np.dtype([(\"resource\", np.ubyte, 1)])\n"
     ]
    }
   ],
   "source": [
    "import pandas as pd\n",
    "import numpy as np\n",
    "import matplotlib.pyplot as plt\n",
    "import lightgbm\n",
    "import seaborn as sns\n",
    "from lightgbm import LGBMClassifier\n",
    "from sklearn.metrics import recall_score, precision_score, accuracy_score, f1_score, classification_report, roc_auc_score\n",
    "from sklearn.model_selection import train_test_split, GridSearchCV, RandomizedSearchCV\n",
    "from imblearn.over_sampling import RandomOverSampler\n",
    "from sklearn.ensemble import RandomForestClassifier, StackingClassifier\n",
    "from sklearn.linear_model import LogisticRegression\n",
    "from sklearn.tree import DecisionTreeClassifier\n",
    "from sklearn.feature_selection import VarianceThreshold\n",
    "from sklearn.neighbors import KNeighborsClassifier\n",
    "from sklearn.preprocessing import StandardScaler\n",
    "import datetime\n",
    "import math as math\n",
    "from scipy.stats import randint, uniform\n",
    "from sklearn.feature_selection import RFE\n",
    "\n",
    "import warnings\n",
    "warnings.simplefilter('ignore')"
   ]
  },
  {
   "cell_type": "markdown",
   "metadata": {
    "id": "exEGyf6vJ_4T"
   },
   "source": [
    "## Read the Data"
   ]
  },
  {
   "cell_type": "code",
   "execution_count": 2,
   "metadata": {
    "id": "I2oIx7IuKCJm"
   },
   "outputs": [],
   "source": [
    "client_train = pd.read_csv('client_train.csv', low_memory=False)\n",
    "invoice_train = pd.read_csv('invoice_train.csv', low_memory=False)\n",
    "\n",
    "client_test = pd.read_csv('client_test.csv', low_memory=False)\n",
    "invoice_test = pd.read_csv('invoice_test.csv', low_memory=False)\n",
    "sample_submission = pd.read_csv('SampleSubmission.csv', low_memory=False)"
   ]
  },
  {
   "cell_type": "markdown",
   "metadata": {
    "id": "cDRp9i5ZO9mz"
   },
   "source": [
    "## Data Understanding"
   ]
  },
  {
   "cell_type": "code",
   "execution_count": 3,
   "metadata": {
    "colab": {
     "base_uri": "https://localhost:8080/"
    },
    "id": "h4zQzvLjKZ6E",
    "outputId": "deb14c51-2f5d-40cd-aa35-771477e044e0"
   },
   "outputs": [
    {
     "name": "stdout",
     "output_type": "stream",
     "text": [
      "(135493, 6) (4476749, 16) (58069, 5) (4476749, 16)\n"
     ]
    }
   ],
   "source": [
    "#compare size of the various datasets\n",
    "print(client_train.shape, invoice_train.shape, client_test.shape, invoice_train.shape)"
   ]
  },
  {
   "cell_type": "code",
   "execution_count": 4,
   "metadata": {
    "colab": {
     "base_uri": "https://localhost:8080/",
     "height": 270
    },
    "id": "Tw1On2leQsxU",
    "outputId": "4bbe6376-2007-4ea4-cd6f-e53e4c0bcb33"
   },
   "outputs": [
    {
     "data": {
      "text/html": [
       "<div>\n",
       "<style scoped>\n",
       "    .dataframe tbody tr th:only-of-type {\n",
       "        vertical-align: middle;\n",
       "    }\n",
       "\n",
       "    .dataframe tbody tr th {\n",
       "        vertical-align: top;\n",
       "    }\n",
       "\n",
       "    .dataframe thead th {\n",
       "        text-align: right;\n",
       "    }\n",
       "</style>\n",
       "<table border=\"1\" class=\"dataframe\">\n",
       "  <thead>\n",
       "    <tr style=\"text-align: right;\">\n",
       "      <th></th>\n",
       "      <th>client_id</th>\n",
       "      <th>invoice_date</th>\n",
       "      <th>tarif_type</th>\n",
       "      <th>counter_number</th>\n",
       "      <th>counter_statue</th>\n",
       "      <th>counter_code</th>\n",
       "      <th>reading_remarque</th>\n",
       "      <th>counter_coefficient</th>\n",
       "      <th>consommation_level_1</th>\n",
       "      <th>consommation_level_2</th>\n",
       "      <th>consommation_level_3</th>\n",
       "      <th>consommation_level_4</th>\n",
       "      <th>old_index</th>\n",
       "      <th>new_index</th>\n",
       "      <th>months_number</th>\n",
       "      <th>counter_type</th>\n",
       "    </tr>\n",
       "  </thead>\n",
       "  <tbody>\n",
       "    <tr>\n",
       "      <th>0</th>\n",
       "      <td>train_Client_0</td>\n",
       "      <td>2014-03-24</td>\n",
       "      <td>11</td>\n",
       "      <td>1335667</td>\n",
       "      <td>0</td>\n",
       "      <td>203</td>\n",
       "      <td>8</td>\n",
       "      <td>1</td>\n",
       "      <td>82</td>\n",
       "      <td>0</td>\n",
       "      <td>0</td>\n",
       "      <td>0</td>\n",
       "      <td>14302</td>\n",
       "      <td>14384</td>\n",
       "      <td>4</td>\n",
       "      <td>ELEC</td>\n",
       "    </tr>\n",
       "    <tr>\n",
       "      <th>1</th>\n",
       "      <td>train_Client_0</td>\n",
       "      <td>2013-03-29</td>\n",
       "      <td>11</td>\n",
       "      <td>1335667</td>\n",
       "      <td>0</td>\n",
       "      <td>203</td>\n",
       "      <td>6</td>\n",
       "      <td>1</td>\n",
       "      <td>1200</td>\n",
       "      <td>184</td>\n",
       "      <td>0</td>\n",
       "      <td>0</td>\n",
       "      <td>12294</td>\n",
       "      <td>13678</td>\n",
       "      <td>4</td>\n",
       "      <td>ELEC</td>\n",
       "    </tr>\n",
       "    <tr>\n",
       "      <th>2</th>\n",
       "      <td>train_Client_0</td>\n",
       "      <td>2015-03-23</td>\n",
       "      <td>11</td>\n",
       "      <td>1335667</td>\n",
       "      <td>0</td>\n",
       "      <td>203</td>\n",
       "      <td>8</td>\n",
       "      <td>1</td>\n",
       "      <td>123</td>\n",
       "      <td>0</td>\n",
       "      <td>0</td>\n",
       "      <td>0</td>\n",
       "      <td>14624</td>\n",
       "      <td>14747</td>\n",
       "      <td>4</td>\n",
       "      <td>ELEC</td>\n",
       "    </tr>\n",
       "    <tr>\n",
       "      <th>3</th>\n",
       "      <td>train_Client_0</td>\n",
       "      <td>2015-07-13</td>\n",
       "      <td>11</td>\n",
       "      <td>1335667</td>\n",
       "      <td>0</td>\n",
       "      <td>207</td>\n",
       "      <td>8</td>\n",
       "      <td>1</td>\n",
       "      <td>102</td>\n",
       "      <td>0</td>\n",
       "      <td>0</td>\n",
       "      <td>0</td>\n",
       "      <td>14747</td>\n",
       "      <td>14849</td>\n",
       "      <td>4</td>\n",
       "      <td>ELEC</td>\n",
       "    </tr>\n",
       "    <tr>\n",
       "      <th>4</th>\n",
       "      <td>train_Client_0</td>\n",
       "      <td>2016-11-17</td>\n",
       "      <td>11</td>\n",
       "      <td>1335667</td>\n",
       "      <td>0</td>\n",
       "      <td>207</td>\n",
       "      <td>9</td>\n",
       "      <td>1</td>\n",
       "      <td>572</td>\n",
       "      <td>0</td>\n",
       "      <td>0</td>\n",
       "      <td>0</td>\n",
       "      <td>15066</td>\n",
       "      <td>15638</td>\n",
       "      <td>12</td>\n",
       "      <td>ELEC</td>\n",
       "    </tr>\n",
       "  </tbody>\n",
       "</table>\n",
       "</div>"
      ],
      "text/plain": [
       "        client_id invoice_date  tarif_type  counter_number counter_statue  \\\n",
       "0  train_Client_0   2014-03-24          11         1335667              0   \n",
       "1  train_Client_0   2013-03-29          11         1335667              0   \n",
       "2  train_Client_0   2015-03-23          11         1335667              0   \n",
       "3  train_Client_0   2015-07-13          11         1335667              0   \n",
       "4  train_Client_0   2016-11-17          11         1335667              0   \n",
       "\n",
       "   counter_code  reading_remarque  counter_coefficient  consommation_level_1  \\\n",
       "0           203                 8                    1                    82   \n",
       "1           203                 6                    1                  1200   \n",
       "2           203                 8                    1                   123   \n",
       "3           207                 8                    1                   102   \n",
       "4           207                 9                    1                   572   \n",
       "\n",
       "   consommation_level_2  consommation_level_3  consommation_level_4  \\\n",
       "0                     0                     0                     0   \n",
       "1                   184                     0                     0   \n",
       "2                     0                     0                     0   \n",
       "3                     0                     0                     0   \n",
       "4                     0                     0                     0   \n",
       "\n",
       "   old_index  new_index  months_number counter_type  \n",
       "0      14302      14384              4         ELEC  \n",
       "1      12294      13678              4         ELEC  \n",
       "2      14624      14747              4         ELEC  \n",
       "3      14747      14849              4         ELEC  \n",
       "4      15066      15638             12         ELEC  "
      ]
     },
     "execution_count": 4,
     "metadata": {},
     "output_type": "execute_result"
    }
   ],
   "source": [
    "#print top rows of dataset\n",
    "invoice_train.head()"
   ]
  },
  {
   "cell_type": "code",
   "execution_count": 5,
   "metadata": {
    "colab": {
     "base_uri": "https://localhost:8080/",
     "height": 206
    },
    "id": "jUcrU9IYSMZJ",
    "outputId": "e70e5da0-7451-48ca-8c3a-643524f3139c"
   },
   "outputs": [
    {
     "data": {
      "text/html": [
       "<div>\n",
       "<style scoped>\n",
       "    .dataframe tbody tr th:only-of-type {\n",
       "        vertical-align: middle;\n",
       "    }\n",
       "\n",
       "    .dataframe tbody tr th {\n",
       "        vertical-align: top;\n",
       "    }\n",
       "\n",
       "    .dataframe thead th {\n",
       "        text-align: right;\n",
       "    }\n",
       "</style>\n",
       "<table border=\"1\" class=\"dataframe\">\n",
       "  <thead>\n",
       "    <tr style=\"text-align: right;\">\n",
       "      <th></th>\n",
       "      <th>disrict</th>\n",
       "      <th>client_id</th>\n",
       "      <th>client_catg</th>\n",
       "      <th>region</th>\n",
       "      <th>creation_date</th>\n",
       "      <th>target</th>\n",
       "    </tr>\n",
       "  </thead>\n",
       "  <tbody>\n",
       "    <tr>\n",
       "      <th>0</th>\n",
       "      <td>60</td>\n",
       "      <td>train_Client_0</td>\n",
       "      <td>11</td>\n",
       "      <td>101</td>\n",
       "      <td>31/12/1994</td>\n",
       "      <td>0.0</td>\n",
       "    </tr>\n",
       "    <tr>\n",
       "      <th>1</th>\n",
       "      <td>69</td>\n",
       "      <td>train_Client_1</td>\n",
       "      <td>11</td>\n",
       "      <td>107</td>\n",
       "      <td>29/05/2002</td>\n",
       "      <td>0.0</td>\n",
       "    </tr>\n",
       "    <tr>\n",
       "      <th>2</th>\n",
       "      <td>62</td>\n",
       "      <td>train_Client_10</td>\n",
       "      <td>11</td>\n",
       "      <td>301</td>\n",
       "      <td>13/03/1986</td>\n",
       "      <td>0.0</td>\n",
       "    </tr>\n",
       "    <tr>\n",
       "      <th>3</th>\n",
       "      <td>69</td>\n",
       "      <td>train_Client_100</td>\n",
       "      <td>11</td>\n",
       "      <td>105</td>\n",
       "      <td>11/07/1996</td>\n",
       "      <td>0.0</td>\n",
       "    </tr>\n",
       "    <tr>\n",
       "      <th>4</th>\n",
       "      <td>62</td>\n",
       "      <td>train_Client_1000</td>\n",
       "      <td>11</td>\n",
       "      <td>303</td>\n",
       "      <td>14/10/2014</td>\n",
       "      <td>0.0</td>\n",
       "    </tr>\n",
       "  </tbody>\n",
       "</table>\n",
       "</div>"
      ],
      "text/plain": [
       "   disrict          client_id  client_catg  region creation_date  target\n",
       "0       60     train_Client_0           11     101    31/12/1994     0.0\n",
       "1       69     train_Client_1           11     107    29/05/2002     0.0\n",
       "2       62    train_Client_10           11     301    13/03/1986     0.0\n",
       "3       69   train_Client_100           11     105    11/07/1996     0.0\n",
       "4       62  train_Client_1000           11     303    14/10/2014     0.0"
      ]
     },
     "execution_count": 5,
     "metadata": {},
     "output_type": "execute_result"
    }
   ],
   "source": [
    "#print top rows of dataset\n",
    "client_train.head()"
   ]
  },
  {
   "cell_type": "code",
   "execution_count": 6,
   "metadata": {
    "colab": {
     "base_uri": "https://localhost:8080/",
     "height": 300
    },
    "id": "fFBTeG8YSicC",
    "outputId": "551f42dc-8b1c-42a9-9a60-f6dc9279911b"
   },
   "outputs": [
    {
     "data": {
      "text/html": [
       "<div>\n",
       "<style scoped>\n",
       "    .dataframe tbody tr th:only-of-type {\n",
       "        vertical-align: middle;\n",
       "    }\n",
       "\n",
       "    .dataframe tbody tr th {\n",
       "        vertical-align: top;\n",
       "    }\n",
       "\n",
       "    .dataframe thead th {\n",
       "        text-align: right;\n",
       "    }\n",
       "</style>\n",
       "<table border=\"1\" class=\"dataframe\">\n",
       "  <thead>\n",
       "    <tr style=\"text-align: right;\">\n",
       "      <th></th>\n",
       "      <th>tarif_type</th>\n",
       "      <th>counter_number</th>\n",
       "      <th>counter_code</th>\n",
       "      <th>reading_remarque</th>\n",
       "      <th>counter_coefficient</th>\n",
       "      <th>consommation_level_1</th>\n",
       "      <th>consommation_level_2</th>\n",
       "      <th>consommation_level_3</th>\n",
       "      <th>consommation_level_4</th>\n",
       "      <th>old_index</th>\n",
       "      <th>new_index</th>\n",
       "      <th>months_number</th>\n",
       "    </tr>\n",
       "  </thead>\n",
       "  <tbody>\n",
       "    <tr>\n",
       "      <th>count</th>\n",
       "      <td>4.476749e+06</td>\n",
       "      <td>4.476749e+06</td>\n",
       "      <td>4.476749e+06</td>\n",
       "      <td>4.476749e+06</td>\n",
       "      <td>4.476749e+06</td>\n",
       "      <td>4.476749e+06</td>\n",
       "      <td>4.476749e+06</td>\n",
       "      <td>4.476749e+06</td>\n",
       "      <td>4.476749e+06</td>\n",
       "      <td>4.476749e+06</td>\n",
       "      <td>4.476749e+06</td>\n",
       "      <td>4.476749e+06</td>\n",
       "    </tr>\n",
       "    <tr>\n",
       "      <th>mean</th>\n",
       "      <td>2.012804e+01</td>\n",
       "      <td>1.230587e+11</td>\n",
       "      <td>1.724884e+02</td>\n",
       "      <td>7.321702e+00</td>\n",
       "      <td>1.003040e+00</td>\n",
       "      <td>4.109795e+02</td>\n",
       "      <td>1.093225e+02</td>\n",
       "      <td>2.030620e+01</td>\n",
       "      <td>5.292588e+01</td>\n",
       "      <td>1.776700e+04</td>\n",
       "      <td>1.834970e+04</td>\n",
       "      <td>4.483095e+01</td>\n",
       "    </tr>\n",
       "    <tr>\n",
       "      <th>std</th>\n",
       "      <td>1.347256e+01</td>\n",
       "      <td>1.657267e+12</td>\n",
       "      <td>1.338871e+02</td>\n",
       "      <td>1.571654e+00</td>\n",
       "      <td>3.083466e-01</td>\n",
       "      <td>7.573080e+02</td>\n",
       "      <td>1.220123e+03</td>\n",
       "      <td>1.574239e+02</td>\n",
       "      <td>8.754725e+02</td>\n",
       "      <td>4.036693e+04</td>\n",
       "      <td>4.095321e+04</td>\n",
       "      <td>3.128335e+03</td>\n",
       "    </tr>\n",
       "    <tr>\n",
       "      <th>min</th>\n",
       "      <td>8.000000e+00</td>\n",
       "      <td>0.000000e+00</td>\n",
       "      <td>0.000000e+00</td>\n",
       "      <td>5.000000e+00</td>\n",
       "      <td>0.000000e+00</td>\n",
       "      <td>0.000000e+00</td>\n",
       "      <td>0.000000e+00</td>\n",
       "      <td>0.000000e+00</td>\n",
       "      <td>0.000000e+00</td>\n",
       "      <td>0.000000e+00</td>\n",
       "      <td>0.000000e+00</td>\n",
       "      <td>0.000000e+00</td>\n",
       "    </tr>\n",
       "    <tr>\n",
       "      <th>25%</th>\n",
       "      <td>1.100000e+01</td>\n",
       "      <td>1.211080e+05</td>\n",
       "      <td>5.000000e+00</td>\n",
       "      <td>6.000000e+00</td>\n",
       "      <td>1.000000e+00</td>\n",
       "      <td>7.900000e+01</td>\n",
       "      <td>0.000000e+00</td>\n",
       "      <td>0.000000e+00</td>\n",
       "      <td>0.000000e+00</td>\n",
       "      <td>1.791000e+03</td>\n",
       "      <td>2.056000e+03</td>\n",
       "      <td>4.000000e+00</td>\n",
       "    </tr>\n",
       "    <tr>\n",
       "      <th>50%</th>\n",
       "      <td>1.100000e+01</td>\n",
       "      <td>4.945610e+05</td>\n",
       "      <td>2.030000e+02</td>\n",
       "      <td>8.000000e+00</td>\n",
       "      <td>1.000000e+00</td>\n",
       "      <td>2.740000e+02</td>\n",
       "      <td>0.000000e+00</td>\n",
       "      <td>0.000000e+00</td>\n",
       "      <td>0.000000e+00</td>\n",
       "      <td>7.690000e+03</td>\n",
       "      <td>8.192000e+03</td>\n",
       "      <td>4.000000e+00</td>\n",
       "    </tr>\n",
       "    <tr>\n",
       "      <th>75%</th>\n",
       "      <td>4.000000e+01</td>\n",
       "      <td>1.115161e+06</td>\n",
       "      <td>2.070000e+02</td>\n",
       "      <td>9.000000e+00</td>\n",
       "      <td>1.000000e+00</td>\n",
       "      <td>6.000000e+02</td>\n",
       "      <td>0.000000e+00</td>\n",
       "      <td>0.000000e+00</td>\n",
       "      <td>0.000000e+00</td>\n",
       "      <td>2.166000e+04</td>\n",
       "      <td>2.234300e+04</td>\n",
       "      <td>4.000000e+00</td>\n",
       "    </tr>\n",
       "    <tr>\n",
       "      <th>max</th>\n",
       "      <td>4.500000e+01</td>\n",
       "      <td>2.798115e+13</td>\n",
       "      <td>6.000000e+02</td>\n",
       "      <td>4.130000e+02</td>\n",
       "      <td>5.000000e+01</td>\n",
       "      <td>9.999100e+05</td>\n",
       "      <td>9.990730e+05</td>\n",
       "      <td>6.449200e+04</td>\n",
       "      <td>5.479460e+05</td>\n",
       "      <td>2.800280e+06</td>\n",
       "      <td>2.870972e+06</td>\n",
       "      <td>6.366240e+05</td>\n",
       "    </tr>\n",
       "  </tbody>\n",
       "</table>\n",
       "</div>"
      ],
      "text/plain": [
       "         tarif_type  counter_number  counter_code  reading_remarque  \\\n",
       "count  4.476749e+06    4.476749e+06  4.476749e+06      4.476749e+06   \n",
       "mean   2.012804e+01    1.230587e+11  1.724884e+02      7.321702e+00   \n",
       "std    1.347256e+01    1.657267e+12  1.338871e+02      1.571654e+00   \n",
       "min    8.000000e+00    0.000000e+00  0.000000e+00      5.000000e+00   \n",
       "25%    1.100000e+01    1.211080e+05  5.000000e+00      6.000000e+00   \n",
       "50%    1.100000e+01    4.945610e+05  2.030000e+02      8.000000e+00   \n",
       "75%    4.000000e+01    1.115161e+06  2.070000e+02      9.000000e+00   \n",
       "max    4.500000e+01    2.798115e+13  6.000000e+02      4.130000e+02   \n",
       "\n",
       "       counter_coefficient  consommation_level_1  consommation_level_2  \\\n",
       "count         4.476749e+06          4.476749e+06          4.476749e+06   \n",
       "mean          1.003040e+00          4.109795e+02          1.093225e+02   \n",
       "std           3.083466e-01          7.573080e+02          1.220123e+03   \n",
       "min           0.000000e+00          0.000000e+00          0.000000e+00   \n",
       "25%           1.000000e+00          7.900000e+01          0.000000e+00   \n",
       "50%           1.000000e+00          2.740000e+02          0.000000e+00   \n",
       "75%           1.000000e+00          6.000000e+02          0.000000e+00   \n",
       "max           5.000000e+01          9.999100e+05          9.990730e+05   \n",
       "\n",
       "       consommation_level_3  consommation_level_4     old_index     new_index  \\\n",
       "count          4.476749e+06          4.476749e+06  4.476749e+06  4.476749e+06   \n",
       "mean           2.030620e+01          5.292588e+01  1.776700e+04  1.834970e+04   \n",
       "std            1.574239e+02          8.754725e+02  4.036693e+04  4.095321e+04   \n",
       "min            0.000000e+00          0.000000e+00  0.000000e+00  0.000000e+00   \n",
       "25%            0.000000e+00          0.000000e+00  1.791000e+03  2.056000e+03   \n",
       "50%            0.000000e+00          0.000000e+00  7.690000e+03  8.192000e+03   \n",
       "75%            0.000000e+00          0.000000e+00  2.166000e+04  2.234300e+04   \n",
       "max            6.449200e+04          5.479460e+05  2.800280e+06  2.870972e+06   \n",
       "\n",
       "       months_number  \n",
       "count   4.476749e+06  \n",
       "mean    4.483095e+01  \n",
       "std     3.128335e+03  \n",
       "min     0.000000e+00  \n",
       "25%     4.000000e+00  \n",
       "50%     4.000000e+00  \n",
       "75%     4.000000e+00  \n",
       "max     6.366240e+05  "
      ]
     },
     "execution_count": 6,
     "metadata": {},
     "output_type": "execute_result"
    }
   ],
   "source": [
    "#Get a summary for all numerical columns\n",
    "invoice_train.describe()"
   ]
  },
  {
   "cell_type": "code",
   "execution_count": 7,
   "metadata": {
    "colab": {
     "base_uri": "https://localhost:8080/",
     "height": 300
    },
    "id": "egcBZ2ysSkji",
    "outputId": "37102972-554b-4063-ce3b-14dae74b3540"
   },
   "outputs": [
    {
     "data": {
      "text/html": [
       "<div>\n",
       "<style scoped>\n",
       "    .dataframe tbody tr th:only-of-type {\n",
       "        vertical-align: middle;\n",
       "    }\n",
       "\n",
       "    .dataframe tbody tr th {\n",
       "        vertical-align: top;\n",
       "    }\n",
       "\n",
       "    .dataframe thead th {\n",
       "        text-align: right;\n",
       "    }\n",
       "</style>\n",
       "<table border=\"1\" class=\"dataframe\">\n",
       "  <thead>\n",
       "    <tr style=\"text-align: right;\">\n",
       "      <th></th>\n",
       "      <th>disrict</th>\n",
       "      <th>client_catg</th>\n",
       "      <th>region</th>\n",
       "      <th>target</th>\n",
       "    </tr>\n",
       "  </thead>\n",
       "  <tbody>\n",
       "    <tr>\n",
       "      <th>count</th>\n",
       "      <td>135493.000000</td>\n",
       "      <td>135493.000000</td>\n",
       "      <td>135493.000000</td>\n",
       "      <td>135493.000000</td>\n",
       "    </tr>\n",
       "    <tr>\n",
       "      <th>mean</th>\n",
       "      <td>63.511222</td>\n",
       "      <td>11.512506</td>\n",
       "      <td>206.159809</td>\n",
       "      <td>0.055841</td>\n",
       "    </tr>\n",
       "    <tr>\n",
       "      <th>std</th>\n",
       "      <td>3.354400</td>\n",
       "      <td>4.423761</td>\n",
       "      <td>104.207044</td>\n",
       "      <td>0.229614</td>\n",
       "    </tr>\n",
       "    <tr>\n",
       "      <th>min</th>\n",
       "      <td>60.000000</td>\n",
       "      <td>11.000000</td>\n",
       "      <td>101.000000</td>\n",
       "      <td>0.000000</td>\n",
       "    </tr>\n",
       "    <tr>\n",
       "      <th>25%</th>\n",
       "      <td>62.000000</td>\n",
       "      <td>11.000000</td>\n",
       "      <td>103.000000</td>\n",
       "      <td>0.000000</td>\n",
       "    </tr>\n",
       "    <tr>\n",
       "      <th>50%</th>\n",
       "      <td>62.000000</td>\n",
       "      <td>11.000000</td>\n",
       "      <td>107.000000</td>\n",
       "      <td>0.000000</td>\n",
       "    </tr>\n",
       "    <tr>\n",
       "      <th>75%</th>\n",
       "      <td>69.000000</td>\n",
       "      <td>11.000000</td>\n",
       "      <td>307.000000</td>\n",
       "      <td>0.000000</td>\n",
       "    </tr>\n",
       "    <tr>\n",
       "      <th>max</th>\n",
       "      <td>69.000000</td>\n",
       "      <td>51.000000</td>\n",
       "      <td>399.000000</td>\n",
       "      <td>1.000000</td>\n",
       "    </tr>\n",
       "  </tbody>\n",
       "</table>\n",
       "</div>"
      ],
      "text/plain": [
       "             disrict    client_catg         region         target\n",
       "count  135493.000000  135493.000000  135493.000000  135493.000000\n",
       "mean       63.511222      11.512506     206.159809       0.055841\n",
       "std         3.354400       4.423761     104.207044       0.229614\n",
       "min        60.000000      11.000000     101.000000       0.000000\n",
       "25%        62.000000      11.000000     103.000000       0.000000\n",
       "50%        62.000000      11.000000     107.000000       0.000000\n",
       "75%        69.000000      11.000000     307.000000       0.000000\n",
       "max        69.000000      51.000000     399.000000       1.000000"
      ]
     },
     "execution_count": 7,
     "metadata": {},
     "output_type": "execute_result"
    }
   ],
   "source": [
    "#Get a summary for all numerical columns\n",
    "client_train.describe()"
   ]
  },
  {
   "cell_type": "code",
   "execution_count": 8,
   "metadata": {
    "colab": {
     "base_uri": "https://localhost:8080/"
    },
    "id": "-8gQmkajSnXs",
    "outputId": "fef429ad-2fd5-46e3-9d3b-32def757324c"
   },
   "outputs": [
    {
     "name": "stdout",
     "output_type": "stream",
     "text": [
      "<class 'pandas.core.frame.DataFrame'>\n",
      "RangeIndex: 4476749 entries, 0 to 4476748\n",
      "Data columns (total 16 columns):\n",
      " #   Column                Dtype \n",
      "---  ------                ----- \n",
      " 0   client_id             object\n",
      " 1   invoice_date          object\n",
      " 2   tarif_type            int64 \n",
      " 3   counter_number        int64 \n",
      " 4   counter_statue        object\n",
      " 5   counter_code          int64 \n",
      " 6   reading_remarque      int64 \n",
      " 7   counter_coefficient   int64 \n",
      " 8   consommation_level_1  int64 \n",
      " 9   consommation_level_2  int64 \n",
      " 10  consommation_level_3  int64 \n",
      " 11  consommation_level_4  int64 \n",
      " 12  old_index             int64 \n",
      " 13  new_index             int64 \n",
      " 14  months_number         int64 \n",
      " 15  counter_type          object\n",
      "dtypes: int64(12), object(4)\n",
      "memory usage: 546.5+ MB\n"
     ]
    }
   ],
   "source": [
    "#Get concise information of each column in dataset\n",
    "invoice_train.info()"
   ]
  },
  {
   "cell_type": "code",
   "execution_count": 9,
   "metadata": {
    "colab": {
     "base_uri": "https://localhost:8080/"
    },
    "id": "VII8aa8CSoed",
    "outputId": "330bd35b-fd37-422b-b718-c34d354661db"
   },
   "outputs": [
    {
     "name": "stdout",
     "output_type": "stream",
     "text": [
      "<class 'pandas.core.frame.DataFrame'>\n",
      "RangeIndex: 135493 entries, 0 to 135492\n",
      "Data columns (total 6 columns):\n",
      " #   Column         Non-Null Count   Dtype  \n",
      "---  ------         --------------   -----  \n",
      " 0   disrict        135493 non-null  int64  \n",
      " 1   client_id      135493 non-null  object \n",
      " 2   client_catg    135493 non-null  int64  \n",
      " 3   region         135493 non-null  int64  \n",
      " 4   creation_date  135493 non-null  object \n",
      " 5   target         135493 non-null  float64\n",
      "dtypes: float64(1), int64(3), object(2)\n",
      "memory usage: 6.2+ MB\n"
     ]
    }
   ],
   "source": [
    "#Get concise information of each column in dataset\n",
    "client_train.info()"
   ]
  },
  {
   "cell_type": "code",
   "execution_count": 10,
   "metadata": {
    "colab": {
     "base_uri": "https://localhost:8080/"
    },
    "id": "iiJ3e_pFSOWg",
    "outputId": "d074cb2a-d009-471f-f124-466db367df68"
   },
   "outputs": [
    {
     "name": "stdout",
     "output_type": "stream",
     "text": [
      "client_id - 135493\n",
      "invoice_date - 8275\n",
      "tarif_type - 17\n",
      "counter_number - 201893\n",
      "counter_statue - 12\n",
      "counter_code - 42\n",
      "reading_remarque - 8\n",
      "counter_coefficient - 16\n",
      "consommation_level_1 - 8295\n",
      "consommation_level_2 - 12576\n",
      "consommation_level_3 - 2253\n",
      "consommation_level_4 - 12075\n",
      "old_index - 155648\n",
      "new_index - 157980\n",
      "months_number - 1370\n",
      "counter_type - 2\n"
     ]
    }
   ],
   "source": [
    "#Getting unique values on the invoice train data\n",
    "for col in invoice_train.columns:\n",
    "    print(f\"{col} - {invoice_train[col].nunique()}\")"
   ]
  },
  {
   "cell_type": "code",
   "execution_count": 11,
   "metadata": {
    "colab": {
     "base_uri": "https://localhost:8080/"
    },
    "id": "uMC16gFETUAF",
    "outputId": "0e363f7b-35c4-45c2-c763-acf80585ef7c"
   },
   "outputs": [
    {
     "name": "stdout",
     "output_type": "stream",
     "text": [
      "disrict - 4\n",
      "client_id - 135493\n",
      "client_catg - 3\n",
      "region - 25\n",
      "creation_date - 8088\n",
      "target - 2\n"
     ]
    }
   ],
   "source": [
    "#Getting unique values on the invoice train data\n",
    "for col in client_train.columns:\n",
    "    print(f\"{col} - {client_train[col].nunique()}\")"
   ]
  },
  {
   "cell_type": "code",
   "execution_count": 12,
   "metadata": {
    "colab": {
     "base_uri": "https://localhost:8080/"
    },
    "id": "h10LPXsfVHhu",
    "outputId": "332ac9e1-02e3-4a3a-a8d6-1c8d706b9601"
   },
   "outputs": [
    {
     "data": {
      "text/plain": [
       "client_id               0\n",
       "invoice_date            0\n",
       "tarif_type              0\n",
       "counter_number          0\n",
       "counter_statue          0\n",
       "counter_code            0\n",
       "reading_remarque        0\n",
       "counter_coefficient     0\n",
       "consommation_level_1    0\n",
       "consommation_level_2    0\n",
       "consommation_level_3    0\n",
       "consommation_level_4    0\n",
       "old_index               0\n",
       "new_index               0\n",
       "months_number           0\n",
       "counter_type            0\n",
       "dtype: int64"
      ]
     },
     "execution_count": 12,
     "metadata": {},
     "output_type": "execute_result"
    }
   ],
   "source": [
    "#check for missing values\n",
    "invoice_train.isnull().sum()"
   ]
  },
  {
   "cell_type": "code",
   "execution_count": 13,
   "metadata": {
    "colab": {
     "base_uri": "https://localhost:8080/"
    },
    "id": "b3XyoiIbVO-b",
    "outputId": "9200e12f-66fd-43a4-edf4-daa1e1cfdd11"
   },
   "outputs": [
    {
     "data": {
      "text/plain": [
       "disrict          0\n",
       "client_id        0\n",
       "client_catg      0\n",
       "region           0\n",
       "creation_date    0\n",
       "target           0\n",
       "dtype: int64"
      ]
     },
     "execution_count": 13,
     "metadata": {},
     "output_type": "execute_result"
    }
   ],
   "source": [
    "#check for missing values\n",
    "client_train.isnull().sum()"
   ]
  },
  {
   "cell_type": "markdown",
   "metadata": {
    "id": "i3oZLTnSVSOT"
   },
   "source": [
    "No missing values in train set"
   ]
  },
  {
   "cell_type": "code",
   "execution_count": 14,
   "metadata": {
    "colab": {
     "base_uri": "https://localhost:8080/",
     "height": 281
    },
    "id": "JOzSAlEWTR3j",
    "outputId": "97a46548-924e-44a4-9b85-e40d01979b99"
   },
   "outputs": [
    {
     "data": {
      "image/png": "[encoded data removed]",
      "text/plain": [
       "<Figure size 432x288 with 1 Axes>"
      ]
     },
     "metadata": {
      "needs_background": "light"
     },
     "output_type": "display_data"
    }
   ],
   "source": [
    "#Visualize fraudulent activities\n",
    "fraudactivities = client_train.groupby(['target'])['client_id'].count()\n",
    "plt.bar(x=fraudactivities.index, height=fraudactivities.values, tick_label = [0,1])\n",
    "plt.title('Fraud - Target Distribution')\n",
    "plt.show()"
   ]
  },
  {
   "cell_type": "markdown",
   "metadata": {
    "id": "fQb7RZf_Ufn9"
   },
   "source": [
    "Target is highly imbalanced with fewer cases of fraudulent activities"
   ]
  },
  {
   "cell_type": "code",
   "execution_count": 15,
   "metadata": {
    "colab": {
     "base_uri": "https://localhost:8080/",
     "height": 545
    },
    "id": "v8G8BPgMUrVW",
    "outputId": "886941f9-3a90-48c2-ddac-75728bd7b935"
   },
   "outputs": [
    {
     "data": {
      "image/png": "[encoded data removed]",
      "text/plain": [
       "<Figure size 432x288 with 1 Axes>"
      ]
     },
     "metadata": {
      "needs_background": "light"
     },
     "output_type": "display_data"
    },
    {
     "data": {
      "image/png": "[encoded data removed]",
      "text/plain": [
       "<Figure size 432x288 with 1 Axes>"
      ]
     },
     "metadata": {
      "needs_background": "light"
     },
     "output_type": "display_data"
    }
   ],
   "source": [
    "#Visualize client distribution across districts and regions\n",
    "for col in ['disrict','region']:\n",
    "    region = client_train.groupby([col])['client_id'].count()\n",
    "    plt.bar(x=region.index, height=region.values)\n",
    "    plt.title(col+' distribution')\n",
    "    plt.show()"
   ]
  },
  {
   "cell_type": "markdown",
   "metadata": {},
   "source": [
    "### Seasonality of Fraud"
   ]
  },
  {
   "cell_type": "code",
   "execution_count": 16,
   "metadata": {},
   "outputs": [],
   "source": [
    "fraud_by_time = client_train.merge(invoice_train, how = 'left', on = 'client_id')\n",
    "fraud_by_time['month'] = pd.to_datetime(fraud_by_time['invoice_date']).dt.month"
   ]
  },
  {
   "cell_type": "code",
   "execution_count": 17,
   "metadata": {},
   "outputs": [],
   "source": [
    "fraud_by_time_agg = fraud_by_time[['target', 'month']].groupby(['month', 'target'], as_index = False).size()\n",
    "fraud_by_time_agg_month = fraud_by_time_agg.groupby(['month'], as_index = False)['size'].sum()\n",
    "fraud_by_time_agg_month.rename(columns = {'size': 'monthly_total'}, inplace = True)\n",
    "fraud_by_time_percent = fraud_by_time_agg_month.merge(fraud_by_time_agg, how = 'inner', on = 'month')\n",
    "fraud_by_time_percent['percent_fraud'] = fraud_by_time_percent['size'] / fraud_by_time_percent['monthly_total'] * 100\n",
    "fraud_by_time_percent = fraud_by_time_percent[fraud_by_time_percent['target'] == 1]\n",
    "\n",
    "fraud_by_time_percent['Seasons'] = np.where(fraud_by_time_percent['month'] <= 2, 'Winter', \n",
    "                                           np.where(fraud_by_time_percent['month'] <= 5, 'Spring',\n",
    "                                                   np.where(fraud_by_time_percent['month'] <= 8, 'Summer',\n",
    "                                                           np.where(fraud_by_time_percent['month'] <= 11, 'Fall', 'Winter'))))"
   ]
  },
  {
   "cell_type": "code",
   "execution_count": 18,
   "metadata": {},
   "outputs": [
    {
     "data": {
      "image/png": "[encoded data removed]",
      "text/plain": [
       "<Figure size 432x288 with 1 Axes>"
      ]
     },
     "metadata": {
      "needs_background": "light"
     },
     "output_type": "display_data"
    }
   ],
   "source": [
    "fraud_by_time_percent.plot(x = 'month', y = 'percent_fraud')\n",
    "plt.xlabel('Month of Fraud')\n",
    "plt.ylabel('Percent_Fraud')\n",
    "plt.title('Fraud Distribution by Month')\n",
    "plt.show()"
   ]
  },
  {
   "cell_type": "code",
   "execution_count": 19,
   "metadata": {},
   "outputs": [
    {
     "data": {
      "image/png": "[encoded data removed]",
      "text/plain": [
       "<Figure size 432x288 with 1 Axes>"
      ]
     },
     "metadata": {
      "needs_background": "light"
     },
     "output_type": "display_data"
    }
   ],
   "source": [
    "plt.bar(x = fraud_by_time_percent['Seasons'], height = fraud_by_time_percent['percent_fraud'])\n",
    "plt.xlabel('Season of Transaction')\n",
    "plt.ylabel('Percent_Fraud')\n",
    "plt.title('Fraud Distribution by Month')\n",
    "plt.ylim(7, 9.5)\n",
    "plt.show()"
   ]
  },
  {
   "cell_type": "markdown",
   "metadata": {
    "id": "0-LOrxdIU7-h"
   },
   "source": [
    "## Feature Engineering"
   ]
  },
  {
   "cell_type": "markdown",
   "metadata": {},
   "source": [
    "#### Convert the column invoice_date to date time format on both the invoice train and invoice test"
   ]
  },
  {
   "cell_type": "code",
   "execution_count": 20,
   "metadata": {
    "id": "aVypp4ahU9tq"
   },
   "outputs": [],
   "source": [
    "for df in [invoice_train,invoice_test]:\n",
    "    df['invoice_date'] = pd.to_datetime(df['invoice_date'])\n",
    "    df['month'] = df['invoice_date'].dt.month"
   ]
  },
  {
   "cell_type": "markdown",
   "metadata": {},
   "source": [
    "#### Encode labels in categorical column"
   ]
  },
  {
   "cell_type": "code",
   "execution_count": 21,
   "metadata": {
    "id": "sW2W5i63VYyK"
   },
   "outputs": [],
   "source": [
    "d = {\"ELEC\" : 0, \"GAZ\" : 1}\n",
    "invoice_train['counter_type'] = invoice_train['counter_type'].map(d)\n",
    "invoice_test['counter_type'] = invoice_test['counter_type'].map(d)"
   ]
  },
  {
   "cell_type": "markdown",
   "metadata": {},
   "source": [
    "#### Calculating Total Consumption Metrics - Across Customer's Lifetime"
   ]
  },
  {
   "cell_type": "code",
   "execution_count": 22,
   "metadata": {},
   "outputs": [],
   "source": [
    "invoice_train['total_consumption'] = invoice_train['consommation_level_1'] + invoice_train['consommation_level_2'] + invoice_train['consommation_level_3'] + invoice_train['consommation_level_4']\n",
    "invoice_test['total_consumption'] = invoice_test['consommation_level_1'] + invoice_test['consommation_level_2'] + invoice_test['consommation_level_3'] + invoice_test['consommation_level_4']"
   ]
  },
  {
   "cell_type": "markdown",
   "metadata": {},
   "source": [
    "#### Converting categorical columns to int for model"
   ]
  },
  {
   "cell_type": "code",
   "execution_count": 23,
   "metadata": {
    "id": "NldYnn0GWHAk"
   },
   "outputs": [],
   "source": [
    "client_train['client_catg'] = client_train['client_catg'].astype(int)\n",
    "client_train['disrict'] = client_train['disrict'].astype(int)\n",
    "\n",
    "client_test['client_catg'] = client_test['client_catg'].astype(int)\n",
    "client_test['disrict'] = client_test['disrict'].astype(int)"
   ]
  },
  {
   "cell_type": "markdown",
   "metadata": {},
   "source": [
    "#### Generating Features - Min, Max, Std, Mean, Range for Numerical Features"
   ]
  },
  {
   "cell_type": "code",
   "execution_count": 24,
   "metadata": {
    "id": "Bt7LJHhyXJji"
   },
   "outputs": [],
   "source": [
    "def aggregate_by_client_id(invoice_data):\n",
    "    \n",
    "    invoice_data['days_between_transactions'] = invoice_data.sort_values(['client_id', 'invoice_date'], \n",
    "                                                                         ascending = True).groupby('client_id')['invoice_date'].diff().dt.days.reset_index(drop = True)\n",
    "    \n",
    "    invoice_data['index_delta'] = invoice_data['new_index'] - invoice_data['old_index']\n",
    "    \n",
    "    aggs = {}\n",
    "    aggs['consommation_level_1'] = ['mean', 'max', 'std', 'min', 'sum']\n",
    "    aggs['consommation_level_2'] = ['mean', 'max', 'std', 'min', 'sum']\n",
    "    aggs['consommation_level_3'] = ['mean', 'max', 'std', 'min', 'sum']\n",
    "    aggs['consommation_level_4'] = ['mean', 'max', 'std', 'min', 'sum']\n",
    "    aggs['months_number'] = ['mean', 'max', 'std', 'min']\n",
    "    aggs['total_consumption'] = ['mean', 'max', 'std', 'min', 'sum']\n",
    "    aggs['days_between_transactions'] = ['mean', 'max', 'std', 'min']\n",
    "    aggs['index_delta'] = ['mean', 'max', 'std', 'min']\n",
    "    \n",
    "    aggs['counter_type'] = ['nunique']\n",
    "    aggs['counter_number'] = ['nunique']\n",
    "    aggs['reading_remarque'] = ['nunique']\n",
    "    aggs['counter_coefficient'] = ['nunique']\n",
    "    \n",
    "    agg_trans = invoice_data.groupby(['client_id']).agg(aggs)\n",
    "    agg_trans.columns = ['_'.join(col).strip() for col in agg_trans.columns.values]\n",
    "    agg_trans.reset_index(inplace=True)\n",
    "    \n",
    "    features = ['consommation_level_1', 'consommation_level_2', 'consommation_level_3', 'consommation_level_4',\n",
    "               'months_number', 'total_consumption', 'days_between_transactions', 'index_delta']\n",
    "    \n",
    "    for cols in features:\n",
    "        agg_trans[cols + '_range'] = agg_trans[cols + '_max'] - agg_trans[cols + '_min']\n",
    "        agg_trans[cols + '_std_over_mean'] = agg_trans[cols + '_std'] / agg_trans[cols + '_mean']\n",
    "    \n",
    "    spend_features = ['consommation_level_1', 'consommation_level_2', 'consommation_level_3', 'consommation_level_4', \n",
    "                      'total_consumption']\n",
    "    \n",
    "    metrics = ['mean', 'max', 'min', 'sum', 'range']\n",
    "    \n",
    "    for cols in spend_features:\n",
    "        agg_trans[cols + '_mean_per_billing_cycle'] = agg_trans[cols + '_mean'] / agg_trans['days_between_transactions_mean']\n",
    "        agg_trans[cols + '_max_per_billing_cycle'] = agg_trans[cols + '_max'] / agg_trans['days_between_transactions_mean']\n",
    "        agg_trans[cols + '_min_per_billing_cycle'] = agg_trans[cols + '_min'] / agg_trans['days_between_transactions_mean']\n",
    "        agg_trans[cols + '_sum_per_billing_cycle'] = agg_trans[cols + '_sum'] / agg_trans['days_between_transactions_mean']\n",
    "        agg_trans[cols + '_range_per_billing_cycle'] = agg_trans[cols + '_range'] / agg_trans['days_between_transactions_mean']\n",
    "    \n",
    "    billing_cycle_cols = agg_trans.columns[[x.endswith('_per_billing_cycle') for x in agg_trans.columns]].to_list()\n",
    "    \n",
    "    for cols in billing_cycle_cols:\n",
    "        agg_trans[cols] = [0 if math.isinf(x) == True else x for x in agg_trans[cols]]\n",
    "    \n",
    "    df = (invoice_data.groupby('client_id')\n",
    "            .size()\n",
    "            .reset_index(name='{}transactions_count'.format('1')))\n",
    "    \n",
    "    return pd.merge(df, agg_trans, on = 'client_id', how = 'left')"
   ]
  },
  {
   "cell_type": "markdown",
   "metadata": {},
   "source": [
    "#### Group invoice data by client_id"
   ]
  },
  {
   "cell_type": "code",
   "execution_count": 25,
   "metadata": {
    "id": "8gUjxEmKWZjp",
    "scrolled": true
   },
   "outputs": [],
   "source": [
    "agg_train = aggregate_by_client_id(invoice_train)\n",
    "agg_test = aggregate_by_client_id(invoice_test)"
   ]
  },
  {
   "cell_type": "code",
   "execution_count": 26,
   "metadata": {
    "colab": {
     "base_uri": "https://localhost:8080/",
     "height": 224
    },
    "id": "5cIpY1tGWrkw",
    "outputId": "c57de3d5-3efe-4e8a-9a0c-7362f05fca4c"
   },
   "outputs": [
    {
     "name": "stdout",
     "output_type": "stream",
     "text": [
      "(135493, 84)\n"
     ]
    },
    {
     "data": {
      "text/html": [
       "<div>\n",
       "<style scoped>\n",
       "    .dataframe tbody tr th:only-of-type {\n",
       "        vertical-align: middle;\n",
       "    }\n",
       "\n",
       "    .dataframe tbody tr th {\n",
       "        vertical-align: top;\n",
       "    }\n",
       "\n",
       "    .dataframe thead th {\n",
       "        text-align: right;\n",
       "    }\n",
       "</style>\n",
       "<table border=\"1\" class=\"dataframe\">\n",
       "  <thead>\n",
       "    <tr style=\"text-align: right;\">\n",
       "      <th></th>\n",
       "      <th>client_id</th>\n",
       "      <th>1transactions_count</th>\n",
       "      <th>consommation_level_1_mean</th>\n",
       "      <th>consommation_level_1_max</th>\n",
       "      <th>consommation_level_1_std</th>\n",
       "      <th>consommation_level_1_min</th>\n",
       "      <th>consommation_level_1_sum</th>\n",
       "      <th>consommation_level_2_mean</th>\n",
       "      <th>consommation_level_2_max</th>\n",
       "      <th>consommation_level_2_std</th>\n",
       "      <th>...</th>\n",
       "      <th>consommation_level_4_mean_per_billing_cycle</th>\n",
       "      <th>consommation_level_4_max_per_billing_cycle</th>\n",
       "      <th>consommation_level_4_min_per_billing_cycle</th>\n",
       "      <th>consommation_level_4_sum_per_billing_cycle</th>\n",
       "      <th>consommation_level_4_range_per_billing_cycle</th>\n",
       "      <th>total_consumption_mean_per_billing_cycle</th>\n",
       "      <th>total_consumption_max_per_billing_cycle</th>\n",
       "      <th>total_consumption_min_per_billing_cycle</th>\n",
       "      <th>total_consumption_sum_per_billing_cycle</th>\n",
       "      <th>total_consumption_range_per_billing_cycle</th>\n",
       "    </tr>\n",
       "  </thead>\n",
       "  <tbody>\n",
       "    <tr>\n",
       "      <th>0</th>\n",
       "      <td>train_Client_0</td>\n",
       "      <td>35</td>\n",
       "      <td>352.400000</td>\n",
       "      <td>1200</td>\n",
       "      <td>310.343472</td>\n",
       "      <td>38</td>\n",
       "      <td>12334</td>\n",
       "      <td>10.571429</td>\n",
       "      <td>186</td>\n",
       "      <td>43.568935</td>\n",
       "      <td>...</td>\n",
       "      <td>0.000000</td>\n",
       "      <td>0.000000</td>\n",
       "      <td>0.0</td>\n",
       "      <td>0.000000</td>\n",
       "      <td>0.000000</td>\n",
       "      <td>2.518063</td>\n",
       "      <td>9.615181</td>\n",
       "      <td>0.263620</td>\n",
       "      <td>88.132218</td>\n",
       "      <td>9.351561</td>\n",
       "    </tr>\n",
       "    <tr>\n",
       "      <th>1</th>\n",
       "      <td>train_Client_1</td>\n",
       "      <td>37</td>\n",
       "      <td>557.540541</td>\n",
       "      <td>1207</td>\n",
       "      <td>197.935960</td>\n",
       "      <td>190</td>\n",
       "      <td>20629</td>\n",
       "      <td>0.000000</td>\n",
       "      <td>0</td>\n",
       "      <td>0.000000</td>\n",
       "      <td>...</td>\n",
       "      <td>0.000000</td>\n",
       "      <td>0.000000</td>\n",
       "      <td>0.0</td>\n",
       "      <td>0.000000</td>\n",
       "      <td>0.000000</td>\n",
       "      <td>4.085377</td>\n",
       "      <td>8.844291</td>\n",
       "      <td>1.392225</td>\n",
       "      <td>151.158966</td>\n",
       "      <td>7.452066</td>\n",
       "    </tr>\n",
       "    <tr>\n",
       "      <th>2</th>\n",
       "      <td>train_Client_10</td>\n",
       "      <td>18</td>\n",
       "      <td>798.611111</td>\n",
       "      <td>2400</td>\n",
       "      <td>513.841374</td>\n",
       "      <td>188</td>\n",
       "      <td>14375</td>\n",
       "      <td>37.888889</td>\n",
       "      <td>682</td>\n",
       "      <td>160.748942</td>\n",
       "      <td>...</td>\n",
       "      <td>0.000000</td>\n",
       "      <td>0.000000</td>\n",
       "      <td>0.0</td>\n",
       "      <td>0.000000</td>\n",
       "      <td>0.000000</td>\n",
       "      <td>2.889758</td>\n",
       "      <td>10.647023</td>\n",
       "      <td>0.649461</td>\n",
       "      <td>52.015647</td>\n",
       "      <td>9.997561</td>\n",
       "    </tr>\n",
       "    <tr>\n",
       "      <th>3</th>\n",
       "      <td>train_Client_100</td>\n",
       "      <td>20</td>\n",
       "      <td>1.200000</td>\n",
       "      <td>15</td>\n",
       "      <td>3.607011</td>\n",
       "      <td>0</td>\n",
       "      <td>24</td>\n",
       "      <td>0.000000</td>\n",
       "      <td>0</td>\n",
       "      <td>0.000000</td>\n",
       "      <td>...</td>\n",
       "      <td>0.000000</td>\n",
       "      <td>0.000000</td>\n",
       "      <td>0.0</td>\n",
       "      <td>0.000000</td>\n",
       "      <td>0.000000</td>\n",
       "      <td>0.008559</td>\n",
       "      <td>0.106982</td>\n",
       "      <td>0.000000</td>\n",
       "      <td>0.171171</td>\n",
       "      <td>0.106982</td>\n",
       "    </tr>\n",
       "    <tr>\n",
       "      <th>4</th>\n",
       "      <td>train_Client_1000</td>\n",
       "      <td>14</td>\n",
       "      <td>663.714286</td>\n",
       "      <td>800</td>\n",
       "      <td>224.831365</td>\n",
       "      <td>124</td>\n",
       "      <td>9292</td>\n",
       "      <td>104.857143</td>\n",
       "      <td>400</td>\n",
       "      <td>167.155320</td>\n",
       "      <td>...</td>\n",
       "      <td>0.301127</td>\n",
       "      <td>3.133123</td>\n",
       "      <td>0.0</td>\n",
       "      <td>4.215773</td>\n",
       "      <td>3.133123</td>\n",
       "      <td>7.567418</td>\n",
       "      <td>19.536909</td>\n",
       "      <td>1.017035</td>\n",
       "      <td>105.943849</td>\n",
       "      <td>18.519874</td>\n",
       "    </tr>\n",
       "  </tbody>\n",
       "</table>\n",
       "<p>5 rows × 84 columns</p>\n",
       "</div>"
      ],
      "text/plain": [
       "           client_id  1transactions_count  consommation_level_1_mean  \\\n",
       "0     train_Client_0                   35                 352.400000   \n",
       "1     train_Client_1                   37                 557.540541   \n",
       "2    train_Client_10                   18                 798.611111   \n",
       "3   train_Client_100                   20                   1.200000   \n",
       "4  train_Client_1000                   14                 663.714286   \n",
       "\n",
       "   consommation_level_1_max  consommation_level_1_std  \\\n",
       "0                      1200                310.343472   \n",
       "1                      1207                197.935960   \n",
       "2                      2400                513.841374   \n",
       "3                        15                  3.607011   \n",
       "4                       800                224.831365   \n",
       "\n",
       "   consommation_level_1_min  consommation_level_1_sum  \\\n",
       "0                        38                     12334   \n",
       "1                       190                     20629   \n",
       "2                       188                     14375   \n",
       "3                         0                        24   \n",
       "4                       124                      9292   \n",
       "\n",
       "   consommation_level_2_mean  consommation_level_2_max  \\\n",
       "0                  10.571429                       186   \n",
       "1                   0.000000                         0   \n",
       "2                  37.888889                       682   \n",
       "3                   0.000000                         0   \n",
       "4                 104.857143                       400   \n",
       "\n",
       "   consommation_level_2_std  ...  consommation_level_4_mean_per_billing_cycle  \\\n",
       "0                 43.568935  ...                                     0.000000   \n",
       "1                  0.000000  ...                                     0.000000   \n",
       "2                160.748942  ...                                     0.000000   \n",
       "3                  0.000000  ...                                     0.000000   \n",
       "4                167.155320  ...                                     0.301127   \n",
       "\n",
       "   consommation_level_4_max_per_billing_cycle  \\\n",
       "0                                    0.000000   \n",
       "1                                    0.000000   \n",
       "2                                    0.000000   \n",
       "3                                    0.000000   \n",
       "4                                    3.133123   \n",
       "\n",
       "   consommation_level_4_min_per_billing_cycle  \\\n",
       "0                                         0.0   \n",
       "1                                         0.0   \n",
       "2                                         0.0   \n",
       "3                                         0.0   \n",
       "4                                         0.0   \n",
       "\n",
       "   consommation_level_4_sum_per_billing_cycle  \\\n",
       "0                                    0.000000   \n",
       "1                                    0.000000   \n",
       "2                                    0.000000   \n",
       "3                                    0.000000   \n",
       "4                                    4.215773   \n",
       "\n",
       "   consommation_level_4_range_per_billing_cycle  \\\n",
       "0                                      0.000000   \n",
       "1                                      0.000000   \n",
       "2                                      0.000000   \n",
       "3                                      0.000000   \n",
       "4                                      3.133123   \n",
       "\n",
       "   total_consumption_mean_per_billing_cycle  \\\n",
       "0                                  2.518063   \n",
       "1                                  4.085377   \n",
       "2                                  2.889758   \n",
       "3                                  0.008559   \n",
       "4                                  7.567418   \n",
       "\n",
       "   total_consumption_max_per_billing_cycle  \\\n",
       "0                                 9.615181   \n",
       "1                                 8.844291   \n",
       "2                                10.647023   \n",
       "3                                 0.106982   \n",
       "4                                19.536909   \n",
       "\n",
       "   total_consumption_min_per_billing_cycle  \\\n",
       "0                                 0.263620   \n",
       "1                                 1.392225   \n",
       "2                                 0.649461   \n",
       "3                                 0.000000   \n",
       "4                                 1.017035   \n",
       "\n",
       "   total_consumption_sum_per_billing_cycle  \\\n",
       "0                                88.132218   \n",
       "1                               151.158966   \n",
       "2                                52.015647   \n",
       "3                                 0.171171   \n",
       "4                               105.943849   \n",
       "\n",
       "   total_consumption_range_per_billing_cycle  \n",
       "0                                   9.351561  \n",
       "1                                   7.452066  \n",
       "2                                   9.997561  \n",
       "3                                   0.106982  \n",
       "4                                  18.519874  \n",
       "\n",
       "[5 rows x 84 columns]"
      ]
     },
     "execution_count": 26,
     "metadata": {},
     "output_type": "execute_result"
    }
   ],
   "source": [
    "print(agg_train.shape)\n",
    "agg_train.head()"
   ]
  },
  {
   "cell_type": "markdown",
   "metadata": {},
   "source": [
    "#### Merge aggregated data with client dataset"
   ]
  },
  {
   "cell_type": "code",
   "execution_count": 27,
   "metadata": {
    "id": "beXOMOEMW97l"
   },
   "outputs": [],
   "source": [
    "train = pd.merge(client_train, agg_train, on='client_id', how='left')\n",
    "test = pd.merge(client_test, agg_test, on='client_id', how='left')"
   ]
  },
  {
   "cell_type": "code",
   "execution_count": 28,
   "metadata": {},
   "outputs": [
    {
     "data": {
      "text/html": [
       "<div>\n",
       "<style scoped>\n",
       "    .dataframe tbody tr th:only-of-type {\n",
       "        vertical-align: middle;\n",
       "    }\n",
       "\n",
       "    .dataframe tbody tr th {\n",
       "        vertical-align: top;\n",
       "    }\n",
       "\n",
       "    .dataframe thead th {\n",
       "        text-align: right;\n",
       "    }\n",
       "</style>\n",
       "<table border=\"1\" class=\"dataframe\">\n",
       "  <thead>\n",
       "    <tr style=\"text-align: right;\">\n",
       "      <th></th>\n",
       "      <th>disrict</th>\n",
       "      <th>client_id</th>\n",
       "      <th>client_catg</th>\n",
       "      <th>region</th>\n",
       "      <th>creation_date</th>\n",
       "      <th>target</th>\n",
       "      <th>1transactions_count</th>\n",
       "      <th>consommation_level_1_mean</th>\n",
       "      <th>consommation_level_1_max</th>\n",
       "      <th>consommation_level_1_std</th>\n",
       "      <th>...</th>\n",
       "      <th>consommation_level_4_mean_per_billing_cycle</th>\n",
       "      <th>consommation_level_4_max_per_billing_cycle</th>\n",
       "      <th>consommation_level_4_min_per_billing_cycle</th>\n",
       "      <th>consommation_level_4_sum_per_billing_cycle</th>\n",
       "      <th>consommation_level_4_range_per_billing_cycle</th>\n",
       "      <th>total_consumption_mean_per_billing_cycle</th>\n",
       "      <th>total_consumption_max_per_billing_cycle</th>\n",
       "      <th>total_consumption_min_per_billing_cycle</th>\n",
       "      <th>total_consumption_sum_per_billing_cycle</th>\n",
       "      <th>total_consumption_range_per_billing_cycle</th>\n",
       "    </tr>\n",
       "  </thead>\n",
       "  <tbody>\n",
       "    <tr>\n",
       "      <th>0</th>\n",
       "      <td>60</td>\n",
       "      <td>train_Client_0</td>\n",
       "      <td>11</td>\n",
       "      <td>101</td>\n",
       "      <td>31/12/1994</td>\n",
       "      <td>0.0</td>\n",
       "      <td>35</td>\n",
       "      <td>352.400000</td>\n",
       "      <td>1200</td>\n",
       "      <td>310.343472</td>\n",
       "      <td>...</td>\n",
       "      <td>0.000000</td>\n",
       "      <td>0.000000</td>\n",
       "      <td>0.0</td>\n",
       "      <td>0.000000</td>\n",
       "      <td>0.000000</td>\n",
       "      <td>2.518063</td>\n",
       "      <td>9.615181</td>\n",
       "      <td>0.263620</td>\n",
       "      <td>88.132218</td>\n",
       "      <td>9.351561</td>\n",
       "    </tr>\n",
       "    <tr>\n",
       "      <th>1</th>\n",
       "      <td>69</td>\n",
       "      <td>train_Client_1</td>\n",
       "      <td>11</td>\n",
       "      <td>107</td>\n",
       "      <td>29/05/2002</td>\n",
       "      <td>0.0</td>\n",
       "      <td>37</td>\n",
       "      <td>557.540541</td>\n",
       "      <td>1207</td>\n",
       "      <td>197.935960</td>\n",
       "      <td>...</td>\n",
       "      <td>0.000000</td>\n",
       "      <td>0.000000</td>\n",
       "      <td>0.0</td>\n",
       "      <td>0.000000</td>\n",
       "      <td>0.000000</td>\n",
       "      <td>4.085377</td>\n",
       "      <td>8.844291</td>\n",
       "      <td>1.392225</td>\n",
       "      <td>151.158966</td>\n",
       "      <td>7.452066</td>\n",
       "    </tr>\n",
       "    <tr>\n",
       "      <th>2</th>\n",
       "      <td>62</td>\n",
       "      <td>train_Client_10</td>\n",
       "      <td>11</td>\n",
       "      <td>301</td>\n",
       "      <td>13/03/1986</td>\n",
       "      <td>0.0</td>\n",
       "      <td>18</td>\n",
       "      <td>798.611111</td>\n",
       "      <td>2400</td>\n",
       "      <td>513.841374</td>\n",
       "      <td>...</td>\n",
       "      <td>0.000000</td>\n",
       "      <td>0.000000</td>\n",
       "      <td>0.0</td>\n",
       "      <td>0.000000</td>\n",
       "      <td>0.000000</td>\n",
       "      <td>2.889758</td>\n",
       "      <td>10.647023</td>\n",
       "      <td>0.649461</td>\n",
       "      <td>52.015647</td>\n",
       "      <td>9.997561</td>\n",
       "    </tr>\n",
       "    <tr>\n",
       "      <th>3</th>\n",
       "      <td>69</td>\n",
       "      <td>train_Client_100</td>\n",
       "      <td>11</td>\n",
       "      <td>105</td>\n",
       "      <td>11/07/1996</td>\n",
       "      <td>0.0</td>\n",
       "      <td>20</td>\n",
       "      <td>1.200000</td>\n",
       "      <td>15</td>\n",
       "      <td>3.607011</td>\n",
       "      <td>...</td>\n",
       "      <td>0.000000</td>\n",
       "      <td>0.000000</td>\n",
       "      <td>0.0</td>\n",
       "      <td>0.000000</td>\n",
       "      <td>0.000000</td>\n",
       "      <td>0.008559</td>\n",
       "      <td>0.106982</td>\n",
       "      <td>0.000000</td>\n",
       "      <td>0.171171</td>\n",
       "      <td>0.106982</td>\n",
       "    </tr>\n",
       "    <tr>\n",
       "      <th>4</th>\n",
       "      <td>62</td>\n",
       "      <td>train_Client_1000</td>\n",
       "      <td>11</td>\n",
       "      <td>303</td>\n",
       "      <td>14/10/2014</td>\n",
       "      <td>0.0</td>\n",
       "      <td>14</td>\n",
       "      <td>663.714286</td>\n",
       "      <td>800</td>\n",
       "      <td>224.831365</td>\n",
       "      <td>...</td>\n",
       "      <td>0.301127</td>\n",
       "      <td>3.133123</td>\n",
       "      <td>0.0</td>\n",
       "      <td>4.215773</td>\n",
       "      <td>3.133123</td>\n",
       "      <td>7.567418</td>\n",
       "      <td>19.536909</td>\n",
       "      <td>1.017035</td>\n",
       "      <td>105.943849</td>\n",
       "      <td>18.519874</td>\n",
       "    </tr>\n",
       "  </tbody>\n",
       "</table>\n",
       "<p>5 rows × 89 columns</p>\n",
       "</div>"
      ],
      "text/plain": [
       "   disrict          client_id  client_catg  region creation_date  target  \\\n",
       "0       60     train_Client_0           11     101    31/12/1994     0.0   \n",
       "1       69     train_Client_1           11     107    29/05/2002     0.0   \n",
       "2       62    train_Client_10           11     301    13/03/1986     0.0   \n",
       "3       69   train_Client_100           11     105    11/07/1996     0.0   \n",
       "4       62  train_Client_1000           11     303    14/10/2014     0.0   \n",
       "\n",
       "   1transactions_count  consommation_level_1_mean  consommation_level_1_max  \\\n",
       "0                   35                 352.400000                      1200   \n",
       "1                   37                 557.540541                      1207   \n",
       "2                   18                 798.611111                      2400   \n",
       "3                   20                   1.200000                        15   \n",
       "4                   14                 663.714286                       800   \n",
       "\n",
       "   consommation_level_1_std  ...  consommation_level_4_mean_per_billing_cycle  \\\n",
       "0                310.343472  ...                                     0.000000   \n",
       "1                197.935960  ...                                     0.000000   \n",
       "2                513.841374  ...                                     0.000000   \n",
       "3                  3.607011  ...                                     0.000000   \n",
       "4                224.831365  ...                                     0.301127   \n",
       "\n",
       "   consommation_level_4_max_per_billing_cycle  \\\n",
       "0                                    0.000000   \n",
       "1                                    0.000000   \n",
       "2                                    0.000000   \n",
       "3                                    0.000000   \n",
       "4                                    3.133123   \n",
       "\n",
       "   consommation_level_4_min_per_billing_cycle  \\\n",
       "0                                         0.0   \n",
       "1                                         0.0   \n",
       "2                                         0.0   \n",
       "3                                         0.0   \n",
       "4                                         0.0   \n",
       "\n",
       "   consommation_level_4_sum_per_billing_cycle  \\\n",
       "0                                    0.000000   \n",
       "1                                    0.000000   \n",
       "2                                    0.000000   \n",
       "3                                    0.000000   \n",
       "4                                    4.215773   \n",
       "\n",
       "   consommation_level_4_range_per_billing_cycle  \\\n",
       "0                                      0.000000   \n",
       "1                                      0.000000   \n",
       "2                                      0.000000   \n",
       "3                                      0.000000   \n",
       "4                                      3.133123   \n",
       "\n",
       "   total_consumption_mean_per_billing_cycle  \\\n",
       "0                                  2.518063   \n",
       "1                                  4.085377   \n",
       "2                                  2.889758   \n",
       "3                                  0.008559   \n",
       "4                                  7.567418   \n",
       "\n",
       "   total_consumption_max_per_billing_cycle  \\\n",
       "0                                 9.615181   \n",
       "1                                 8.844291   \n",
       "2                                10.647023   \n",
       "3                                 0.106982   \n",
       "4                                19.536909   \n",
       "\n",
       "   total_consumption_min_per_billing_cycle  \\\n",
       "0                                 0.263620   \n",
       "1                                 1.392225   \n",
       "2                                 0.649461   \n",
       "3                                 0.000000   \n",
       "4                                 1.017035   \n",
       "\n",
       "   total_consumption_sum_per_billing_cycle  \\\n",
       "0                                88.132218   \n",
       "1                               151.158966   \n",
       "2                                52.015647   \n",
       "3                                 0.171171   \n",
       "4                               105.943849   \n",
       "\n",
       "   total_consumption_range_per_billing_cycle  \n",
       "0                                   9.351561  \n",
       "1                                   7.452066  \n",
       "2                                   9.997561  \n",
       "3                                   0.106982  \n",
       "4                                  18.519874  \n",
       "\n",
       "[5 rows x 89 columns]"
      ]
     },
     "execution_count": 28,
     "metadata": {},
     "output_type": "execute_result"
    }
   ],
   "source": [
    "train.head()"
   ]
  },
  {
   "cell_type": "markdown",
   "metadata": {},
   "source": [
    "#### Grouping Transactions By Electricity & Gas"
   ]
  },
  {
   "cell_type": "code",
   "execution_count": 29,
   "metadata": {},
   "outputs": [],
   "source": [
    "electricity_train = aggregate_by_client_id(invoice_train[invoice_train['counter_type'] == 0])\n",
    "electricity_train = electricity_train.add_prefix('electricity_')\n",
    "\n",
    "electricity_test = aggregate_by_client_id(invoice_test[invoice_test['counter_type'] == 0])\n",
    "electricity_test = electricity_test.add_prefix('electricity_')\n",
    "\n",
    "gas_train = aggregate_by_client_id(invoice_train[invoice_train['counter_type'] == 1])\n",
    "gas_train = gas_train.add_prefix('gas_')\n",
    "\n",
    "gas_test = aggregate_by_client_id(invoice_test[invoice_test['counter_type'] == 1])\n",
    "gas_test = gas_test.add_prefix('gas_')"
   ]
  },
  {
   "cell_type": "code",
   "execution_count": 30,
   "metadata": {},
   "outputs": [],
   "source": [
    "electricity_train.rename(columns = {'electricity_client_id' : 'client_id'}, inplace = True)\n",
    "electricity_test.rename(columns = {'electricity_client_id' : 'client_id'}, inplace = True)\n",
    "\n",
    "gas_train.rename(columns = {'gas_client_id' : 'client_id'}, inplace = True)\n",
    "gas_test.rename(columns = {'gas_client_id' : 'client_id'}, inplace = True)"
   ]
  },
  {
   "cell_type": "code",
   "execution_count": 31,
   "metadata": {},
   "outputs": [],
   "source": [
    "train = pd.merge(train, electricity_train, on='client_id', how='left')\n",
    "train = pd.merge(train, gas_train, on='client_id', how='left')\n",
    "\n",
    "test = pd.merge(test, electricity_test, on='client_id', how='left')\n",
    "test = pd.merge(test, gas_test, on='client_id', how='left')"
   ]
  },
  {
   "cell_type": "markdown",
   "metadata": {},
   "source": [
    "#### Time Metrics - Lifetime"
   ]
  },
  {
   "cell_type": "code",
   "execution_count": 32,
   "metadata": {},
   "outputs": [],
   "source": [
    "def time_features(invoice_data):\n",
    "\n",
    "    time_aggregated = invoice_data.groupby(['client_id'], as_index = False).agg({'invoice_date' : ['min', 'max']})\n",
    "    time_aggregated.columns = ['_'.join(col).strip() for col in time_aggregated.columns.values]\n",
    "\n",
    "    time_aggregated['customer_lifetime_months'] = (time_aggregated['invoice_date_max'] - time_aggregated['invoice_date_min']).dt.days/30\n",
    "    \n",
    "    current_time = datetime.datetime.now()\n",
    "    \n",
    "    time_aggregated['time_since_first_transaction_months'] = (current_time - time_aggregated['invoice_date_min']).dt.days/30\n",
    "    time_aggregated['time_since_last_transaction_months'] = (current_time - time_aggregated['invoice_date_max']).dt.days/30\n",
    "    \n",
    "    return time_aggregated"
   ]
  },
  {
   "cell_type": "code",
   "execution_count": 33,
   "metadata": {},
   "outputs": [],
   "source": [
    "time_features_train = time_features(invoice_train)\n",
    "time_features_test = time_features(invoice_test)"
   ]
  },
  {
   "cell_type": "code",
   "execution_count": 34,
   "metadata": {},
   "outputs": [],
   "source": [
    "train = pd.merge(train, time_features_train, left_on='client_id', right_on = 'client_id_', how = 'inner')\n",
    "train.drop(['client_id_'], axis = 1, inplace = True)\n",
    "\n",
    "test = pd.merge(test, time_features_test, left_on='client_id', right_on = 'client_id_', how = 'inner')\n",
    "test.drop(['client_id_'], axis = 1, inplace = True)"
   ]
  },
  {
   "cell_type": "code",
   "execution_count": 35,
   "metadata": {},
   "outputs": [],
   "source": [
    "def spend_features_over_time(data):\n",
    "    \n",
    "    data['transactions_per_month'] = data['1transactions_count'] / data['customer_lifetime_months']\n",
    "    data['level_1_spend_per_month'] = data['consommation_level_1_sum'] / data['customer_lifetime_months']\n",
    "    data['overall_spend_per_month'] = data['total_consumption_sum'] / data['customer_lifetime_months']\n",
    "    \n",
    "    cols = ['transactions_per_month', 'level_1_spend_per_month', 'overall_spend_per_month']\n",
    "    \n",
    "    for cols in cols:\n",
    "        data[cols] = [0 if math.isinf(x) == True else x for x in data[cols]]\n",
    "    \n",
    "    return data"
   ]
  },
  {
   "cell_type": "code",
   "execution_count": 36,
   "metadata": {},
   "outputs": [],
   "source": [
    "train = spend_features_over_time(train)\n",
    "test = spend_features_over_time(test)"
   ]
  },
  {
   "cell_type": "code",
   "execution_count": 37,
   "metadata": {},
   "outputs": [],
   "source": [
    "def first_transaction_features(data, client_train):\n",
    "    \n",
    "    first_transaction_per_client = data.groupby(['client_id'], as_index = False)['invoice_date'].min().rename(columns \n",
    "                                                                                                                  = {'invoice_date': \n",
    "                                                                                                                     'first_transaction_date'})\n",
    "    first_transaction_per_client = first_transaction_per_client.merge(client_train[['client_id', 'creation_date']], how = 'inner', on = 'client_id')\n",
    "    first_transaction_per_client['creation_date'] = pd.to_datetime(first_transaction_per_client['creation_date'])\n",
    "    first_transaction_per_client['months_from_account_creation_to_first_transaction'] = (first_transaction_per_client['first_transaction_date'] \n",
    "                                                                                         - first_transaction_per_client['creation_date']).dt.days/30\n",
    "    \n",
    "    first_transaction_per_client.drop(columns = ['first_transaction_date', 'creation_date'], inplace = True)\n",
    "    \n",
    "    return first_transaction_per_client"
   ]
  },
  {
   "cell_type": "code",
   "execution_count": 38,
   "metadata": {},
   "outputs": [],
   "source": [
    "first_transaction_train = first_transaction_features(invoice_train, client_train)\n",
    "first_transaction_test = first_transaction_features(invoice_test, client_test)"
   ]
  },
  {
   "cell_type": "code",
   "execution_count": 39,
   "metadata": {},
   "outputs": [],
   "source": [
    "train = pd.merge(train, first_transaction_train, how = 'inner', on = 'client_id')\n",
    "test = pd.merge(test, first_transaction_test, how = 'inner', on = 'client_id')"
   ]
  },
  {
   "cell_type": "markdown",
   "metadata": {},
   "source": [
    "#### Seasonality of Fraud"
   ]
  },
  {
   "cell_type": "code",
   "execution_count": 40,
   "metadata": {},
   "outputs": [],
   "source": [
    "def month_of_fraud(invoice_data):\n",
    "    \n",
    "    df = invoice_data[['client_id', 'month']].drop_duplicates()\n",
    "    \n",
    "    df['Seasons'] = np.where(df['month'] <= 2, 'Winter', \n",
    "                                           np.where(df['month'] <= 5, 'Spring',\n",
    "                                                   np.where(df['month'] <= 8, 'Summer',\n",
    "                                                           np.where(df['month'] <= 11, 'Fall', 'Winter'))))\n",
    "    \n",
    "    df['month'] = df['month'].astype('category')\n",
    "    \n",
    "    df_cat = pd.get_dummies(df[['month', 'Seasons']], drop_first = True, prefix = 'month', prefix_sep = '_')\n",
    "    output = df.merge(df_cat, how = 'inner', left_index = True, right_index = True)\n",
    "    output.drop(columns = ['month', 'Seasons'], inplace = True)\n",
    "    return output.groupby(['client_id'], as_index = False).max()"
   ]
  },
  {
   "cell_type": "code",
   "execution_count": 41,
   "metadata": {},
   "outputs": [],
   "source": [
    "invoice_train_month = month_of_fraud(invoice_train)\n",
    "invoice_test_month = month_of_fraud(invoice_test)"
   ]
  },
  {
   "cell_type": "code",
   "execution_count": 42,
   "metadata": {},
   "outputs": [],
   "source": [
    "train = train.merge(invoice_train_month, how = 'inner', on = 'client_id')\n",
    "test = test.merge(invoice_test_month, how = 'inner', on = 'client_id')"
   ]
  },
  {
   "cell_type": "markdown",
   "metadata": {},
   "source": [
    "#### Basket Size Features"
   ]
  },
  {
   "cell_type": "code",
   "execution_count": 43,
   "metadata": {},
   "outputs": [],
   "source": [
    "train['avg_transaction_value'] = train['total_consumption_sum'] / train['1transactions_count']\n",
    "test['avg_transaction_value'] = test['total_consumption_sum'] / test['1transactions_count']"
   ]
  },
  {
   "cell_type": "markdown",
   "metadata": {},
   "source": [
    "#### Dropping Unwanted / Redundant Columns"
   ]
  },
  {
   "cell_type": "code",
   "execution_count": 44,
   "metadata": {},
   "outputs": [],
   "source": [
    "categorical_columns = ['disrict', 'client_catg']\n",
    "\n",
    "for cols in categorical_columns:\n",
    "    train[cols] = train[cols].astype('category')\n",
    "    train_1 = pd.get_dummies(train[cols], drop_first = True, prefix = cols)\n",
    "    train = train.merge(train_1, how = 'inner', left_index = True, right_index = True)\n",
    "\n",
    "for cols in categorical_columns:\n",
    "    test[cols] = test[cols].astype('category')\n",
    "    test_1 = pd.get_dummies(test[cols], drop_first = True, prefix = cols)\n",
    "    test = test.merge(test_1, how = 'inner', left_index = True, right_index = True)"
   ]
  },
  {
   "cell_type": "code",
   "execution_count": 45,
   "metadata": {
    "colab": {
     "base_uri": "https://localhost:8080/"
    },
    "id": "dg0832jcXzkI",
    "outputId": "2c6ff557-0258-4310-d8f6-aad0627c9ddb"
   },
   "outputs": [
    {
     "data": {
      "text/plain": [
       "((135493, 284), (58069, 283))"
      ]
     },
     "execution_count": 45,
     "metadata": {},
     "output_type": "execute_result"
    }
   ],
   "source": [
    "train.shape, test.shape"
   ]
  },
  {
   "cell_type": "code",
   "execution_count": 46,
   "metadata": {},
   "outputs": [
    {
     "data": {
      "text/html": [
       "<div>\n",
       "<style scoped>\n",
       "    .dataframe tbody tr th:only-of-type {\n",
       "        vertical-align: middle;\n",
       "    }\n",
       "\n",
       "    .dataframe tbody tr th {\n",
       "        vertical-align: top;\n",
       "    }\n",
       "\n",
       "    .dataframe thead th {\n",
       "        text-align: right;\n",
       "    }\n",
       "</style>\n",
       "<table border=\"1\" class=\"dataframe\">\n",
       "  <thead>\n",
       "    <tr style=\"text-align: right;\">\n",
       "      <th></th>\n",
       "      <th>disrict</th>\n",
       "      <th>client_id</th>\n",
       "      <th>client_catg</th>\n",
       "      <th>region</th>\n",
       "      <th>creation_date</th>\n",
       "      <th>target</th>\n",
       "      <th>1transactions_count</th>\n",
       "      <th>consommation_level_1_mean</th>\n",
       "      <th>consommation_level_1_max</th>\n",
       "      <th>consommation_level_1_std</th>\n",
       "      <th>...</th>\n",
       "      <th>month_12</th>\n",
       "      <th>month_Spring</th>\n",
       "      <th>month_Summer</th>\n",
       "      <th>month_Winter</th>\n",
       "      <th>avg_transaction_value</th>\n",
       "      <th>disrict_62</th>\n",
       "      <th>disrict_63</th>\n",
       "      <th>disrict_69</th>\n",
       "      <th>client_catg_12</th>\n",
       "      <th>client_catg_51</th>\n",
       "    </tr>\n",
       "  </thead>\n",
       "  <tbody>\n",
       "    <tr>\n",
       "      <th>0</th>\n",
       "      <td>60</td>\n",
       "      <td>train_Client_0</td>\n",
       "      <td>11</td>\n",
       "      <td>101</td>\n",
       "      <td>31/12/1994</td>\n",
       "      <td>0.0</td>\n",
       "      <td>35</td>\n",
       "      <td>352.400000</td>\n",
       "      <td>1200</td>\n",
       "      <td>310.343472</td>\n",
       "      <td>...</td>\n",
       "      <td>1</td>\n",
       "      <td>1</td>\n",
       "      <td>1</td>\n",
       "      <td>1</td>\n",
       "      <td>362.971429</td>\n",
       "      <td>0</td>\n",
       "      <td>0</td>\n",
       "      <td>0</td>\n",
       "      <td>0</td>\n",
       "      <td>0</td>\n",
       "    </tr>\n",
       "    <tr>\n",
       "      <th>1</th>\n",
       "      <td>69</td>\n",
       "      <td>train_Client_1</td>\n",
       "      <td>11</td>\n",
       "      <td>107</td>\n",
       "      <td>29/05/2002</td>\n",
       "      <td>0.0</td>\n",
       "      <td>37</td>\n",
       "      <td>557.540541</td>\n",
       "      <td>1207</td>\n",
       "      <td>197.935960</td>\n",
       "      <td>...</td>\n",
       "      <td>0</td>\n",
       "      <td>1</td>\n",
       "      <td>1</td>\n",
       "      <td>1</td>\n",
       "      <td>557.540541</td>\n",
       "      <td>0</td>\n",
       "      <td>0</td>\n",
       "      <td>1</td>\n",
       "      <td>0</td>\n",
       "      <td>0</td>\n",
       "    </tr>\n",
       "    <tr>\n",
       "      <th>2</th>\n",
       "      <td>62</td>\n",
       "      <td>train_Client_10</td>\n",
       "      <td>11</td>\n",
       "      <td>301</td>\n",
       "      <td>13/03/1986</td>\n",
       "      <td>0.0</td>\n",
       "      <td>18</td>\n",
       "      <td>798.611111</td>\n",
       "      <td>2400</td>\n",
       "      <td>513.841374</td>\n",
       "      <td>...</td>\n",
       "      <td>0</td>\n",
       "      <td>1</td>\n",
       "      <td>1</td>\n",
       "      <td>1</td>\n",
       "      <td>836.500000</td>\n",
       "      <td>1</td>\n",
       "      <td>0</td>\n",
       "      <td>0</td>\n",
       "      <td>0</td>\n",
       "      <td>0</td>\n",
       "    </tr>\n",
       "    <tr>\n",
       "      <th>3</th>\n",
       "      <td>69</td>\n",
       "      <td>train_Client_100</td>\n",
       "      <td>11</td>\n",
       "      <td>105</td>\n",
       "      <td>11/07/1996</td>\n",
       "      <td>0.0</td>\n",
       "      <td>20</td>\n",
       "      <td>1.200000</td>\n",
       "      <td>15</td>\n",
       "      <td>3.607011</td>\n",
       "      <td>...</td>\n",
       "      <td>0</td>\n",
       "      <td>1</td>\n",
       "      <td>1</td>\n",
       "      <td>1</td>\n",
       "      <td>1.200000</td>\n",
       "      <td>0</td>\n",
       "      <td>0</td>\n",
       "      <td>1</td>\n",
       "      <td>0</td>\n",
       "      <td>0</td>\n",
       "    </tr>\n",
       "    <tr>\n",
       "      <th>4</th>\n",
       "      <td>62</td>\n",
       "      <td>train_Client_1000</td>\n",
       "      <td>11</td>\n",
       "      <td>303</td>\n",
       "      <td>14/10/2014</td>\n",
       "      <td>0.0</td>\n",
       "      <td>14</td>\n",
       "      <td>663.714286</td>\n",
       "      <td>800</td>\n",
       "      <td>224.831365</td>\n",
       "      <td>...</td>\n",
       "      <td>1</td>\n",
       "      <td>1</td>\n",
       "      <td>1</td>\n",
       "      <td>1</td>\n",
       "      <td>922.642857</td>\n",
       "      <td>1</td>\n",
       "      <td>0</td>\n",
       "      <td>0</td>\n",
       "      <td>0</td>\n",
       "      <td>0</td>\n",
       "    </tr>\n",
       "  </tbody>\n",
       "</table>\n",
       "<p>5 rows × 284 columns</p>\n",
       "</div>"
      ],
      "text/plain": [
       "  disrict          client_id client_catg  region creation_date  target  \\\n",
       "0      60     train_Client_0          11     101    31/12/1994     0.0   \n",
       "1      69     train_Client_1          11     107    29/05/2002     0.0   \n",
       "2      62    train_Client_10          11     301    13/03/1986     0.0   \n",
       "3      69   train_Client_100          11     105    11/07/1996     0.0   \n",
       "4      62  train_Client_1000          11     303    14/10/2014     0.0   \n",
       "\n",
       "   1transactions_count  consommation_level_1_mean  consommation_level_1_max  \\\n",
       "0                   35                 352.400000                      1200   \n",
       "1                   37                 557.540541                      1207   \n",
       "2                   18                 798.611111                      2400   \n",
       "3                   20                   1.200000                        15   \n",
       "4                   14                 663.714286                       800   \n",
       "\n",
       "   consommation_level_1_std  ...  month_12  month_Spring  month_Summer  \\\n",
       "0                310.343472  ...         1             1             1   \n",
       "1                197.935960  ...         0             1             1   \n",
       "2                513.841374  ...         0             1             1   \n",
       "3                  3.607011  ...         0             1             1   \n",
       "4                224.831365  ...         1             1             1   \n",
       "\n",
       "   month_Winter  avg_transaction_value  disrict_62  disrict_63  disrict_69  \\\n",
       "0             1             362.971429           0           0           0   \n",
       "1             1             557.540541           0           0           1   \n",
       "2             1             836.500000           1           0           0   \n",
       "3             1               1.200000           0           0           1   \n",
       "4             1             922.642857           1           0           0   \n",
       "\n",
       "   client_catg_12  client_catg_51  \n",
       "0               0               0  \n",
       "1               0               0  \n",
       "2               0               0  \n",
       "3               0               0  \n",
       "4               0               0  \n",
       "\n",
       "[5 rows x 284 columns]"
      ]
     },
     "execution_count": 46,
     "metadata": {},
     "output_type": "execute_result"
    }
   ],
   "source": [
    "train.head()"
   ]
  },
  {
   "cell_type": "code",
   "execution_count": 47,
   "metadata": {
    "id": "BwYBcKk8X3mr"
   },
   "outputs": [],
   "source": [
    "sub_client_id = test['client_id']\n",
    "drop_columns = ['client_id', 'creation_date', 'disrict', 'client_catg', 'region', 'invoice_date_min', 'invoice_date_max']\n",
    "\n",
    "for col in drop_columns:\n",
    "    if col in train.columns:\n",
    "        train.drop([col], axis=1, inplace=True)\n",
    "    if col in test.columns:\n",
    "        test.drop([col], axis=1, inplace=True)"
   ]
  },
  {
   "cell_type": "markdown",
   "metadata": {},
   "source": [
    "# Train Test Split"
   ]
  },
  {
   "cell_type": "code",
   "execution_count": 48,
   "metadata": {},
   "outputs": [
    {
     "data": {
      "text/plain": [
       "Index(['target', '1transactions_count', 'consommation_level_1_mean',\n",
       "       'consommation_level_1_max', 'consommation_level_1_std',\n",
       "       'consommation_level_1_min', 'consommation_level_1_sum',\n",
       "       'consommation_level_2_mean', 'consommation_level_2_max',\n",
       "       'consommation_level_2_std',\n",
       "       ...\n",
       "       'month_12', 'month_Spring', 'month_Summer', 'month_Winter',\n",
       "       'avg_transaction_value', 'disrict_62', 'disrict_63', 'disrict_69',\n",
       "       'client_catg_12', 'client_catg_51'],\n",
       "      dtype='object', length=277)"
      ]
     },
     "execution_count": 48,
     "metadata": {},
     "output_type": "execute_result"
    }
   ],
   "source": [
    "train.columns"
   ]
  },
  {
   "cell_type": "code",
   "execution_count": 49,
   "metadata": {},
   "outputs": [],
   "source": [
    "X = train.drop(columns=['target'])\n",
    "y = train['target']\n",
    "\n",
    "X = X.fillna(0)\n",
    "\n",
    "X_train, X_test, y_train, y_test = train_test_split(X, y, test_size = 0.3)\n",
    "\n",
    "X_train_better = X_train\n",
    "y_train_better = y_train"
   ]
  },
  {
   "cell_type": "markdown",
   "metadata": {
    "id": "iJ3KlVOCYfnZ"
   },
   "source": [
    "# Modelling - LGBM Classifier"
   ]
  },
  {
   "cell_type": "code",
   "execution_count": 50,
   "metadata": {},
   "outputs": [
    {
     "data": {
      "text/plain": [
       "LGBMClassifier(bagging_fraction=0.45359952491310546, boosting_type='gbdt',\n",
       "               class_weight=None, colsample_bytree=1.0, criterion='gini',\n",
       "               feature_fraction=0.5362732430623661, importance_type='split',\n",
       "               learning_rate=0.014434843245570792, max_depth=25,\n",
       "               min_child_samples=149, min_child_weight=0.001,\n",
       "               min_split_gain=0.06430401426692142, n_estimators=475, n_jobs=-1,\n",
       "               num_leaves=65, objective=None, random_state=None, reg_alpha=0.0,\n",
       "               reg_lambda=0.0, silent=True, splitter='best', subsample=1.0,\n",
       "               subsample_for_bin=200000, subsample_freq=0)"
      ]
     },
     "execution_count": 50,
     "metadata": {},
     "output_type": "execute_result"
    }
   ],
   "source": [
    "clf_lgbm = LGBMClassifier(criterion = 'gini',\n",
    "                            splitter = 'best',\n",
    "                            n_estimators = 475,\n",
    "                            learning_rate = 0.014434843245570792,\n",
    "                            max_depth = 25,\n",
    "                            num_leaves = 65,\n",
    "                            bagging_fraction = 0.45359952491310546,\n",
    "                            feature_fraction = 0.5362732430623661,\n",
    "                            min_child_samples = 149,\n",
    "                            min_split_gain = 0.06430401426692142,\n",
    "                            class_weight = None,\n",
    "                          n_jobs = -1)\n",
    "\n",
    "clf_lgbm.fit(X_train, y_train)"
   ]
  },
  {
   "cell_type": "code",
   "execution_count": 51,
   "metadata": {},
   "outputs": [
    {
     "name": "stdout",
     "output_type": "stream",
     "text": [
      "              precision    recall  f1-score   support\n",
      "\n",
      "         0.0       0.95      1.00      0.97     38366\n",
      "         1.0       0.52      0.03      0.06      2282\n",
      "\n",
      "    accuracy                           0.94     40648\n",
      "   macro avg       0.73      0.51      0.51     40648\n",
      "weighted avg       0.92      0.94      0.92     40648\n",
      "\n"
     ]
    }
   ],
   "source": [
    "print(classification_report(y_test, clf_lgbm.predict(X_test)))"
   ]
  },
  {
   "cell_type": "code",
   "execution_count": 52,
   "metadata": {},
   "outputs": [
    {
     "name": "stdout",
     "output_type": "stream",
     "text": [
      "              precision    recall  f1-score   support\n",
      "\n",
      "         0.0       0.95      1.00      0.97     89561\n",
      "         1.0       0.95      0.12      0.21      5284\n",
      "\n",
      "    accuracy                           0.95     94845\n",
      "   macro avg       0.95      0.56      0.59     94845\n",
      "weighted avg       0.95      0.95      0.93     94845\n",
      "\n"
     ]
    }
   ],
   "source": [
    "print(classification_report(y_train, clf_lgbm.predict(X_train)))"
   ]
  },
  {
   "cell_type": "code",
   "execution_count": 53,
   "metadata": {},
   "outputs": [
    {
     "data": {
      "text/plain": [
       "0.5146963927809475"
      ]
     },
     "execution_count": 53,
     "metadata": {},
     "output_type": "execute_result"
    }
   ],
   "source": [
    "roc_auc_score(y_test, clf_lgbm.predict(X_test))"
   ]
  },
  {
   "cell_type": "code",
   "execution_count": 54,
   "metadata": {},
   "outputs": [
    {
     "data": {
      "text/plain": [
       "0.5600920738529459"
      ]
     },
     "execution_count": 54,
     "metadata": {},
     "output_type": "execute_result"
    }
   ],
   "source": [
    "roc_auc_score(y_train, clf_lgbm.predict(X_train))"
   ]
  },
  {
   "cell_type": "code",
   "execution_count": 55,
   "metadata": {},
   "outputs": [
    {
     "data": {
      "text/html": [
       "<div>\n",
       "<style scoped>\n",
       "    .dataframe tbody tr th:only-of-type {\n",
       "        vertical-align: middle;\n",
       "    }\n",
       "\n",
       "    .dataframe tbody tr th {\n",
       "        vertical-align: top;\n",
       "    }\n",
       "\n",
       "    .dataframe thead th {\n",
       "        text-align: right;\n",
       "    }\n",
       "</style>\n",
       "<table border=\"1\" class=\"dataframe\">\n",
       "  <thead>\n",
       "    <tr style=\"text-align: right;\">\n",
       "      <th></th>\n",
       "      <th>target</th>\n",
       "      <th>0</th>\n",
       "    </tr>\n",
       "  </thead>\n",
       "  <tbody>\n",
       "    <tr>\n",
       "      <th>83538</th>\n",
       "      <td>0.0</td>\n",
       "      <td>0.0</td>\n",
       "    </tr>\n",
       "    <tr>\n",
       "      <th>16334</th>\n",
       "      <td>0.0</td>\n",
       "      <td>0.0</td>\n",
       "    </tr>\n",
       "    <tr>\n",
       "      <th>16900</th>\n",
       "      <td>0.0</td>\n",
       "      <td>0.0</td>\n",
       "    </tr>\n",
       "    <tr>\n",
       "      <th>79422</th>\n",
       "      <td>0.0</td>\n",
       "      <td>0.0</td>\n",
       "    </tr>\n",
       "    <tr>\n",
       "      <th>72739</th>\n",
       "      <td>0.0</td>\n",
       "      <td>0.0</td>\n",
       "    </tr>\n",
       "  </tbody>\n",
       "</table>\n",
       "</div>"
      ],
      "text/plain": [
       "       target    0\n",
       "83538     0.0  0.0\n",
       "16334     0.0  0.0\n",
       "16900     0.0  0.0\n",
       "79422     0.0  0.0\n",
       "72739     0.0  0.0"
      ]
     },
     "execution_count": 55,
     "metadata": {},
     "output_type": "execute_result"
    }
   ],
   "source": [
    "predicted_train = pd.DataFrame(clf_lgbm.predict(X_train))\n",
    "actual_predicted_comparison = pd.merge(pd.DataFrame(y_train), predicted_train, how = 'inner', left_index = True,\n",
    "                                       right_index = True)"
   ]
  },
  {
   "cell_type": "code",
   "execution_count": 58,
   "metadata": {},
   "outputs": [],
   "source": [
    "actual_predicted_comparison.rename(columns = {'target': 'actual', 0:'predicted'}, inplace = True)"
   ]
  },
  {
   "cell_type": "code",
   "execution_count": 59,
   "metadata": {},
   "outputs": [
    {
     "data": {
      "text/html": [
       "<div>\n",
       "<style scoped>\n",
       "    .dataframe tbody tr th:only-of-type {\n",
       "        vertical-align: middle;\n",
       "    }\n",
       "\n",
       "    .dataframe tbody tr th {\n",
       "        vertical-align: top;\n",
       "    }\n",
       "\n",
       "    .dataframe thead th {\n",
       "        text-align: right;\n",
       "    }\n",
       "</style>\n",
       "<table border=\"1\" class=\"dataframe\">\n",
       "  <thead>\n",
       "    <tr style=\"text-align: right;\">\n",
       "      <th></th>\n",
       "      <th>actual</th>\n",
       "      <th>predicted</th>\n",
       "    </tr>\n",
       "  </thead>\n",
       "  <tbody>\n",
       "    <tr>\n",
       "      <th>83538</th>\n",
       "      <td>0.0</td>\n",
       "      <td>0.0</td>\n",
       "    </tr>\n",
       "    <tr>\n",
       "      <th>16334</th>\n",
       "      <td>0.0</td>\n",
       "      <td>0.0</td>\n",
       "    </tr>\n",
       "    <tr>\n",
       "      <th>16900</th>\n",
       "      <td>0.0</td>\n",
       "      <td>0.0</td>\n",
       "    </tr>\n",
       "    <tr>\n",
       "      <th>79422</th>\n",
       "      <td>0.0</td>\n",
       "      <td>0.0</td>\n",
       "    </tr>\n",
       "    <tr>\n",
       "      <th>72739</th>\n",
       "      <td>0.0</td>\n",
       "      <td>0.0</td>\n",
       "    </tr>\n",
       "  </tbody>\n",
       "</table>\n",
       "</div>"
      ],
      "text/plain": [
       "       actual  predicted\n",
       "83538     0.0        0.0\n",
       "16334     0.0        0.0\n",
       "16900     0.0        0.0\n",
       "79422     0.0        0.0\n",
       "72739     0.0        0.0"
      ]
     },
     "execution_count": 59,
     "metadata": {},
     "output_type": "execute_result"
    }
   ],
   "source": [
    "actual_predicted_comparison.head()"
   ]
  },
  {
   "cell_type": "code",
   "execution_count": 55,
   "metadata": {},
   "outputs": [],
   "source": [
    "preds = clf_lgbm.predict_proba(test)[:,1]\n",
    "preds = pd.DataFrame(preds, columns=['target'])\n",
    "preds.head()\n",
    "\n",
    "submission = pd.DataFrame(\n",
    "    {\n",
    "        'client_id': sub_client_id,\n",
    "        'target': preds['target']\n",
    "    }\n",
    ")\n",
    "\n",
    "submission.head()\n",
    "\n",
    "submission.to_csv('submission_lgbm.csv', index=False)"
   ]
  },
  {
   "cell_type": "markdown",
   "metadata": {},
   "source": [
    "### Hyperparameter Tuning - Using Optuna with a Random Search to Speed up Training"
   ]
  },
  {
   "cell_type": "code",
   "execution_count": 50,
   "metadata": {},
   "outputs": [],
   "source": [
    "def objective_dt(trial, X, y):\n",
    "    param_grid = { \n",
    "    \n",
    "        'criterion' : trial.suggest_categorical('criterion', ['gini', 'entropy']),\n",
    "        'splitter' : trial.suggest_categorical('splitter', ['best', 'random']),\n",
    "        'n_estimators' : trial.suggest_int('n_estimators', 5, 500, steps = 5),\n",
    "        'learning_rate' : trial.suggest_uniform('learning_rate', 0.001, 0.2),\n",
    "        'max_depth' : trial.suggest_int('max_depth', 5, 500, steps = 5),\n",
    "        'num_leaves':trial.suggest_int('num_leaves', 5, 500, steps = 10),\n",
    "        'bagging_fraction' : trial.suggest_uniform('bagging_fraction', 0.001, 0.95),\n",
    "        'feature_fraction' : trial.suggest_uniform('feature_fraction', 0.001, 0.95),\n",
    "        'min_child_samples' : trial.suggest_int('min_child_samples', 25, 5000),\n",
    "        'min_split_gain': trial.suggest_uniform('min_split_gain', 0.001, 0.1),\n",
    "        'class_weight': trial.suggest_categorical('class_weight', ['balanced', None]),\n",
    "        'random_state' : 42\n",
    "}"
   ]
  },
  {
   "cell_type": "code",
   "execution_count": null,
   "metadata": {},
   "outputs": [],
   "source": [
    "# 'criterion': 'gini',\n",
    "#  'splitter': 'best',\n",
    "#  'n_estimators': 315,\n",
    "#  'learning_rate': 0.01796848572520029,\n",
    "#  'max_depth': 100,\n",
    "#  'num_leaves': 45,\n",
    "#  'bagging_fraction': 0.1631029249420016,\n",
    "#  'feature_fraction': 0.737835998796638,\n",
    "#  'min_child_samples': 136,\n",
    "#  'min_split_gain': 0.03223874112537372,\n",
    "#  'class_weight': None"
   ]
  },
  {
   "cell_type": "code",
   "execution_count": 63,
   "metadata": {},
   "outputs": [
    {
     "data": {
      "text/plain": [
       "LGBMClassifier(bagging_fraction=0.05838962405614604, boosting_type='gbdt',\n",
       "               class_weight=None, colsample_bytree=1.0,\n",
       "               feature_fraction=0.610643708814882, importance_type='split',\n",
       "               learning_rate=0.01569044751095259, max_depth=91,\n",
       "               min_child_samples=1242, min_child_weight=0.001,\n",
       "               min_split_gain=0.01427746828862676, n_estimators=498, n_jobs=-1,\n",
       "               num_leaves=31, objective=None, random_state=None, reg_alpha=0.0,\n",
       "               reg_lambda=0.0, silent=True, subsample=1.0,\n",
       "               subsample_for_bin=200000, subsample_freq=0)"
      ]
     },
     "execution_count": 63,
     "metadata": {},
     "output_type": "execute_result"
    }
   ],
   "source": [
    "# param_grid = { \n",
    "#     'n_estimators' : randint(5, 500),\n",
    "#     'learning_rate' : uniform(0.001, 0.2),\n",
    "#     'max_depth' : randint(2, 100),\n",
    "#     'bagging_fraction' : uniform(0.001, 0.95),\n",
    "#     'feature_fraction' : uniform(0.001, 0.95),\n",
    "#     'min_child_samples' : randint(25, 5000),\n",
    "#     'min_split_gain': uniform(0.001, 0.1)\n",
    "# }\n",
    "\n",
    "clf_lgbm = RandomizedSearchCV(LGBMClassifier(class_weight = 'balanced'), param_distributions = param_grid, cv = 5, n_jobs = -1, \n",
    "                        scoring = 'roc_auc', verbose = True, n_iter = 5000)\n",
    "\n",
    "clf_lgbm = LGBMClassifier(bagging_fraction = 0.05838962405614604,\n",
    "                          feature_fraction = 0.610643708814882,\n",
    "                          learning_rate = 0.01569044751095259,\n",
    "                          max_depth = 91,\n",
    "                          min_child_samples = 1242,\n",
    "                          min_split_gain = 0.01427746828862676,\n",
    "                          n_estimators = 498,\n",
    "                          n_jobs = -1)\n",
    "\n",
    "clf_lgbm.fit(X_train, y_train)"
   ]
  },
  {
   "cell_type": "code",
   "execution_count": 64,
   "metadata": {},
   "outputs": [],
   "source": [
    "# clf_lgbm.best_params_"
   ]
  },
  {
   "cell_type": "code",
   "execution_count": 65,
   "metadata": {},
   "outputs": [],
   "source": [
    "# clf_lgbm.best_score_"
   ]
  },
  {
   "cell_type": "code",
   "execution_count": 66,
   "metadata": {},
   "outputs": [
    {
     "name": "stdout",
     "output_type": "stream",
     "text": [
      "              precision    recall  f1-score   support\n",
      "\n",
      "         0.0       0.94      1.00      0.97     38348\n",
      "         1.0       0.58      0.03      0.05      2300\n",
      "\n",
      "    accuracy                           0.94     40648\n",
      "   macro avg       0.76      0.51      0.51     40648\n",
      "weighted avg       0.92      0.94      0.92     40648\n",
      "\n"
     ]
    }
   ],
   "source": [
    "print(classification_report(y_test, clf_lgbm.predict(X_test)))"
   ]
  },
  {
   "cell_type": "code",
   "execution_count": 67,
   "metadata": {},
   "outputs": [
    {
     "name": "stdout",
     "output_type": "stream",
     "text": [
      "              precision    recall  f1-score   support\n",
      "\n",
      "         0.0       0.95      1.00      0.97     89579\n",
      "         1.0       0.80      0.04      0.08      5266\n",
      "\n",
      "    accuracy                           0.95     94845\n",
      "   macro avg       0.88      0.52      0.53     94845\n",
      "weighted avg       0.94      0.95      0.92     94845\n",
      "\n"
     ]
    }
   ],
   "source": [
    "print(classification_report(y_train, clf_lgbm.predict(X_train)))"
   ]
  },
  {
   "cell_type": "code",
   "execution_count": 68,
   "metadata": {},
   "outputs": [],
   "source": [
    "# clf_lgbm = clf_lgbm.best_estimator_"
   ]
  },
  {
   "cell_type": "code",
   "execution_count": 69,
   "metadata": {},
   "outputs": [
    {
     "data": {
      "text/plain": [
       "0.5122654319028032"
      ]
     },
     "execution_count": 69,
     "metadata": {},
     "output_type": "execute_result"
    }
   ],
   "source": [
    "roc_auc_score(y_test, clf_lgbm.predict(X_test))"
   ]
  },
  {
   "cell_type": "code",
   "execution_count": 70,
   "metadata": {},
   "outputs": [
    {
     "data": {
      "text/plain": [
       "0.5204029943724561"
      ]
     },
     "execution_count": 70,
     "metadata": {},
     "output_type": "execute_result"
    }
   ],
   "source": [
    "roc_auc_score(y_train, clf_lgbm.predict(X_train))"
   ]
  },
  {
   "cell_type": "markdown",
   "metadata": {},
   "source": [
    "# Modelling - Random Forest"
   ]
  },
  {
   "cell_type": "code",
   "execution_count": 50,
   "metadata": {},
   "outputs": [
    {
     "name": "stdout",
     "output_type": "stream",
     "text": [
      "Fitting 3 folds for each of 1000 candidates, totalling 3000 fits\n"
     ]
    },
    {
     "name": "stderr",
     "output_type": "stream",
     "text": [
      "[Parallel(n_jobs=-1)]: Using backend LokyBackend with 80 concurrent workers.\n",
      "[Parallel(n_jobs=-1)]: Done 290 tasks      | elapsed: 24.2min\n",
      "[Parallel(n_jobs=-1)]: Done 640 tasks      | elapsed: 52.7min\n",
      "[Parallel(n_jobs=-1)]: Done 1090 tasks      | elapsed: 88.7min\n",
      "[Parallel(n_jobs=-1)]: Done 1640 tasks      | elapsed: 136.5min\n",
      "[Parallel(n_jobs=-1)]: Done 2290 tasks      | elapsed: 189.5min\n",
      "[Parallel(n_jobs=-1)]: Done 3000 out of 3000 | elapsed: 256.3min finished\n"
     ]
    },
    {
     "data": {
      "text/plain": [
       "RandomizedSearchCV(cv=3, error_score=nan,\n",
       "                   estimator=RandomForestClassifier(bootstrap=True,\n",
       "                                                    ccp_alpha=0.0,\n",
       "                                                    class_weight='balanced',\n",
       "                                                    criterion='gini',\n",
       "                                                    max_depth=None,\n",
       "                                                    max_features='auto',\n",
       "                                                    max_leaf_nodes=None,\n",
       "                                                    max_samples=None,\n",
       "                                                    min_impurity_decrease=0.0,\n",
       "                                                    min_impurity_split=None,\n",
       "                                                    min_samples_leaf=1,\n",
       "                                                    min_samples_split=2,\n",
       "                                                    min_weight_fraction_leaf=0.0,\n",
       "                                                    n_estimators=100,...\n",
       "                                        'min_samples_leaf': <scipy.stats._distn_infrastructure.rv_frozen object at 0x7f52a0111d30>,\n",
       "                                        'min_samples_split': <scipy.stats._distn_infrastructure.rv_frozen object at 0x7f52a0111278>,\n",
       "                                        'n_estimators': <scipy.stats._distn_infrastructure.rv_frozen object at 0x7f558c9fab00>},\n",
       "                   pre_dispatch='2*n_jobs', random_state=None, refit=True,\n",
       "                   return_train_score=False, scoring='roc_auc', verbose=True)"
      ]
     },
     "execution_count": 50,
     "metadata": {},
     "output_type": "execute_result"
    }
   ],
   "source": [
    "param_grid = {\n",
    "    'n_estimators' : randint(2, 5000),\n",
    "    'max_depth' : randint(2, 500),\n",
    "    'min_samples_split' : randint(2, 5000),\n",
    "    'min_samples_leaf' : randint(2, 5000),\n",
    "    'max_samples' : uniform(0.01, 0.9),\n",
    "    'max_features': ['auto', 'sqrt']\n",
    "    }\n",
    "\n",
    "clf_rf = RandomizedSearchCV(RandomForestClassifier(class_weight = 'balanced'), param_distributions = param_grid, \n",
    "                            n_jobs = -1, cv = 3, scoring = 'roc_auc', verbose = True, n_iter = 1000)\n",
    "\n",
    "# clf_rf = RandomForestClassifier(n_estimators = 75,\n",
    "#                                min_samples_split = 50,\n",
    "#                                min_samples_leaf = 10,\n",
    "#                                max_samples = 0.3,\n",
    "#                                max_features = 'sqrt',\n",
    "#                                max_depth = 30,\n",
    "#                               n_jobs = -1)\n",
    "\n",
    "clf_rf.fit(X_train_better, y_train_better)"
   ]
  },
  {
   "cell_type": "code",
   "execution_count": 51,
   "metadata": {},
   "outputs": [
    {
     "data": {
      "text/plain": [
       "{'max_depth': 171,\n",
       " 'max_features': 'auto',\n",
       " 'max_samples': 0.809694116779066,\n",
       " 'min_samples_leaf': 118,\n",
       " 'min_samples_split': 65,\n",
       " 'n_estimators': 4564}"
      ]
     },
     "execution_count": 51,
     "metadata": {},
     "output_type": "execute_result"
    }
   ],
   "source": [
    "clf_rf.best_params_"
   ]
  },
  {
   "cell_type": "code",
   "execution_count": 52,
   "metadata": {},
   "outputs": [
    {
     "data": {
      "text/plain": [
       "0.8256263129715026"
      ]
     },
     "execution_count": 52,
     "metadata": {},
     "output_type": "execute_result"
    }
   ],
   "source": [
    "clf_rf.best_score_"
   ]
  },
  {
   "cell_type": "code",
   "execution_count": 53,
   "metadata": {},
   "outputs": [
    {
     "name": "stdout",
     "output_type": "stream",
     "text": [
      "              precision    recall  f1-score   support\n",
      "\n",
      "         0.0       0.98      0.80      0.88     38348\n",
      "         1.0       0.18      0.71      0.28      2300\n",
      "\n",
      "    accuracy                           0.80     40648\n",
      "   macro avg       0.58      0.76      0.58     40648\n",
      "weighted avg       0.93      0.80      0.85     40648\n",
      "\n"
     ]
    }
   ],
   "source": [
    "print(classification_report(y_test, clf_rf.predict(X_test)))"
   ]
  },
  {
   "cell_type": "code",
   "execution_count": 54,
   "metadata": {},
   "outputs": [
    {
     "name": "stdout",
     "output_type": "stream",
     "text": [
      "              precision    recall  f1-score   support\n",
      "\n",
      "         0.0       0.99      0.81      0.89     89579\n",
      "         1.0       0.20      0.80      0.31      5266\n",
      "\n",
      "    accuracy                           0.81     94845\n",
      "   macro avg       0.59      0.80      0.60     94845\n",
      "weighted avg       0.94      0.81      0.86     94845\n",
      "\n"
     ]
    }
   ],
   "source": [
    "print(classification_report(y_train_better, clf_rf.predict(X_train_better)))"
   ]
  },
  {
   "cell_type": "code",
   "execution_count": 55,
   "metadata": {},
   "outputs": [
    {
     "data": {
      "text/plain": [
       "0.7563856399744219"
      ]
     },
     "execution_count": 55,
     "metadata": {},
     "output_type": "execute_result"
    }
   ],
   "source": [
    "roc_auc_score(y_test, clf_rf.predict(X_test))"
   ]
  },
  {
   "cell_type": "code",
   "execution_count": 56,
   "metadata": {},
   "outputs": [
    {
     "data": {
      "text/plain": [
       "0.8024338282549852"
      ]
     },
     "execution_count": 56,
     "metadata": {},
     "output_type": "execute_result"
    }
   ],
   "source": [
    "roc_auc_score(y_train_better, clf_rf.predict(X_train_better))"
   ]
  },
  {
   "cell_type": "code",
   "execution_count": 61,
   "metadata": {},
   "outputs": [],
   "source": [
    "test = test.fillna(0)\n",
    "test.replace([np.inf, -np.inf], 0, inplace=True)\n",
    "\n",
    "preds = clf_rf.predict_proba(test)[:,1]\n",
    "preds = pd.DataFrame(preds, columns=['target'])\n",
    "preds.head()\n",
    "\n",
    "submission = pd.DataFrame(\n",
    "    {\n",
    "        'client_id': sub_client_id,\n",
    "        'target': preds['target']\n",
    "    }\n",
    ")\n",
    "\n",
    "submission.head()\n",
    "\n",
    "submission.to_csv('submission_rf.csv', index=False)"
   ]
  },
  {
   "cell_type": "markdown",
   "metadata": {
    "id": "CKsrOiePadZ7"
   },
   "source": [
    "## Make Predictions on test set"
   ]
  },
  {
   "cell_type": "code",
   "execution_count": 71,
   "metadata": {},
   "outputs": [],
   "source": [
    "level_0 = list()\n",
    "level_0.append(('lgbm', clf_lgbm))\n",
    "level_0.append(('rf', clf_rf))"
   ]
  },
  {
   "cell_type": "code",
   "execution_count": 72,
   "metadata": {},
   "outputs": [],
   "source": [
    "stacked_model = StackingClassifier(estimators = level_0, final_estimator = LogisticRegression(), cv = 10)"
   ]
  },
  {
   "cell_type": "code",
   "execution_count": 73,
   "metadata": {},
   "outputs": [
    {
     "name": "stdout",
     "output_type": "stream",
     "text": [
      "Fitting 3 folds for each of 1000 candidates, totalling 3000 fits\n"
     ]
    },
    {
     "name": "stderr",
     "output_type": "stream",
     "text": [
      "[Parallel(n_jobs=-1)]: Using backend LokyBackend with 80 concurrent workers.\n",
      "[Parallel(n_jobs=-1)]: Done  40 tasks      | elapsed:  4.9min\n",
      "[Parallel(n_jobs=-1)]: Done 290 tasks      | elapsed: 25.1min\n",
      "[Parallel(n_jobs=-1)]: Done 640 tasks      | elapsed: 52.7min\n",
      "[Parallel(n_jobs=-1)]: Done 1090 tasks      | elapsed: 89.3min\n",
      "[Parallel(n_jobs=-1)]: Done 1640 tasks      | elapsed: 131.9min\n",
      "[Parallel(n_jobs=-1)]: Done 2290 tasks      | elapsed: 191.2min\n",
      "[Parallel(n_jobs=-1)]: Done 3000 out of 3000 | elapsed: 260.0min finished\n",
      "[Parallel(n_jobs=-1)]: Done  40 tasks      | elapsed:  4.0min\n",
      "[Parallel(n_jobs=-1)]: Done 290 tasks      | elapsed: 21.3min\n",
      "[Parallel(n_jobs=-1)]: Done 640 tasks      | elapsed: 41.4min\n",
      "[Parallel(n_jobs=-1)]: Done 1090 tasks      | elapsed: 68.7min\n",
      "[Parallel(n_jobs=-1)]: Done 1640 tasks      | elapsed: 103.2min\n",
      "[Parallel(n_jobs=-1)]: Done 2290 tasks      | elapsed: 145.8min\n",
      "[Parallel(n_jobs=-1)]: Done 3000 out of 3000 | elapsed: 197.4min finished\n"
     ]
    },
    {
     "name": "stdout",
     "output_type": "stream",
     "text": [
      "Fitting 3 folds for each of 1000 candidates, totalling 3000 fits\n"
     ]
    },
    {
     "name": "stderr",
     "output_type": "stream",
     "text": [
      "[Parallel(n_jobs=-1)]: Using backend LokyBackend with 80 concurrent workers.\n",
      "[Parallel(n_jobs=-1)]: Done  40 tasks      | elapsed:  2.7min\n",
      "[Parallel(n_jobs=-1)]: Done 290 tasks      | elapsed: 22.1min\n",
      "[Parallel(n_jobs=-1)]: Done 640 tasks      | elapsed: 46.3min\n",
      "[Parallel(n_jobs=-1)]: Done 1090 tasks      | elapsed: 80.5min\n",
      "[Parallel(n_jobs=-1)]: Done 1640 tasks      | elapsed: 127.2min\n",
      "[Parallel(n_jobs=-1)]: Done 2290 tasks      | elapsed: 358.7min\n",
      "[Parallel(n_jobs=-1)]: Done 3000 out of 3000 | elapsed: 668.5min finished\n"
     ]
    },
    {
     "name": "stdout",
     "output_type": "stream",
     "text": [
      "Fitting 3 folds for each of 1000 candidates, totalling 3000 fits\n"
     ]
    },
    {
     "name": "stderr",
     "output_type": "stream",
     "text": [
      "[Parallel(n_jobs=-1)]: Using backend LokyBackend with 80 concurrent workers.\n",
      "[Parallel(n_jobs=-1)]: Done  40 tasks      | elapsed:  2.0min\n",
      "[Parallel(n_jobs=-1)]: Done 290 tasks      | elapsed: 24.4min\n",
      "[Parallel(n_jobs=-1)]: Done 640 tasks      | elapsed: 49.5min\n",
      "[Parallel(n_jobs=-1)]: Done 1090 tasks      | elapsed: 83.7min\n",
      "[Parallel(n_jobs=-1)]: Done 1640 tasks      | elapsed: 120.0min\n",
      "[Parallel(n_jobs=-1)]: Done 2290 tasks      | elapsed: 163.6min\n",
      "[Parallel(n_jobs=-1)]: Done 3000 out of 3000 | elapsed: 228.7min finished\n"
     ]
    },
    {
     "name": "stdout",
     "output_type": "stream",
     "text": [
      "Fitting 3 folds for each of 1000 candidates, totalling 3000 fits\n"
     ]
    },
    {
     "name": "stderr",
     "output_type": "stream",
     "text": [
      "[Parallel(n_jobs=-1)]: Using backend LokyBackend with 80 concurrent workers.\n",
      "[Parallel(n_jobs=-1)]: Done  40 tasks      | elapsed: 10.1min\n",
      "[Parallel(n_jobs=-1)]: Done 290 tasks      | elapsed: 57.1min\n",
      "[Parallel(n_jobs=-1)]: Done 640 tasks      | elapsed: 86.3min\n",
      "[Parallel(n_jobs=-1)]: Done 1090 tasks      | elapsed: 115.0min\n",
      "[Parallel(n_jobs=-1)]: Done 1640 tasks      | elapsed: 152.1min\n",
      "[Parallel(n_jobs=-1)]: Done 2290 tasks      | elapsed: 193.4min\n",
      "[Parallel(n_jobs=-1)]: Done 3000 out of 3000 | elapsed: 250.0min finished\n"
     ]
    },
    {
     "name": "stdout",
     "output_type": "stream",
     "text": [
      "Fitting 3 folds for each of 1000 candidates, totalling 3000 fits\n"
     ]
    },
    {
     "name": "stderr",
     "output_type": "stream",
     "text": [
      "[Parallel(n_jobs=-1)]: Using backend LokyBackend with 80 concurrent workers.\n",
      "[Parallel(n_jobs=-1)]: Done  40 tasks      | elapsed:  2.0min\n",
      "[Parallel(n_jobs=-1)]: Done 290 tasks      | elapsed: 16.8min\n",
      "[Parallel(n_jobs=-1)]: Done 640 tasks      | elapsed: 39.1min\n",
      "[Parallel(n_jobs=-1)]: Done 1090 tasks      | elapsed: 71.1min\n",
      "[Parallel(n_jobs=-1)]: Done 1640 tasks      | elapsed: 113.5min\n",
      "[Parallel(n_jobs=-1)]: Done 2290 tasks      | elapsed: 157.7min\n"
     ]
    },
    {
     "name": "stdout",
     "output_type": "stream",
     "text": [
      "Fitting 3 folds for each of 1000 candidates, totalling 3000 fits\n"
     ]
    },
    {
     "name": "stderr",
     "output_type": "stream",
     "text": [
      "[Parallel(n_jobs=-1)]: Using backend LokyBackend with 80 concurrent workers.\n",
      "[Parallel(n_jobs=-1)]: Done  40 tasks      | elapsed:  5.1min\n",
      "[Parallel(n_jobs=-1)]: Done 290 tasks      | elapsed: 21.7min\n",
      "[Parallel(n_jobs=-1)]: Done 640 tasks      | elapsed: 48.1min\n",
      "[Parallel(n_jobs=-1)]: Done 1090 tasks      | elapsed: 80.7min\n",
      "[Parallel(n_jobs=-1)]: Done 1640 tasks      | elapsed: 116.9min\n",
      "[Parallel(n_jobs=-1)]: Done 2290 tasks      | elapsed: 163.2min\n",
      "[Parallel(n_jobs=-1)]: Done 3000 out of 3000 | elapsed: 215.4min finished\n"
     ]
    },
    {
     "name": "stdout",
     "output_type": "stream",
     "text": [
      "Fitting 3 folds for each of 1000 candidates, totalling 3000 fits\n"
     ]
    },
    {
     "name": "stderr",
     "output_type": "stream",
     "text": [
      "[Parallel(n_jobs=-1)]: Using backend LokyBackend with 80 concurrent workers.\n",
      "[Parallel(n_jobs=-1)]: Done  40 tasks      | elapsed:  2.4min\n",
      "[Parallel(n_jobs=-1)]: Done 290 tasks      | elapsed: 18.2min\n",
      "[Parallel(n_jobs=-1)]: Done 640 tasks      | elapsed: 42.2min\n",
      "[Parallel(n_jobs=-1)]: Done 1090 tasks      | elapsed: 74.2min\n",
      "[Parallel(n_jobs=-1)]: Done 1640 tasks      | elapsed: 111.8min\n",
      "[Parallel(n_jobs=-1)]: Done 2290 tasks      | elapsed: 157.7min\n",
      "[Parallel(n_jobs=-1)]: Done 3000 out of 3000 | elapsed: 209.1min finished\n"
     ]
    },
    {
     "name": "stdout",
     "output_type": "stream",
     "text": [
      "Fitting 3 folds for each of 1000 candidates, totalling 3000 fits\n"
     ]
    },
    {
     "name": "stderr",
     "output_type": "stream",
     "text": [
      "[Parallel(n_jobs=-1)]: Using backend LokyBackend with 80 concurrent workers.\n",
      "[Parallel(n_jobs=-1)]: Done  40 tasks      | elapsed:  2.2min\n",
      "[Parallel(n_jobs=-1)]: Done 290 tasks      | elapsed: 20.1min\n",
      "[Parallel(n_jobs=-1)]: Done 640 tasks      | elapsed: 43.9min\n",
      "[Parallel(n_jobs=-1)]: Done 1090 tasks      | elapsed: 72.1min\n",
      "[Parallel(n_jobs=-1)]: Done 1640 tasks      | elapsed: 113.9min\n",
      "[Parallel(n_jobs=-1)]: Done 2290 tasks      | elapsed: 153.9min\n",
      "[Parallel(n_jobs=-1)]: Done 3000 out of 3000 | elapsed: 205.2min finished\n"
     ]
    },
    {
     "name": "stdout",
     "output_type": "stream",
     "text": [
      "Fitting 3 folds for each of 1000 candidates, totalling 3000 fits\n"
     ]
    },
    {
     "name": "stderr",
     "output_type": "stream",
     "text": [
      "[Parallel(n_jobs=-1)]: Using backend LokyBackend with 80 concurrent workers.\n",
      "[Parallel(n_jobs=-1)]: Done  40 tasks      | elapsed:  2.4min\n",
      "[Parallel(n_jobs=-1)]: Done 290 tasks      | elapsed: 18.9min\n",
      "[Parallel(n_jobs=-1)]: Done 640 tasks      | elapsed: 39.0min\n",
      "[Parallel(n_jobs=-1)]: Done 1090 tasks      | elapsed: 71.5min\n",
      "[Parallel(n_jobs=-1)]: Done 1640 tasks      | elapsed: 107.8min\n",
      "[Parallel(n_jobs=-1)]: Done 2290 tasks      | elapsed: 148.5min\n",
      "[Parallel(n_jobs=-1)]: Done 3000 out of 3000 | elapsed: 208.3min finished\n"
     ]
    },
    {
     "name": "stdout",
     "output_type": "stream",
     "text": [
      "Fitting 3 folds for each of 1000 candidates, totalling 3000 fits\n"
     ]
    },
    {
     "name": "stderr",
     "output_type": "stream",
     "text": [
      "[Parallel(n_jobs=-1)]: Using backend LokyBackend with 80 concurrent workers.\n",
      "[Parallel(n_jobs=-1)]: Done  40 tasks      | elapsed:  3.3min\n",
      "[Parallel(n_jobs=-1)]: Done 290 tasks      | elapsed: 22.9min\n",
      "[Parallel(n_jobs=-1)]: Done 640 tasks      | elapsed: 51.5min\n",
      "[Parallel(n_jobs=-1)]: Done 1090 tasks      | elapsed: 90.1min\n",
      "[Parallel(n_jobs=-1)]: Done 1640 tasks      | elapsed: 129.8min\n",
      "[Parallel(n_jobs=-1)]: Done 2290 tasks      | elapsed: 175.0min\n",
      "[Parallel(n_jobs=-1)]: Done 3000 out of 3000 | elapsed: 226.1min finished\n"
     ]
    }
   ],
   "source": [
    "sclf = stacked_model.fit(X_train, y_train)"
   ]
  },
  {
   "cell_type": "code",
   "execution_count": 74,
   "metadata": {},
   "outputs": [
    {
     "data": {
      "text/plain": [
       "0.5609247411024131"
      ]
     },
     "execution_count": 74,
     "metadata": {},
     "output_type": "execute_result"
    }
   ],
   "source": [
    "roc_auc_score(y_train_better, sclf.predict(X_train_better))"
   ]
  },
  {
   "cell_type": "code",
   "execution_count": 75,
   "metadata": {},
   "outputs": [
    {
     "data": {
      "text/plain": [
       "0.5410879542496406"
      ]
     },
     "execution_count": 75,
     "metadata": {},
     "output_type": "execute_result"
    }
   ],
   "source": [
    "roc_auc_score(y_test, sclf.predict(X_test))"
   ]
  },
  {
   "cell_type": "code",
   "execution_count": 230,
   "metadata": {},
   "outputs": [],
   "source": [
    "preds = clf_lgbm.predict_proba(test)[:,1]\n",
    "preds = pd.DataFrame(preds, columns=['target'])\n",
    "preds.head()\n",
    "\n",
    "submission = pd.DataFrame(\n",
    "    {\n",
    "        'client_id': sub_client_id,\n",
    "        'target': preds['target']\n",
    "    }\n",
    ")\n",
    "\n",
    "submission.head()\n",
    "\n",
    "submission.to_csv('submission_lgbm.csv', index=False)"
   ]
  },
  {
   "cell_type": "code",
   "execution_count": null,
   "metadata": {},
   "outputs": [],
   "source": [
    "test = test.fillna(0)\n",
    "\n",
    "preds = clf_rf.predict_proba(test)[:,1]\n",
    "preds = pd.DataFrame(preds, columns=['target'])\n",
    "preds.head()\n",
    "\n",
    "submission = pd.DataFrame(\n",
    "    {\n",
    "        'client_id': sub_client_id,\n",
    "        'target': preds['target']\n",
    "    }\n",
    ")\n",
    "\n",
    "submission.head()\n",
    "\n",
    "submission.to_csv('submission_rf.csv', index=False)"
   ]
  },
  {
   "cell_type": "code",
   "execution_count": 76,
   "metadata": {},
   "outputs": [],
   "source": [
    "test.replace([np.inf, -np.inf], 0, inplace=True)\n",
    "test.fillna(0, inplace = True)\n",
    "\n",
    "preds = sclf.predict_proba(test)[:,1]\n",
    "preds = pd.DataFrame(preds, columns=['target'])\n",
    "preds.head()\n",
    "\n",
    "submission = pd.DataFrame(\n",
    "    {\n",
    "        'client_id': sub_client_id,\n",
    "        'target': preds['target']\n",
    "    }\n",
    ")\n",
    "\n",
    "submission.head()\n",
    "\n",
    "submission.to_csv('submission_stacked.csv', index=False)"
   ]
  }
 ],
 "metadata": {
  "colab": {
   "provenance": []
  },
  "kernelspec": {
   "display_name": "Python 3",
   "language": "python",
   "name": "python3"
  },
  "language_info": {
   "codemirror_mode": {
    "name": "ipython",
    "version": 3
   },
   "file_extension": ".py",
   "mimetype": "text/x-python",
   "name": "python",
   "nbconvert_exporter": "python",
   "pygments_lexer": "ipython3",
   "version": "3.6.8"
  }
 },
 "nbformat": 4,
 "nbformat_minor": 2
}
