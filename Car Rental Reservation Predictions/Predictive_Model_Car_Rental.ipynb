{
 "cells": [
  {
   "cell_type": "markdown",
   "id": "fc2bb30b",
   "metadata": {},
   "source": [
    "## Predictive Model for Car Rental Reservations"
   ]
  },
  {
   "cell_type": "markdown",
   "id": "729f73ff",
   "metadata": {},
   "source": [
    "### **Project Objective**: \n",
    "This project uses car rental data from Statistics Canada to predict which customers are looking to reserve a car rental."
   ]
  },
  {
   "cell_type": "markdown",
   "id": "c29afec1",
   "metadata": {},
   "source": [
    "### Modelling Process"
   ]
  },
  {
   "cell_type": "markdown",
   "id": "918c8ebb",
   "metadata": {},
   "source": [
    "Our client wants to determine which customers are likely to rent an automobile, so that they can be targetted with marketing campaigns. From a modelling perspective, that would require a binary classifier, with the outcome of interest being whether people will rent a car or not. The steps taken to build the binary classifier are as follows - \n",
    "\n",
    "<b> 1. Data Cleaning: </b>\n",
    "\n",
    "   - The data provided by the client did not have very intuitive column names, so one of the first data cleaning tasks was to rename the columns, to make them more intuitive and easier to work with. \n",
    "   - The data collected seems to be from a customer survey / form and questions are often skipped by the customer - so the data points have to be adjusted based on what is known for a given feature / column. \n",
    "   - Categorical data is present as integers in the raw data and have to be one-hot encoded / converted into dummy variables.\n",
    "\n",
    "\n",
    "<b> 2. Feature Engineering: </b> Different columns are added, binned to generate features. Features can be bucketed into the following broad categories - \n",
    "\n",
    "        - Route of Entry into Canada\n",
    "        - Class of Travel while Entering Canada\n",
    "        - Reason for Trip to Canada\n",
    "        - Mode of Transportation while in Canada\n",
    "        - Duration of Stay\n",
    "        - Accomodation in Canada \n",
    "        - Demographic Features of Customer\n",
    "        - Activity in Canada\n",
    "        - Customer Spend in Canada\n",
    "\n",
    "\n",
    "<b> 3. Feature Extraction: </b> An econometric method to feature selection is chosen here, where the features which can potentially impact a customer's decision to rent a car or not are selected, to be input into the model. \n",
    "\n",
    "\n",
    "<b> 4. Model Fitting: </b> \n",
    "- The data provided is split into in a 70:30 ratio into training and test sets respectively. The model will be fitted on the training set, essentially the model will learn the underlying patterns in the data from the training set. The model's performance will then be evaluated on the test set. The training and test sets are kept completely separate from each other, to prevent data leakage. \n",
    "\n",
    "\n",
    "- Three kinds of models are chosen for this binary classification problem:\n",
    "\n",
    "    1. <b> Decision Tree Classifier: </b> A decision tree approach splits the data in a way the gini impurity / misclassification rate can be minimized, until the positive and negative classes are distinctly separated. The positive class, in this case, is people who will rent, and the negative class constitutes people who would not rent. The decision tree also provides us with a feature importance chart, where the most important features impacting the decision to rent or not, can be seen to bubble up.\n",
    "\n",
    "    2. <b> K-Nearest Neighbors Classifier (KNN): </b> The KNN classifier segments customers based on their resemblance / proximity to other similar data points. The most important features identified from the decision tree is used as input to the KNN classifier as it is a very computationally expensive algorithm. The data input to the model is scaled and normalized so that all features range between -1 and 1.  \n",
    "    \n",
    "    3. <b> Logistic Regression Classifier: </b> The logistic regression classifier fits a sigmoid function to the underlying data to estimate the probability of a customer renting a car or not. Since the training data was imbalanced (there were more people who didn't rent than people who did), threshold tuning was performed.\n",
    "    \n",
    "\n",
    "<b> 5. Hyper Parameter Tuning + Cross Validation: </b> The hyper-parameters, or configuration settings of the model which can impact model performance, are selected. In this case, a grid search approach is taken, where the model is provided with a range of input values for the hyper-parameters - the model is trained on each value in the solution space and the set of values which provide the best output is chosen. The range of input values are then narrowed based on the findings and the model is trained on each value again, now in a smaller solution space, to identify the best output. This is repeated a few times, until the model performance stops changing. \n",
    "\n",
    "This is paired with cross-validation, implying the model is trained multiple times for each hyper parameter, on different slices of the data, every single time, and the average of the results is presented. This ensures the model stays general and does not memorize the noise / overfit on any specific part of the dataset.\n",
    "\n",
    "While the hyper-parameter tuning is performed, 'recall' is used as the scoring criteria and the hyper-parameter tuning aimed to maximize the recall for each model. Since the model will be used for marketing purposes, it is essential to cast a wider net and capture as many potential customers as possible. (Further explanation provided in Answer to 1c and 1d) \n",
    "\n",
    "\n",
    "<b> 6. Model Evaluation: </b> For each model, the precision, recall, F-1 score and Area Under the Curve (AUC) are calculated. The precision score indicates how accurately people who will rent a car are being predicted. The recall indicates what proportion of people who will actually rent are being captured by the model. F-1 score and AUC indicate how well the model fits the underlying data. These metrics are calculated differently for the training datasets and the testing datasets for each model. The confusion matrix is also printed for each model, as that can help us quantify the False Positives and False Negatives in each model. The evaluation metrics in the train and test sets are compared and contrasted for each model, to ensure there is no overfitting."
   ]
  },
  {
   "cell_type": "code",
   "execution_count": 94,
   "id": "7878bb2e",
   "metadata": {},
   "outputs": [],
   "source": [
    "import pandas as pd\n",
    "import numpy as np \n",
    "import matplotlib.pyplot as plt\n",
    "import seaborn as sns\n",
    "from sklearn.tree import DecisionTreeClassifier\n",
    "from sklearn.model_selection import train_test_split, GridSearchCV\n",
    "from sklearn.metrics import recall_score, precision_score, accuracy_score, f1_score, auc\n",
    "from sklearn.linear_model import LogisticRegression\n",
    "from dmba import classificationSummary\n",
    "from sklearn.neighbors import KNeighborsClassifier\n",
    "from sklearn.preprocessing import StandardScaler"
   ]
  },
  {
   "cell_type": "code",
   "execution_count": 95,
   "id": "b7a31726",
   "metadata": {},
   "outputs": [],
   "source": [
    "df = pd.read_excel('/Users/mohammadananjaved/Desktop/MMA867/VTS_2018_PUMF_CSV.xlsx', index_col = 'VPUMFID')"
   ]
  },
  {
   "cell_type": "code",
   "execution_count": 96,
   "id": "2f258279",
   "metadata": {},
   "outputs": [
    {
     "data": {
      "text/html": [
       "<div>\n",
       "<style scoped>\n",
       "    .dataframe tbody tr th:only-of-type {\n",
       "        vertical-align: middle;\n",
       "    }\n",
       "\n",
       "    .dataframe tbody tr th {\n",
       "        vertical-align: top;\n",
       "    }\n",
       "\n",
       "    .dataframe thead th {\n",
       "        text-align: right;\n",
       "    }\n",
       "</style>\n",
       "<table border=\"1\" class=\"dataframe\">\n",
       "  <thead>\n",
       "    <tr style=\"text-align: right;\">\n",
       "      <th></th>\n",
       "      <th>VQUARTER</th>\n",
       "      <th>VPRVENTP</th>\n",
       "      <th>VTPSZE</th>\n",
       "      <th>VRSN3P</th>\n",
       "      <th>VMODENTP</th>\n",
       "      <th>VRTEN</th>\n",
       "      <th>VRTEX</th>\n",
       "      <th>VCFARE1</th>\n",
       "      <th>VCFARE2</th>\n",
       "      <th>VCFARE3</th>\n",
       "      <th>...</th>\n",
       "      <th>VM45_54P</th>\n",
       "      <th>VM55_64P</th>\n",
       "      <th>VM_65P</th>\n",
       "      <th>VF0_17P</th>\n",
       "      <th>VF18_24P</th>\n",
       "      <th>VF25_34P</th>\n",
       "      <th>VF35_44P</th>\n",
       "      <th>VF45_54P</th>\n",
       "      <th>VF55_64P</th>\n",
       "      <th>VF_65P</th>\n",
       "    </tr>\n",
       "    <tr>\n",
       "      <th>VPUMFID</th>\n",
       "      <th></th>\n",
       "      <th></th>\n",
       "      <th></th>\n",
       "      <th></th>\n",
       "      <th></th>\n",
       "      <th></th>\n",
       "      <th></th>\n",
       "      <th></th>\n",
       "      <th></th>\n",
       "      <th></th>\n",
       "      <th></th>\n",
       "      <th></th>\n",
       "      <th></th>\n",
       "      <th></th>\n",
       "      <th></th>\n",
       "      <th></th>\n",
       "      <th></th>\n",
       "      <th></th>\n",
       "      <th></th>\n",
       "      <th></th>\n",
       "      <th></th>\n",
       "    </tr>\n",
       "  </thead>\n",
       "  <tbody>\n",
       "    <tr>\n",
       "      <th>100000</th>\n",
       "      <td>3</td>\n",
       "      <td>35</td>\n",
       "      <td>5</td>\n",
       "      <td>1</td>\n",
       "      <td>2</td>\n",
       "      <td>1</td>\n",
       "      <td>1</td>\n",
       "      <td>6</td>\n",
       "      <td>6</td>\n",
       "      <td>6</td>\n",
       "      <td>...</td>\n",
       "      <td>0</td>\n",
       "      <td>0</td>\n",
       "      <td>0</td>\n",
       "      <td>1</td>\n",
       "      <td>0</td>\n",
       "      <td>1</td>\n",
       "      <td>0</td>\n",
       "      <td>0</td>\n",
       "      <td>0</td>\n",
       "      <td>0</td>\n",
       "    </tr>\n",
       "    <tr>\n",
       "      <th>100001</th>\n",
       "      <td>2</td>\n",
       "      <td>35</td>\n",
       "      <td>2</td>\n",
       "      <td>1</td>\n",
       "      <td>2</td>\n",
       "      <td>1</td>\n",
       "      <td>1</td>\n",
       "      <td>6</td>\n",
       "      <td>6</td>\n",
       "      <td>6</td>\n",
       "      <td>...</td>\n",
       "      <td>0</td>\n",
       "      <td>1</td>\n",
       "      <td>1</td>\n",
       "      <td>0</td>\n",
       "      <td>0</td>\n",
       "      <td>0</td>\n",
       "      <td>0</td>\n",
       "      <td>0</td>\n",
       "      <td>0</td>\n",
       "      <td>0</td>\n",
       "    </tr>\n",
       "    <tr>\n",
       "      <th>100002</th>\n",
       "      <td>4</td>\n",
       "      <td>35</td>\n",
       "      <td>1</td>\n",
       "      <td>10</td>\n",
       "      <td>1</td>\n",
       "      <td>2</td>\n",
       "      <td>2</td>\n",
       "      <td>2</td>\n",
       "      <td>2</td>\n",
       "      <td>1</td>\n",
       "      <td>...</td>\n",
       "      <td>0</td>\n",
       "      <td>0</td>\n",
       "      <td>0</td>\n",
       "      <td>0</td>\n",
       "      <td>0</td>\n",
       "      <td>0</td>\n",
       "      <td>0</td>\n",
       "      <td>0</td>\n",
       "      <td>0</td>\n",
       "      <td>0</td>\n",
       "    </tr>\n",
       "    <tr>\n",
       "      <th>100003</th>\n",
       "      <td>3</td>\n",
       "      <td>59</td>\n",
       "      <td>2</td>\n",
       "      <td>5</td>\n",
       "      <td>2</td>\n",
       "      <td>1</td>\n",
       "      <td>1</td>\n",
       "      <td>6</td>\n",
       "      <td>6</td>\n",
       "      <td>6</td>\n",
       "      <td>...</td>\n",
       "      <td>0</td>\n",
       "      <td>0</td>\n",
       "      <td>0</td>\n",
       "      <td>0</td>\n",
       "      <td>0</td>\n",
       "      <td>0</td>\n",
       "      <td>1</td>\n",
       "      <td>0</td>\n",
       "      <td>0</td>\n",
       "      <td>0</td>\n",
       "    </tr>\n",
       "    <tr>\n",
       "      <th>100004</th>\n",
       "      <td>2</td>\n",
       "      <td>24</td>\n",
       "      <td>1</td>\n",
       "      <td>2</td>\n",
       "      <td>1</td>\n",
       "      <td>2</td>\n",
       "      <td>2</td>\n",
       "      <td>2</td>\n",
       "      <td>2</td>\n",
       "      <td>1</td>\n",
       "      <td>...</td>\n",
       "      <td>1</td>\n",
       "      <td>0</td>\n",
       "      <td>0</td>\n",
       "      <td>0</td>\n",
       "      <td>0</td>\n",
       "      <td>0</td>\n",
       "      <td>0</td>\n",
       "      <td>0</td>\n",
       "      <td>0</td>\n",
       "      <td>0</td>\n",
       "    </tr>\n",
       "  </tbody>\n",
       "</table>\n",
       "<p>5 rows × 268 columns</p>\n",
       "</div>"
      ],
      "text/plain": [
       "         VQUARTER  VPRVENTP  VTPSZE  VRSN3P  VMODENTP  VRTEN  VRTEX  VCFARE1  \\\n",
       "VPUMFID                                                                        \n",
       "100000          3        35       5       1         2      1      1        6   \n",
       "100001          2        35       2       1         2      1      1        6   \n",
       "100002          4        35       1      10         1      2      2        2   \n",
       "100003          3        59       2       5         2      1      1        6   \n",
       "100004          2        24       1       2         1      2      2        2   \n",
       "\n",
       "         VCFARE2  VCFARE3  ...  VM45_54P  VM55_64P  VM_65P  VF0_17P  VF18_24P  \\\n",
       "VPUMFID                    ...                                                  \n",
       "100000         6        6  ...         0         0       0        1         0   \n",
       "100001         6        6  ...         0         1       1        0         0   \n",
       "100002         2        1  ...         0         0       0        0         0   \n",
       "100003         6        6  ...         0         0       0        0         0   \n",
       "100004         2        1  ...         1         0       0        0         0   \n",
       "\n",
       "         VF25_34P  VF35_44P  VF45_54P  VF55_64P  VF_65P  \n",
       "VPUMFID                                                  \n",
       "100000          1         0         0         0       0  \n",
       "100001          0         0         0         0       0  \n",
       "100002          0         0         0         0       0  \n",
       "100003          0         1         0         0       0  \n",
       "100004          0         0         0         0       0  \n",
       "\n",
       "[5 rows x 268 columns]"
      ]
     },
     "execution_count": 96,
     "metadata": {},
     "output_type": "execute_result"
    }
   ],
   "source": [
    "df.head()"
   ]
  },
  {
   "cell_type": "markdown",
   "id": "76e52243",
   "metadata": {},
   "source": [
    "### Binary Classifiers to Predict Whether Customer Will Rent Car or Not"
   ]
  },
  {
   "cell_type": "markdown",
   "id": "4df921c7",
   "metadata": {},
   "source": [
    "#### Filtering for to Ontario visitors only"
   ]
  },
  {
   "cell_type": "code",
   "execution_count": 97,
   "id": "8141883e",
   "metadata": {},
   "outputs": [],
   "source": [
    "df.rename(columns = {'VPRVENTP' : 'Canadian_province_of_entry'}, inplace = True)"
   ]
  },
  {
   "cell_type": "code",
   "execution_count": 98,
   "id": "dc0a242b",
   "metadata": {},
   "outputs": [],
   "source": [
    "df = df[df['Canadian_province_of_entry'] == 35]"
   ]
  },
  {
   "cell_type": "markdown",
   "id": "03086042",
   "metadata": {},
   "source": [
    "#### Outcome Variable - Rented Automobile "
   ]
  },
  {
   "cell_type": "code",
   "execution_count": 99,
   "id": "8268e24d",
   "metadata": {},
   "outputs": [],
   "source": [
    "df['Rented_Automobile'] = np.where(df['VTRNIN02'] == 1, 1, 0)"
   ]
  },
  {
   "cell_type": "markdown",
   "id": "79c6d032",
   "metadata": {},
   "source": [
    "### Data Cleaning + Feature Engineering"
   ]
  },
  {
   "cell_type": "markdown",
   "id": "8f3e89c7",
   "metadata": {},
   "source": [
    "#### Route & Class of Travel while Entering Canada"
   ]
  },
  {
   "cell_type": "code",
   "execution_count": 100,
   "id": "7883c175",
   "metadata": {},
   "outputs": [],
   "source": [
    "df['First_Class'] = np.where(df['VCFARE1'] == 1, 1, 0)\n",
    "df['Business_Class'] = np.where(df['VCFARE2'] == 1, 1, 0)\n",
    "df['Economy_Class'] = np.where(df['VCFARE3'] == 1, 1, 0)\n",
    "df['Charter_Flight'] = np.where(df['VCFARE4'] == 1, 1, 0)\n",
    "df['Booked_with_rewards'] = np.where(df['VCFARE5'] == 1, 1, 0)\n",
    "\n",
    "df['Mode_of_Entry'] = df['VMODENTP'].map({1:'Air', 2:'Land', 3:'Bus_Train'})\n",
    "df['Location_of_Entry'] = df['VRTEN'].map({1:'US_Direct', 2:'Other_Country_Direct', 3:'Other_Country_via_US'})\n",
    "df['Location_of_Exit'] = df['VRTEN'].map({1:'US_Direct', 2:'Other_Country_Direct', 3:'Other_Country_via_US'})"
   ]
  },
  {
   "cell_type": "markdown",
   "id": "84a3f74e",
   "metadata": {},
   "source": [
    "#### Reason for trip reason"
   ]
  },
  {
   "cell_type": "code",
   "execution_count": 101,
   "id": "5ec5b5bd",
   "metadata": {
    "scrolled": true
   },
   "outputs": [],
   "source": [
    "df['Trip_Reason'] = df['VRSN3P'].map({1:'Holiday', 2:'Personal', 4:'Work',\n",
    "                                     5:'Study', 6:'Medical', 8:'Personal', 10:'Work', 11:'Work', 14:'Work', \n",
    "                                      15:'In_Transit'})"
   ]
  },
  {
   "cell_type": "markdown",
   "id": "389561eb",
   "metadata": {},
   "source": [
    "#### Modes of Transportation While in Canada"
   ]
  },
  {
   "cell_type": "code",
   "execution_count": 102,
   "id": "cf2c71a9",
   "metadata": {},
   "outputs": [],
   "source": [
    "df['Flights'] = np.where(df['VTRNIN01'] == 1, 1, np.where(df['VTRNIN06'] == 1, 1, 0))\n",
    "\n",
    "df['VTRNIN03'] = np.where(df['VTRNIN03'] == 1, 1, 0)\n",
    "df['VTRNIN08'] = np.where(df['VTRNIN08'] == 1, 1, 0)\n",
    "\n",
    "df['Bus_Train'] = df[['VTRNIN03', 'VTRNIN08']].max(axis = 1)\n",
    "\n",
    "df['VTRNIN05'] = np.where(df['VTRNIN05'] == 1, 1, 0)\n",
    "df['VTRNIN04'] = np.where(df['VTRNIN04'] == 1, 1, 0)\n",
    "df['VTRNIN09'] = np.where(df['VTRNIN09'] == 1, 1, 0)\n",
    "\n",
    "df['Ferry_Cruise_Ship_Private_Boat'] = df[['VTRNIN05', 'VTRNIN04']].max(axis = 1)\n",
    "\n",
    "df['Private_vehicle'] = np.where(df['VTRNIN07'] == 1, 1, 0)"
   ]
  },
  {
   "cell_type": "markdown",
   "id": "48095d6e",
   "metadata": {},
   "source": [
    "#### Duration of Stay"
   ]
  },
  {
   "cell_type": "code",
   "execution_count": 103,
   "id": "0114e3a4",
   "metadata": {},
   "outputs": [],
   "source": [
    "df['Number_of_nights_ON'] = df['VNIGHTON']\n",
    "df['Time_Spent_ON_Nights'] = df['VPRSNONP']\n",
    "df['Time_Spent_Other_Provinces_Nights'] = df['VPRSNYUP'] + df['VPRSNSAP'] + df['VPRSNPQP'] + df['VPRSNNBP'] + df['VPRSNPEP'] + df['VPRSNNWP'] + df['VPRSNNUP'] + df['VPRSNNSP'] + df['VPRSNNFP'] + df['VPRSNMAP'] + df['VPRSNBCP'] + df['VPRSNATP']\n",
    "df['First_Visit_to_Canada'] = np.where(df['VVISIT'] == 1, 1, 0)\n",
    "\n",
    "df['Timing_of_Visit_Q1'] = np.where(df['VQUARTER'] == 1, 1, 0) \n",
    "df['Timing_of_Visit_Q2'] = np.where(df['VQUARTER'] == 2, 1, 0) \n",
    "df['Timing_of_Visit_Q3'] = np.where(df['VQUARTER'] == 3, 1, 0) \n",
    "df['Timing_of_Visit_Q4'] = np.where(df['VQUARTER'] == 4, 1, 0) "
   ]
  },
  {
   "cell_type": "markdown",
   "id": "5ed119e2",
   "metadata": {},
   "source": [
    "#### Accomodation in Canada"
   ]
  },
  {
   "cell_type": "code",
   "execution_count": 104,
   "id": "174c242b",
   "metadata": {},
   "outputs": [],
   "source": [
    "accomodation_types = ['A', 'B', 'C', 'D', 'E']\n",
    "\n",
    "for accomodation in accomodation_types:\n",
    "    for visit_num in range(1, 11):\n",
    "        if visit_num < 10:\n",
    "            column_name = 'VACCV0' + str(visit_num) + accomodation\n",
    "        else:\n",
    "            column_name = 'VACCV' + str(visit_num) + accomodation            \n",
    "        df[column_name] = np.where(df[column_name] == 1, 1, 0)\n",
    "        \n",
    "\n",
    "df['Hotel'] = df[['VACCV01A', 'VACCV02A', 'VACCV03A', 'VACCV04A', 'VACCV05A', 'VACCV06A', 'VACCV07A', 'VACCV08A',\n",
    "                  'VACCV09A', 'VACCV10A', 'VACCV01B', 'VACCV02B', 'VACCV03B', 'VACCV04B', 'VACCV05B', 'VACCV06B',\n",
    "                  'VACCV07B', 'VACCV08B', 'VACCV09B', 'VACCV10B']].max(axis = 1)\n",
    "\n",
    "df['Home_of_Friends_Family'] = df[['VACCV01C', 'VACCV02C', 'VACCV03C', 'VACCV04C', 'VACCV05C', 'VACCV06C', 'VACCV07C', 'VACCV08C',\n",
    "                  'VACCV09C', 'VACCV10C']].max(axis = 1)\n",
    "\n",
    "df['Camp_Trailer_Cottage'] = df[['VACCV01D', 'VACCV02D', 'VACCV03D', 'VACCV04D', 'VACCV05D', 'VACCV06D', 'VACCV07D', 'VACCV08A',\n",
    "                  'VACCV09D', 'VACCV10D', 'VACCV01E', 'VACCV02E', 'VACCV03E', 'VACCV04E', 'VACCV05E', 'VACCV06E',\n",
    "                  'VACCV07E', 'VACCV08E', 'VACCV09E', 'VACCV10E']].max(axis = 1)"
   ]
  },
  {
   "cell_type": "markdown",
   "id": "99a9a6c0",
   "metadata": {},
   "source": [
    "#### Demographic Features"
   ]
  },
  {
   "cell_type": "code",
   "execution_count": 105,
   "id": "acc60c3c",
   "metadata": {},
   "outputs": [],
   "source": [
    "df['Male_Travellers_Below_17'] = np.where(df['VM0_17P'] != 99, df['VM0_17P'], 0) \n",
    "df['Male_Travellers_18_to_24'] = np.where(df['VM18_24P'] != 99, df['VM18_24P'], 0) \n",
    "df['Male_Travellers_25_to_34'] = np.where(df['VM25_34P'] != 99, df['VM25_34P'], 0) \n",
    "df['Male_Travellers_35_to_44'] = np.where(df['VM35_44P'] != 99, df['VM35_44P'], 0) \n",
    "df['Male_Travellers_45_to_54'] = np.where(df['VM45_54P'] != 99, df['VM45_54P'], 0) \n",
    "df['Male_Travellers_55_to_64'] = np.where(df['VM55_64P'] != 99, df['VM55_64P'], 0) \n",
    "df['Male_Travellers_Above_65'] = np.where(df['VM_65P'] != 99, df['VM_65P'], 0) \n",
    "\n",
    "df['Female_Travellers_Below_17'] = np.where(df['VF0_17P'] != 99, df['VF0_17P'], 0) \n",
    "df['Female_Travellers_18_to_24'] = np.where(df['VF18_24P'] != 99, df['VF18_24P'], 0) \n",
    "df['Female_Travellers_25_to_34'] = np.where(df['VF25_34P'] != 99, df['VF25_34P'], 0) \n",
    "df['Female_Travellers_35_to_44'] = np.where(df['VF35_44P'] != 99, df['VF35_44P'], 0) \n",
    "df['Female_Travellers_45_to_54'] = np.where(df['VF45_54P'] != 99, df['VF45_54P'], 0) \n",
    "df['Female_Travellers_55_to_64'] = np.where(df['VF55_64P'] != 99, df['VF55_64P'], 0) \n",
    "df['Female_Travellers_Above_65'] = np.where(df['VF_65P'] != 99, df['VF_65P'], 0) \n",
    "\n",
    "df['Travel_Party_Size'] = df['VTPSZE']\n",
    "df['People_Visiting_Ontario'] = df['VPRPR06P']"
   ]
  },
  {
   "cell_type": "markdown",
   "id": "ca567bfc",
   "metadata": {},
   "source": [
    "#### Money Spent During Visit"
   ]
  },
  {
   "cell_type": "code",
   "execution_count": 106,
   "id": "8f6d504e",
   "metadata": {},
   "outputs": [],
   "source": [
    "df['Total_Spend'] = df['VGLTOTSP']\n",
    "df['Transportation_Spend'] = df['VGLTRASP']\n",
    "df['Spend_on_Canadian_Carriers'] = df['VCDNFARE']\n",
    "df['Money_Spent_in_Canada'] = np.where(df['VFARES'] != 9999996, df['VFARES'], 0) "
   ]
  },
  {
   "cell_type": "markdown",
   "id": "93fca9cc",
   "metadata": {},
   "source": [
    "#### Activity During Visit"
   ]
  },
  {
   "cell_type": "code",
   "execution_count": 107,
   "id": "7aa1c457",
   "metadata": {},
   "outputs": [],
   "source": [
    "df['Visiting_Friends_Family'] = np.where(df['VACT01'] == 1, 1, 0)\n",
    "df['Shopping'] = np.where(df['VACT02'] == 1, 1, 0)\n",
    "\n",
    "for activity in range(3, 33):\n",
    "    if activity < 10:\n",
    "        column_name = 'VACT0' + str(activity)\n",
    "    else:\n",
    "        column_name = 'VACT' + str(activity)\n",
    "    \n",
    "    df[column_name] = np.where(df[column_name] == 1, 1, 0)\n",
    "\n",
    "\n",
    "df['Indoor_Activities'] = df['VACT03'] + df['VACT04'] + df['VACT05'] + df['VACT06'] + df['VACT07'] + df['VACT08'] + df['VACT09'] + df['VACT10'] + df['VACT11'] + df['VACT12'] + df['VACT13'] + df['VACT14']      \n",
    "df['Outdoor_Activities'] = df['VACT15'] + df['VACT16'] + df['VACT20'] + df['VACT21'] + df['VACT22'] + df['VACT23'] + df['VACT24'] + df['VACT25'] + df['VACT26'] + df['VACT27'] + df['VACT28'] + df['VACT29'] + df['VACT30'] + df['VACT31'] + df['VACT32']\n",
    "\n",
    "df['Medical_Treatment'] = np.where(df['VACT17'] == 1, 1, 0)\n",
    "df['Business_Trip'] = np.where(df['VACT18'] == 1, 1, 0)\n",
    "df['Play_Sports'] = np.where(df['VACT19'] == 1, 1, 0)"
   ]
  },
  {
   "cell_type": "markdown",
   "id": "0e874a10",
   "metadata": {},
   "source": [
    "#### Feature Selection"
   ]
  },
  {
   "cell_type": "markdown",
   "id": "83fb2175",
   "metadata": {},
   "source": [
    "The features in the model can be broadly categorized into the following 9 themes. An econometric approach to feature selection is taken, where the features which are potentially thought to impact a customer's decision to rent or not rent a vehicle, based on theory, are used as feature inputs to the model \n",
    "\n",
    "        - Route of Entry into Canada\n",
    "        - Class of Travel while Entering Canada\n",
    "        - Reason for Trip to Canada\n",
    "        - Mode of Transportation while in Canada\n",
    "        - Duration of Stay\n",
    "        - Accomodation in Canada \n",
    "        - Demographic Features of Customer\n",
    "        - Activity in Canada\n",
    "        - Customer Spend in Canada"
   ]
  },
  {
   "cell_type": "code",
   "execution_count": 108,
   "id": "3ffbc8b7",
   "metadata": {},
   "outputs": [],
   "source": [
    "model_input = df.iloc[:, 268:]"
   ]
  },
  {
   "cell_type": "code",
   "execution_count": 109,
   "id": "7b7eda50",
   "metadata": {},
   "outputs": [
    {
     "data": {
      "text/html": [
       "<div>\n",
       "<style scoped>\n",
       "    .dataframe tbody tr th:only-of-type {\n",
       "        vertical-align: middle;\n",
       "    }\n",
       "\n",
       "    .dataframe tbody tr th {\n",
       "        vertical-align: top;\n",
       "    }\n",
       "\n",
       "    .dataframe thead th {\n",
       "        text-align: right;\n",
       "    }\n",
       "</style>\n",
       "<table border=\"1\" class=\"dataframe\">\n",
       "  <thead>\n",
       "    <tr style=\"text-align: right;\">\n",
       "      <th></th>\n",
       "      <th>Rented_Automobile</th>\n",
       "      <th>First_Class</th>\n",
       "      <th>Business_Class</th>\n",
       "      <th>Economy_Class</th>\n",
       "      <th>Charter_Flight</th>\n",
       "      <th>Booked_with_rewards</th>\n",
       "      <th>Mode_of_Entry</th>\n",
       "      <th>Location_of_Entry</th>\n",
       "      <th>Location_of_Exit</th>\n",
       "      <th>Trip_Reason</th>\n",
       "      <th>...</th>\n",
       "      <th>Transportation_Spend</th>\n",
       "      <th>Spend_on_Canadian_Carriers</th>\n",
       "      <th>Money_Spent_in_Canada</th>\n",
       "      <th>Visiting_Friends_Family</th>\n",
       "      <th>Shopping</th>\n",
       "      <th>Indoor_Activities</th>\n",
       "      <th>Outdoor_Activities</th>\n",
       "      <th>Medical_Treatment</th>\n",
       "      <th>Business_Trip</th>\n",
       "      <th>Play_Sports</th>\n",
       "    </tr>\n",
       "    <tr>\n",
       "      <th>VPUMFID</th>\n",
       "      <th></th>\n",
       "      <th></th>\n",
       "      <th></th>\n",
       "      <th></th>\n",
       "      <th></th>\n",
       "      <th></th>\n",
       "      <th></th>\n",
       "      <th></th>\n",
       "      <th></th>\n",
       "      <th></th>\n",
       "      <th></th>\n",
       "      <th></th>\n",
       "      <th></th>\n",
       "      <th></th>\n",
       "      <th></th>\n",
       "      <th></th>\n",
       "      <th></th>\n",
       "      <th></th>\n",
       "      <th></th>\n",
       "      <th></th>\n",
       "      <th></th>\n",
       "    </tr>\n",
       "  </thead>\n",
       "  <tbody>\n",
       "    <tr>\n",
       "      <th>100000</th>\n",
       "      <td>0</td>\n",
       "      <td>0</td>\n",
       "      <td>0</td>\n",
       "      <td>0</td>\n",
       "      <td>0</td>\n",
       "      <td>0</td>\n",
       "      <td>Land</td>\n",
       "      <td>US_Direct</td>\n",
       "      <td>US_Direct</td>\n",
       "      <td>Holiday</td>\n",
       "      <td>...</td>\n",
       "      <td>47</td>\n",
       "      <td>9999996</td>\n",
       "      <td>0</td>\n",
       "      <td>0</td>\n",
       "      <td>0</td>\n",
       "      <td>4</td>\n",
       "      <td>0</td>\n",
       "      <td>0</td>\n",
       "      <td>0</td>\n",
       "      <td>0</td>\n",
       "    </tr>\n",
       "    <tr>\n",
       "      <th>100001</th>\n",
       "      <td>0</td>\n",
       "      <td>0</td>\n",
       "      <td>0</td>\n",
       "      <td>0</td>\n",
       "      <td>0</td>\n",
       "      <td>0</td>\n",
       "      <td>Land</td>\n",
       "      <td>US_Direct</td>\n",
       "      <td>US_Direct</td>\n",
       "      <td>Holiday</td>\n",
       "      <td>...</td>\n",
       "      <td>115</td>\n",
       "      <td>0</td>\n",
       "      <td>0</td>\n",
       "      <td>0</td>\n",
       "      <td>0</td>\n",
       "      <td>0</td>\n",
       "      <td>2</td>\n",
       "      <td>0</td>\n",
       "      <td>0</td>\n",
       "      <td>0</td>\n",
       "    </tr>\n",
       "    <tr>\n",
       "      <th>100002</th>\n",
       "      <td>0</td>\n",
       "      <td>0</td>\n",
       "      <td>0</td>\n",
       "      <td>1</td>\n",
       "      <td>0</td>\n",
       "      <td>0</td>\n",
       "      <td>Air</td>\n",
       "      <td>Other_Country_Direct</td>\n",
       "      <td>Other_Country_Direct</td>\n",
       "      <td>Work</td>\n",
       "      <td>...</td>\n",
       "      <td>90</td>\n",
       "      <td>0</td>\n",
       "      <td>1600</td>\n",
       "      <td>0</td>\n",
       "      <td>1</td>\n",
       "      <td>2</td>\n",
       "      <td>0</td>\n",
       "      <td>0</td>\n",
       "      <td>1</td>\n",
       "      <td>0</td>\n",
       "    </tr>\n",
       "    <tr>\n",
       "      <th>100007</th>\n",
       "      <td>0</td>\n",
       "      <td>0</td>\n",
       "      <td>0</td>\n",
       "      <td>1</td>\n",
       "      <td>1</td>\n",
       "      <td>0</td>\n",
       "      <td>Air</td>\n",
       "      <td>Other_Country_Direct</td>\n",
       "      <td>Other_Country_Direct</td>\n",
       "      <td>Personal</td>\n",
       "      <td>...</td>\n",
       "      <td>0</td>\n",
       "      <td>1140</td>\n",
       "      <td>1140</td>\n",
       "      <td>1</td>\n",
       "      <td>1</td>\n",
       "      <td>0</td>\n",
       "      <td>0</td>\n",
       "      <td>0</td>\n",
       "      <td>0</td>\n",
       "      <td>0</td>\n",
       "    </tr>\n",
       "    <tr>\n",
       "      <th>100009</th>\n",
       "      <td>0</td>\n",
       "      <td>0</td>\n",
       "      <td>0</td>\n",
       "      <td>1</td>\n",
       "      <td>0</td>\n",
       "      <td>0</td>\n",
       "      <td>Air</td>\n",
       "      <td>Other_Country_Direct</td>\n",
       "      <td>Other_Country_Direct</td>\n",
       "      <td>Personal</td>\n",
       "      <td>...</td>\n",
       "      <td>0</td>\n",
       "      <td>0</td>\n",
       "      <td>850</td>\n",
       "      <td>1</td>\n",
       "      <td>1</td>\n",
       "      <td>3</td>\n",
       "      <td>1</td>\n",
       "      <td>0</td>\n",
       "      <td>0</td>\n",
       "      <td>0</td>\n",
       "    </tr>\n",
       "  </tbody>\n",
       "</table>\n",
       "<p>5 rows × 52 columns</p>\n",
       "</div>"
      ],
      "text/plain": [
       "         Rented_Automobile  First_Class  Business_Class  Economy_Class  \\\n",
       "VPUMFID                                                                  \n",
       "100000                   0            0               0              0   \n",
       "100001                   0            0               0              0   \n",
       "100002                   0            0               0              1   \n",
       "100007                   0            0               0              1   \n",
       "100009                   0            0               0              1   \n",
       "\n",
       "         Charter_Flight  Booked_with_rewards Mode_of_Entry  \\\n",
       "VPUMFID                                                      \n",
       "100000                0                    0          Land   \n",
       "100001                0                    0          Land   \n",
       "100002                0                    0           Air   \n",
       "100007                1                    0           Air   \n",
       "100009                0                    0           Air   \n",
       "\n",
       "            Location_of_Entry      Location_of_Exit Trip_Reason  ...  \\\n",
       "VPUMFID                                                          ...   \n",
       "100000              US_Direct             US_Direct     Holiday  ...   \n",
       "100001              US_Direct             US_Direct     Holiday  ...   \n",
       "100002   Other_Country_Direct  Other_Country_Direct        Work  ...   \n",
       "100007   Other_Country_Direct  Other_Country_Direct    Personal  ...   \n",
       "100009   Other_Country_Direct  Other_Country_Direct    Personal  ...   \n",
       "\n",
       "         Transportation_Spend  Spend_on_Canadian_Carriers  \\\n",
       "VPUMFID                                                     \n",
       "100000                     47                     9999996   \n",
       "100001                    115                           0   \n",
       "100002                     90                           0   \n",
       "100007                      0                        1140   \n",
       "100009                      0                           0   \n",
       "\n",
       "         Money_Spent_in_Canada  Visiting_Friends_Family  Shopping  \\\n",
       "VPUMFID                                                             \n",
       "100000                       0                        0         0   \n",
       "100001                       0                        0         0   \n",
       "100002                    1600                        0         1   \n",
       "100007                    1140                        1         1   \n",
       "100009                     850                        1         1   \n",
       "\n",
       "         Indoor_Activities  Outdoor_Activities  Medical_Treatment  \\\n",
       "VPUMFID                                                             \n",
       "100000                   4                   0                  0   \n",
       "100001                   0                   2                  0   \n",
       "100002                   2                   0                  0   \n",
       "100007                   0                   0                  0   \n",
       "100009                   3                   1                  0   \n",
       "\n",
       "         Business_Trip  Play_Sports  \n",
       "VPUMFID                              \n",
       "100000               0            0  \n",
       "100001               0            0  \n",
       "100002               1            0  \n",
       "100007               0            0  \n",
       "100009               0            0  \n",
       "\n",
       "[5 rows x 52 columns]"
      ]
     },
     "execution_count": 109,
     "metadata": {},
     "output_type": "execute_result"
    }
   ],
   "source": [
    "model_input.head()"
   ]
  },
  {
   "cell_type": "markdown",
   "id": "47b6c590",
   "metadata": {},
   "source": [
    "#### Function for Evaluation of Classifier"
   ]
  },
  {
   "cell_type": "code",
   "execution_count": 110,
   "id": "fdcac506",
   "metadata": {},
   "outputs": [],
   "source": [
    "def model_evaluation(y_test, y_predicted, model_name):\n",
    "\n",
    "    from sklearn import metrics\n",
    "    from sklearn.metrics import accuracy_score, precision_score, recall_score, f1_score\n",
    "\n",
    "    fpr, tpr, thresholds = metrics.roc_curve(y_test, y_predicted)\n",
    "    auc = metrics.auc(fpr, tpr)\n",
    "    precision = precision_score(y_test, y_predicted)\n",
    "    recall = recall_score(y_test, y_predicted)\n",
    "    f1_score = 2 * (precision * recall) / (precision + recall)\n",
    "\n",
    "    plt.plot([0,1], [0,1], 'k--')\n",
    "    plt.plot(fpr, tpr, label = \"auc = \" + str(auc))\n",
    "    plt.xlabel('False Positive Rate')\n",
    "    plt.ylabel('True Positive Rate')\n",
    "    plt.title('ROC Curve - ' + model_name)\n",
    "    plt.legend()\n",
    "    plt.show()\n",
    "\n",
    "    print(f'Precision for ' + model_name + ' = ' + str(precision))\n",
    "    print(f'Recall for ' + model_name + ' = ' + str(recall))\n",
    "    print(f'F1 Score for ' + model_name + ' = ' + str(f1_score))\n",
    "    print(f'Area under the curve for ' + model_name + ' = ' + str(auc))"
   ]
  },
  {
   "cell_type": "markdown",
   "id": "c7c4ff52",
   "metadata": {},
   "source": [
    "### Binary Classifier 1 - Decision Tree"
   ]
  },
  {
   "cell_type": "code",
   "execution_count": 111,
   "id": "21892f8a",
   "metadata": {},
   "outputs": [
    {
     "data": {
      "text/plain": [
       "{'max_depth': 25, 'min_impurity_decrease': 0, 'min_samples_split': 10}"
      ]
     },
     "execution_count": 111,
     "metadata": {},
     "output_type": "execute_result"
    }
   ],
   "source": [
    "outcome = 'Rented_Automobile'\n",
    "\n",
    "X = model_input.drop(columns = outcome)\n",
    "y = model_input[outcome]\n",
    "\n",
    "# Creating dummy variables for any categorical variables\n",
    "\n",
    "X = pd.get_dummies(X, drop_first = True)\n",
    "\n",
    "# Creating a train/test split of 70:30\n",
    "\n",
    "X_train, X_test, y_train, y_test = train_test_split(X, y, test_size = 0.3)\n",
    "\n",
    "param_grid = {'max_depth': [5, 10, 15, 20, 25, 30, 35, 40, 45, 50],\n",
    "             'min_samples_split': [10, 20, 30, 40, 50, 100],\n",
    "             'min_impurity_decrease': [0, 0.1, 0.001, 0.0001]}\n",
    "\n",
    "# Grid search along with cross-validation is used to identify the best set of hyper parameters for the model\n",
    "\n",
    "tree_grid_search = GridSearchCV(DecisionTreeClassifier(random_state = 1), param_grid = param_grid, \n",
    "                                cv = 3, n_jobs = -1, scoring = 'recall')\n",
    "\n",
    "tree_grid_search.fit(X_train, y_train)\n",
    "\n",
    "predicted_train_tree = tree_grid_search.predict(X_train)\n",
    "predicted_test_tree = tree_grid_search.predict(X_test)\n",
    "\n",
    "tree_grid_search.best_params_"
   ]
  },
  {
   "cell_type": "code",
   "execution_count": 112,
   "id": "98e0bad6",
   "metadata": {},
   "outputs": [],
   "source": [
    "param_grid = {'max_depth': [5, 7, 10, 13, 15],\n",
    "             'min_samples_split': [10, 13, 15],\n",
    "             'min_impurity_decrease': [0, 0.00005, 0.0001]}\n",
    "\n",
    "tree_grid_search = GridSearchCV(DecisionTreeClassifier(random_state = 1), param_grid = param_grid, \n",
    "                                cv = 5, n_jobs = -1, scoring = 'recall')\n",
    "\n",
    "tree_grid_search.fit(X_train, y_train)\n",
    "\n",
    "best_tree = tree_grid_search.best_estimator_\n",
    "\n",
    "predicted_train_tree = best_tree.predict(X_train)\n",
    "predicted_test_tree = best_tree.predict(X_test)"
   ]
  },
  {
   "cell_type": "code",
   "execution_count": 113,
   "id": "a072af8d",
   "metadata": {},
   "outputs": [
    {
     "data": {
      "text/plain": [
       "{'max_depth': 7, 'min_impurity_decrease': 5e-05, 'min_samples_split': 10}"
      ]
     },
     "execution_count": 113,
     "metadata": {},
     "output_type": "execute_result"
    }
   ],
   "source": [
    "tree_grid_search.best_params_"
   ]
  },
  {
   "cell_type": "code",
   "execution_count": 114,
   "id": "5af506d7",
   "metadata": {},
   "outputs": [
    {
     "name": "stdout",
     "output_type": "stream",
     "text": [
      "Precision for Decision Tree Train = 0.8094059405940595\n",
      "Recall for Decision Tree Train = 0.7062634989200864\n",
      "F1 Score for Decision Tree Train = 0.754325259515571\n",
      "Area under the curve for Decision Tree Train = 0.8415406008825932\n"
     ]
    },
    {
     "name": "stderr",
     "output_type": "stream",
     "text": [
      "<ipython-input-110-2d5c9448ef94>:18: UserWarning: Matplotlib is currently using agg, which is a non-GUI backend, so cannot show the figure.\n",
      "  plt.show()\n"
     ]
    }
   ],
   "source": [
    "model_evaluation(y_train, predicted_train_tree, 'Decision Tree Train')"
   ]
  },
  {
   "cell_type": "code",
   "execution_count": 115,
   "id": "0947f9a7",
   "metadata": {},
   "outputs": [
    {
     "name": "stdout",
     "output_type": "stream",
     "text": [
      "Precision for Decision Tree Test = 0.7254901960784313\n",
      "Recall for Decision Tree Test = 0.6332518337408313\n",
      "F1 Score for Decision Tree Test = 0.6762402088772846\n",
      "Area under the curve for Decision Tree Test = 0.7993480607350136\n"
     ]
    },
    {
     "name": "stderr",
     "output_type": "stream",
     "text": [
      "<ipython-input-110-2d5c9448ef94>:18: UserWarning: Matplotlib is currently using agg, which is a non-GUI backend, so cannot show the figure.\n",
      "  plt.show()\n"
     ]
    }
   ],
   "source": [
    "model_evaluation(y_test, predicted_test_tree, 'Decision Tree Test')"
   ]
  },
  {
   "cell_type": "code",
   "execution_count": 116,
   "id": "0bd292d4",
   "metadata": {},
   "outputs": [
    {
     "name": "stdout",
     "output_type": "stream",
     "text": [
      "Confusion Matrix (Accuracy 0.9437)\n",
      "\n",
      "       Prediction\n",
      "Actual    0    1\n",
      "     0 6489  154\n",
      "     1  272  654\n"
     ]
    }
   ],
   "source": [
    "classificationSummary(y_train, predicted_train_tree)"
   ]
  },
  {
   "cell_type": "code",
   "execution_count": 117,
   "id": "9b81793f",
   "metadata": {},
   "outputs": [
    {
     "name": "stdout",
     "output_type": "stream",
     "text": [
      "Confusion Matrix (Accuracy 0.9236)\n",
      "\n",
      "       Prediction\n",
      "Actual    0    1\n",
      "     0 2738   98\n",
      "     1  150  259\n"
     ]
    }
   ],
   "source": [
    "classificationSummary(y_test, predicted_test_tree)"
   ]
  },
  {
   "cell_type": "code",
   "execution_count": 118,
   "id": "ceb6f79a",
   "metadata": {},
   "outputs": [
    {
     "name": "stderr",
     "output_type": "stream",
     "text": [
      "<ipython-input-118-b1042ca815a2>:17: UserWarning: Matplotlib is currently using agg, which is a non-GUI backend, so cannot show the figure.\n",
      "  plt.show()\n"
     ]
    }
   ],
   "source": [
    "importances = best_tree.feature_importances_\n",
    "feature_names = X_train.columns\n",
    "\n",
    "# Sort the feature importances in descending order\n",
    "indices = np.argsort(importances)[::-1]\n",
    "sorted_feature_names = [feature_names[i] for i in indices]\n",
    "sorted_importances = importances[indices]\n",
    "\n",
    "# Plot the feature importances\n",
    "plt.figure(figsize=(15, 7))\n",
    "plt.title(\"Feature Importances\")\n",
    "plt.bar(range(len(importances)), sorted_importances, align=\"center\")\n",
    "plt.xticks(range(len(importances)), sorted_feature_names, rotation=90)\n",
    "plt.xlabel(\"Features\")\n",
    "plt.ylabel(\"Importance\")\n",
    "plt.tight_layout()\n",
    "plt.show()"
   ]
  },
  {
   "cell_type": "markdown",
   "id": "a6bbc1ef",
   "metadata": {},
   "source": [
    "### Binary Classifier 2 - KNN Classifier"
   ]
  },
  {
   "cell_type": "markdown",
   "id": "54776e08",
   "metadata": {},
   "source": [
    "The top features as seen in the feature importance chart above, are chosen as inputs to the KNN Classifier. Since, KNN is a clustering algorithm and works based off of calculating the distance between subsequent data points, it is a very computationally expensive algorithm, and requires a small feature set to complete the training step in a short time frame."
   ]
  },
  {
   "cell_type": "code",
   "execution_count": 119,
   "id": "8cdefcd0",
   "metadata": {},
   "outputs": [],
   "source": [
    "predictors = ['Transportation_Spend', 'Hotel', 'Private_vehicle', 'Bus_Train', 'Total_Spend', \n",
    "              'Outdoor_Activities', 'Trip_Reason_Study', 'Money_Spent_in_Canada', 'Number_of_nights_ON', \n",
    "              'Mode_of_Entry_Land', 'Flights', 'Spend_on_Canadian_Carriers', 'Indoor_Activities', \n",
    "              'Time_Spent_ON_Nights', 'Mode_of_Entry_Bus_Train', 'Economy_Class', 'Male_Travellers_55_to_64',\n",
    "             'Camp_Trailer_Cottage']"
   ]
  },
  {
   "cell_type": "markdown",
   "id": "d9b31340",
   "metadata": {},
   "source": [
    "The numerical and one-hot encoded columns are separated. A prerequisite to modelling using a clustering algorithm, such as, KNN is to scale and normalize the data to a range between -1 and +1, so that all columns / features are equally weighted by the KNN algorithm when the distances are being calculated for the classification to take place."
   ]
  },
  {
   "cell_type": "code",
   "execution_count": 120,
   "id": "bc193eaa",
   "metadata": {
    "scrolled": true
   },
   "outputs": [],
   "source": [
    "numerical_columns = ['Transportation_Spend', 'Total_Spend', \n",
    "                     'Outdoor_Activities', 'Money_Spent_in_Canada',  \n",
    "                    'Number_of_nights_ON', 'Spend_on_Canadian_Carriers', 'Indoor_Activities',\n",
    "                     'Time_Spent_ON_Nights', 'Male_Travellers_55_to_64'\n",
    "                    ]\n",
    "\n",
    "one_hot_encoded_columns = ['Hotel', 'Private_vehicle', 'Bus_Train', \n",
    "                           'Trip_Reason_Study', 'Mode_of_Entry_Land',\n",
    "                          'Flights', 'Mode_of_Entry_Bus_Train', 'Economy_Class', 'Camp_Trailer_Cottage'\n",
    "                          ]"
   ]
  },
  {
   "cell_type": "code",
   "execution_count": 121,
   "id": "a846cb6a",
   "metadata": {},
   "outputs": [],
   "source": [
    "sc = StandardScaler()\n",
    "\n",
    "X_train_scaled = pd.DataFrame(sc.fit_transform(X_train[numerical_columns]), columns = numerical_columns)\n",
    "X_test_scaled = pd.DataFrame(sc.fit_transform(X_test[numerical_columns]), columns = numerical_columns)\n",
    "\n",
    "X_train_one_hot_encoded = X_train[one_hot_encoded_columns].reset_index().drop(columns = 'VPUMFID')\n",
    "X_test_one_hot_encoded = X_test[one_hot_encoded_columns].reset_index().drop(columns = 'VPUMFID')\n",
    "\n",
    "# The one hot encoded columns are merged back with the scaled and normalized columns.\n",
    "\n",
    "X_train_scaled = X_train_scaled.merge(X_train_one_hot_encoded, how = 'left', left_index = True, right_index = True)\n",
    "X_test_scaled = X_test_scaled.merge(X_test_one_hot_encoded, how = 'left', left_index = True, right_index = True)"
   ]
  },
  {
   "cell_type": "code",
   "execution_count": 122,
   "id": "d6b3812a",
   "metadata": {},
   "outputs": [
    {
     "data": {
      "text/html": [
       "<div>\n",
       "<style scoped>\n",
       "    .dataframe tbody tr th:only-of-type {\n",
       "        vertical-align: middle;\n",
       "    }\n",
       "\n",
       "    .dataframe tbody tr th {\n",
       "        vertical-align: top;\n",
       "    }\n",
       "\n",
       "    .dataframe thead th {\n",
       "        text-align: right;\n",
       "    }\n",
       "</style>\n",
       "<table border=\"1\" class=\"dataframe\">\n",
       "  <thead>\n",
       "    <tr style=\"text-align: right;\">\n",
       "      <th></th>\n",
       "      <th>Transportation_Spend</th>\n",
       "      <th>Total_Spend</th>\n",
       "      <th>Outdoor_Activities</th>\n",
       "      <th>Money_Spent_in_Canada</th>\n",
       "      <th>Number_of_nights_ON</th>\n",
       "      <th>Spend_on_Canadian_Carriers</th>\n",
       "      <th>Indoor_Activities</th>\n",
       "      <th>Time_Spent_ON_Nights</th>\n",
       "      <th>Male_Travellers_55_to_64</th>\n",
       "      <th>Hotel</th>\n",
       "      <th>Private_vehicle</th>\n",
       "      <th>Bus_Train</th>\n",
       "      <th>Trip_Reason_Study</th>\n",
       "      <th>Mode_of_Entry_Land</th>\n",
       "      <th>Flights</th>\n",
       "      <th>Mode_of_Entry_Bus_Train</th>\n",
       "      <th>Economy_Class</th>\n",
       "      <th>Camp_Trailer_Cottage</th>\n",
       "    </tr>\n",
       "  </thead>\n",
       "  <tbody>\n",
       "    <tr>\n",
       "      <th>0</th>\n",
       "      <td>-0.468059</td>\n",
       "      <td>-0.044649</td>\n",
       "      <td>2.109160</td>\n",
       "      <td>-0.748362</td>\n",
       "      <td>-0.338739</td>\n",
       "      <td>1.808713</td>\n",
       "      <td>0.477296</td>\n",
       "      <td>-0.202557</td>\n",
       "      <td>5.373413</td>\n",
       "      <td>0</td>\n",
       "      <td>1</td>\n",
       "      <td>0</td>\n",
       "      <td>0</td>\n",
       "      <td>1</td>\n",
       "      <td>0</td>\n",
       "      <td>0</td>\n",
       "      <td>0</td>\n",
       "      <td>1</td>\n",
       "    </tr>\n",
       "    <tr>\n",
       "      <th>1</th>\n",
       "      <td>-0.468059</td>\n",
       "      <td>-0.302070</td>\n",
       "      <td>-0.430489</td>\n",
       "      <td>0.136509</td>\n",
       "      <td>-0.065786</td>\n",
       "      <td>-0.552742</td>\n",
       "      <td>-0.024531</td>\n",
       "      <td>-0.145003</td>\n",
       "      <td>-0.374783</td>\n",
       "      <td>0</td>\n",
       "      <td>1</td>\n",
       "      <td>0</td>\n",
       "      <td>0</td>\n",
       "      <td>0</td>\n",
       "      <td>0</td>\n",
       "      <td>0</td>\n",
       "      <td>1</td>\n",
       "      <td>0</td>\n",
       "    </tr>\n",
       "    <tr>\n",
       "      <th>2</th>\n",
       "      <td>-0.467876</td>\n",
       "      <td>2.048258</td>\n",
       "      <td>2.109160</td>\n",
       "      <td>1.561890</td>\n",
       "      <td>-0.236382</td>\n",
       "      <td>-0.552286</td>\n",
       "      <td>0.477296</td>\n",
       "      <td>-0.145003</td>\n",
       "      <td>-0.374783</td>\n",
       "      <td>1</td>\n",
       "      <td>0</td>\n",
       "      <td>1</td>\n",
       "      <td>0</td>\n",
       "      <td>0</td>\n",
       "      <td>0</td>\n",
       "      <td>0</td>\n",
       "      <td>0</td>\n",
       "      <td>0</td>\n",
       "    </tr>\n",
       "    <tr>\n",
       "      <th>3</th>\n",
       "      <td>-0.468028</td>\n",
       "      <td>0.364144</td>\n",
       "      <td>-0.430489</td>\n",
       "      <td>-0.226288</td>\n",
       "      <td>-0.168144</td>\n",
       "      <td>-0.553026</td>\n",
       "      <td>-0.526358</td>\n",
       "      <td>-0.231334</td>\n",
       "      <td>-0.374783</td>\n",
       "      <td>1</td>\n",
       "      <td>0</td>\n",
       "      <td>0</td>\n",
       "      <td>0</td>\n",
       "      <td>0</td>\n",
       "      <td>0</td>\n",
       "      <td>0</td>\n",
       "      <td>1</td>\n",
       "      <td>0</td>\n",
       "    </tr>\n",
       "    <tr>\n",
       "      <th>4</th>\n",
       "      <td>-0.468059</td>\n",
       "      <td>-0.460692</td>\n",
       "      <td>-0.430489</td>\n",
       "      <td>0.431466</td>\n",
       "      <td>0.241286</td>\n",
       "      <td>-0.553026</td>\n",
       "      <td>0.979123</td>\n",
       "      <td>0.113990</td>\n",
       "      <td>-0.374783</td>\n",
       "      <td>0</td>\n",
       "      <td>1</td>\n",
       "      <td>0</td>\n",
       "      <td>0</td>\n",
       "      <td>0</td>\n",
       "      <td>0</td>\n",
       "      <td>0</td>\n",
       "      <td>1</td>\n",
       "      <td>0</td>\n",
       "    </tr>\n",
       "  </tbody>\n",
       "</table>\n",
       "</div>"
      ],
      "text/plain": [
       "   Transportation_Spend  Total_Spend  Outdoor_Activities  \\\n",
       "0             -0.468059    -0.044649            2.109160   \n",
       "1             -0.468059    -0.302070           -0.430489   \n",
       "2             -0.467876     2.048258            2.109160   \n",
       "3             -0.468028     0.364144           -0.430489   \n",
       "4             -0.468059    -0.460692           -0.430489   \n",
       "\n",
       "   Money_Spent_in_Canada  Number_of_nights_ON  Spend_on_Canadian_Carriers  \\\n",
       "0              -0.748362            -0.338739                    1.808713   \n",
       "1               0.136509            -0.065786                   -0.552742   \n",
       "2               1.561890            -0.236382                   -0.552286   \n",
       "3              -0.226288            -0.168144                   -0.553026   \n",
       "4               0.431466             0.241286                   -0.553026   \n",
       "\n",
       "   Indoor_Activities  Time_Spent_ON_Nights  Male_Travellers_55_to_64  Hotel  \\\n",
       "0           0.477296             -0.202557                  5.373413      0   \n",
       "1          -0.024531             -0.145003                 -0.374783      0   \n",
       "2           0.477296             -0.145003                 -0.374783      1   \n",
       "3          -0.526358             -0.231334                 -0.374783      1   \n",
       "4           0.979123              0.113990                 -0.374783      0   \n",
       "\n",
       "   Private_vehicle  Bus_Train  Trip_Reason_Study  Mode_of_Entry_Land  Flights  \\\n",
       "0                1          0                  0                   1        0   \n",
       "1                1          0                  0                   0        0   \n",
       "2                0          1                  0                   0        0   \n",
       "3                0          0                  0                   0        0   \n",
       "4                1          0                  0                   0        0   \n",
       "\n",
       "   Mode_of_Entry_Bus_Train  Economy_Class  Camp_Trailer_Cottage  \n",
       "0                        0              0                     1  \n",
       "1                        0              1                     0  \n",
       "2                        0              0                     0  \n",
       "3                        0              1                     0  \n",
       "4                        0              1                     0  "
      ]
     },
     "execution_count": 122,
     "metadata": {},
     "output_type": "execute_result"
    }
   ],
   "source": [
    "X_train_scaled.head()"
   ]
  },
  {
   "cell_type": "code",
   "execution_count": 123,
   "id": "21d713b6",
   "metadata": {},
   "outputs": [],
   "source": [
    "param_grid = {'n_neighbors': np.arange(5, 100, 5)}\n",
    "\n",
    "knn = KNeighborsClassifier()\n",
    "\n",
    "knn_gscv = GridSearchCV(knn, param_grid, cv = 5, scoring = 'recall')\n",
    "knn_gscv.fit(X_train_scaled, y_train)\n",
    "\n",
    "best_knn = knn_gscv.best_estimator_\n",
    "\n",
    "predicted_train_knn = best_knn.predict(X_train_scaled)\n",
    "predicted_test_knn = best_knn.predict(X_test_scaled)"
   ]
  },
  {
   "cell_type": "code",
   "execution_count": 124,
   "id": "35661dcf",
   "metadata": {},
   "outputs": [
    {
     "data": {
      "text/plain": [
       "{'n_neighbors': 5}"
      ]
     },
     "execution_count": 124,
     "metadata": {},
     "output_type": "execute_result"
    }
   ],
   "source": [
    "knn_gscv.best_params_"
   ]
  },
  {
   "cell_type": "code",
   "execution_count": 125,
   "id": "639b16f7",
   "metadata": {},
   "outputs": [
    {
     "name": "stderr",
     "output_type": "stream",
     "text": [
      "<ipython-input-110-2d5c9448ef94>:18: UserWarning: Matplotlib is currently using agg, which is a non-GUI backend, so cannot show the figure.\n",
      "  plt.show()\n"
     ]
    },
    {
     "name": "stdout",
     "output_type": "stream",
     "text": [
      "Precision for KNN - Train = 0.768377253814147\n",
      "Recall for KNN - Train = 0.5982721382289417\n",
      "F1 Score for KNN - Train = 0.6727383120825743\n",
      "Area under the curve for KNN - Train = 0.7865664469558077\n"
     ]
    }
   ],
   "source": [
    "model_evaluation(y_train, predicted_train_knn, 'KNN - Train')"
   ]
  },
  {
   "cell_type": "code",
   "execution_count": 126,
   "id": "8cd877b2",
   "metadata": {},
   "outputs": [
    {
     "name": "stderr",
     "output_type": "stream",
     "text": [
      "<ipython-input-110-2d5c9448ef94>:18: UserWarning: Matplotlib is currently using agg, which is a non-GUI backend, so cannot show the figure.\n",
      "  plt.show()\n"
     ]
    },
    {
     "name": "stdout",
     "output_type": "stream",
     "text": [
      "Precision for KNN - Test = 0.6397306397306397\n",
      "Recall for KNN - Test = 0.46454767726161367\n",
      "F1 Score for KNN - Test = 0.5382436260623229\n",
      "Area under the curve for KNN - Test = 0.713409240605419\n"
     ]
    }
   ],
   "source": [
    "model_evaluation(y_test, predicted_test_knn, 'KNN - Test')"
   ]
  },
  {
   "cell_type": "code",
   "execution_count": 127,
   "id": "10e13964",
   "metadata": {},
   "outputs": [
    {
     "name": "stdout",
     "output_type": "stream",
     "text": [
      "Confusion Matrix (Accuracy 0.9288)\n",
      "\n",
      "       Prediction\n",
      "Actual    0    1\n",
      "     0 6476  167\n",
      "     1  372  554\n"
     ]
    }
   ],
   "source": [
    "classificationSummary(y_train, predicted_train_knn)"
   ]
  },
  {
   "cell_type": "code",
   "execution_count": 128,
   "id": "c9a60df1",
   "metadata": {},
   "outputs": [
    {
     "name": "stdout",
     "output_type": "stream",
     "text": [
      "Confusion Matrix (Accuracy 0.8995)\n",
      "\n",
      "       Prediction\n",
      "Actual    0    1\n",
      "     0 2729  107\n",
      "     1  219  190\n"
     ]
    }
   ],
   "source": [
    "classificationSummary(y_test, predicted_test_knn)"
   ]
  },
  {
   "cell_type": "markdown",
   "id": "56f81697",
   "metadata": {},
   "source": [
    "### Binary Classifier 3 - Logistic Regression"
   ]
  },
  {
   "cell_type": "code",
   "execution_count": 129,
   "id": "85341cdc",
   "metadata": {},
   "outputs": [],
   "source": [
    "model = LogisticRegression(penalty = 'l2', C=1e42, solver='liblinear')\n",
    "\n",
    "model.fit(X_train, y_train)\n",
    "\n",
    "predicted_train_logistic = model.predict(X_train)\n",
    "predicted_test_logistic = model.predict(X_test)"
   ]
  },
  {
   "cell_type": "markdown",
   "id": "30387cdb",
   "metadata": {},
   "source": [
    "#### Threshold Tuning - To account for class imbalance. The dataset has much more people who won't rent than people who will."
   ]
  },
  {
   "cell_type": "code",
   "execution_count": 130,
   "id": "5b34e39c",
   "metadata": {},
   "outputs": [],
   "source": [
    "predicted_proba_train_logistic = model.predict_proba(X_train)\n",
    "predicted_proba_test_logistic = model.predict_proba(X_test)\n",
    "\n",
    "recall_score_results = []\n",
    "\n",
    "for threshold in np.arange(0.1, 1, 0.1):\n",
    "    predicted_train_logistic_tuned = [1 if x >= threshold else 0 for x in predicted_proba_train_logistic[:,1:]]\n",
    "    recall_score_results.append([threshold, recall_score(y_train, predicted_train_logistic_tuned)])\n",
    "\n",
    "recall_score_results = pd.DataFrame(recall_score_results).rename(columns = {0:'Threshold', 1:'Recall'})"
   ]
  },
  {
   "cell_type": "code",
   "execution_count": 131,
   "id": "cbd80649",
   "metadata": {},
   "outputs": [
    {
     "data": {
      "text/html": [
       "<div>\n",
       "<style scoped>\n",
       "    .dataframe tbody tr th:only-of-type {\n",
       "        vertical-align: middle;\n",
       "    }\n",
       "\n",
       "    .dataframe tbody tr th {\n",
       "        vertical-align: top;\n",
       "    }\n",
       "\n",
       "    .dataframe thead th {\n",
       "        text-align: right;\n",
       "    }\n",
       "</style>\n",
       "<table border=\"1\" class=\"dataframe\">\n",
       "  <thead>\n",
       "    <tr style=\"text-align: right;\">\n",
       "      <th></th>\n",
       "      <th>Threshold</th>\n",
       "      <th>Recall</th>\n",
       "    </tr>\n",
       "  </thead>\n",
       "  <tbody>\n",
       "    <tr>\n",
       "      <th>0</th>\n",
       "      <td>0.1</td>\n",
       "      <td>0.859611</td>\n",
       "    </tr>\n",
       "    <tr>\n",
       "      <th>1</th>\n",
       "      <td>0.2</td>\n",
       "      <td>0.666307</td>\n",
       "    </tr>\n",
       "    <tr>\n",
       "      <th>2</th>\n",
       "      <td>0.3</td>\n",
       "      <td>0.495680</td>\n",
       "    </tr>\n",
       "    <tr>\n",
       "      <th>3</th>\n",
       "      <td>0.4</td>\n",
       "      <td>0.207343</td>\n",
       "    </tr>\n",
       "    <tr>\n",
       "      <th>4</th>\n",
       "      <td>0.5</td>\n",
       "      <td>0.060475</td>\n",
       "    </tr>\n",
       "    <tr>\n",
       "      <th>5</th>\n",
       "      <td>0.6</td>\n",
       "      <td>0.000000</td>\n",
       "    </tr>\n",
       "    <tr>\n",
       "      <th>6</th>\n",
       "      <td>0.7</td>\n",
       "      <td>0.000000</td>\n",
       "    </tr>\n",
       "    <tr>\n",
       "      <th>7</th>\n",
       "      <td>0.8</td>\n",
       "      <td>0.000000</td>\n",
       "    </tr>\n",
       "    <tr>\n",
       "      <th>8</th>\n",
       "      <td>0.9</td>\n",
       "      <td>0.000000</td>\n",
       "    </tr>\n",
       "  </tbody>\n",
       "</table>\n",
       "</div>"
      ],
      "text/plain": [
       "   Threshold    Recall\n",
       "0        0.1  0.859611\n",
       "1        0.2  0.666307\n",
       "2        0.3  0.495680\n",
       "3        0.4  0.207343\n",
       "4        0.5  0.060475\n",
       "5        0.6  0.000000\n",
       "6        0.7  0.000000\n",
       "7        0.8  0.000000\n",
       "8        0.9  0.000000"
      ]
     },
     "execution_count": 131,
     "metadata": {},
     "output_type": "execute_result"
    }
   ],
   "source": [
    "recall_score_results"
   ]
  },
  {
   "cell_type": "code",
   "execution_count": 132,
   "id": "57686f4f",
   "metadata": {},
   "outputs": [],
   "source": [
    "tuned_predicted_results_train = [1 if x >= 0.1 else 0 for x in predicted_proba_train_logistic[:,1:]]\n",
    "tuned_predicted_results_test = [1 if x >= 0.1 else 0 for x in predicted_proba_test_logistic[:,1:]]"
   ]
  },
  {
   "cell_type": "code",
   "execution_count": 133,
   "id": "44488c3f",
   "metadata": {},
   "outputs": [
    {
     "name": "stderr",
     "output_type": "stream",
     "text": [
      "<ipython-input-110-2d5c9448ef94>:18: UserWarning: Matplotlib is currently using agg, which is a non-GUI backend, so cannot show the figure.\n",
      "  plt.show()\n"
     ]
    },
    {
     "name": "stdout",
     "output_type": "stream",
     "text": [
      "Precision for Logistic Regression - Train = 0.1419147798181494\n",
      "Recall for Logistic Regression - Train = 0.8596112311015118\n",
      "F1 Score for Logistic Regression - Train = 0.24361132364192806\n",
      "Area under the curve for Logistic Regression - Train = 0.5675445889061677\n"
     ]
    }
   ],
   "source": [
    "model_evaluation(y_train, tuned_predicted_results_train, 'Logistic Regression - Train')"
   ]
  },
  {
   "cell_type": "code",
   "execution_count": 134,
   "id": "7715a2fe",
   "metadata": {},
   "outputs": [
    {
     "name": "stderr",
     "output_type": "stream",
     "text": [
      "<ipython-input-110-2d5c9448ef94>:18: UserWarning: Matplotlib is currently using agg, which is a non-GUI backend, so cannot show the figure.\n",
      "  plt.show()\n"
     ]
    },
    {
     "name": "stdout",
     "output_type": "stream",
     "text": [
      "Precision for Logistic Regression - Test = 0.14452027298273787\n",
      "Recall for Logistic Regression - Test = 0.8801955990220048\n",
      "F1 Score for Logistic Regression - Test = 0.2482758620689655\n",
      "Area under the curve for Logistic Regression - Test = 0.5643925808932309\n"
     ]
    }
   ],
   "source": [
    "model_evaluation(y_test, tuned_predicted_results_test, 'Logistic Regression - Test')"
   ]
  },
  {
   "cell_type": "code",
   "execution_count": 135,
   "id": "a84baadd",
   "metadata": {},
   "outputs": [
    {
     "name": "stdout",
     "output_type": "stream",
     "text": [
      "Confusion Matrix (Accuracy 0.3469)\n",
      "\n",
      "       Prediction\n",
      "Actual    0    1\n",
      "     0 1830 4813\n",
      "     1  130  796\n"
     ]
    }
   ],
   "source": [
    "classificationSummary(y_train, tuned_predicted_results_train)"
   ]
  },
  {
   "cell_type": "code",
   "execution_count": 136,
   "id": "3b2cc2a1",
   "metadata": {},
   "outputs": [
    {
     "name": "stdout",
     "output_type": "stream",
     "text": [
      "Confusion Matrix (Accuracy 0.3282)\n",
      "\n",
      "       Prediction\n",
      "Actual    0    1\n",
      "     0  705 2131\n",
      "     1   49  360\n"
     ]
    }
   ],
   "source": [
    "classificationSummary(y_test, tuned_predicted_results_test)"
   ]
  },
  {
   "cell_type": "markdown",
   "id": "f4321e29",
   "metadata": {},
   "source": [
    "### Evaluation of Model Performance"
   ]
  },
  {
   "cell_type": "code",
   "execution_count": 137,
   "id": "9fc02f5f",
   "metadata": {},
   "outputs": [],
   "source": [
    "model_evaluation = pd.DataFrame({\n",
    "    \n",
    "    'Binary Classifier (Model)'    : ['Decision Tree', 'KNN', 'Logistic Regression'],\n",
    "    \n",
    "    'Precision (Train)' : [precision_score(y_train, predicted_train_tree), \n",
    "                           precision_score(y_train, predicted_train_knn),\n",
    "                           precision_score(y_train, tuned_predicted_results_train)],\n",
    "    \n",
    "    'Precision (Test)' : [precision_score(y_test, predicted_test_tree), \n",
    "                           precision_score(y_test, predicted_test_knn),\n",
    "                           precision_score(y_test, tuned_predicted_results_test)],\n",
    "    \n",
    "    'Recall (Train)' : [recall_score(y_train, predicted_train_tree), \n",
    "                           recall_score(y_train, predicted_train_knn),\n",
    "                           recall_score(y_train, tuned_predicted_results_train)],\n",
    "    \n",
    "    'Recall (Test)' : [recall_score(y_test, predicted_test_tree), \n",
    "                           recall_score(y_test, predicted_test_knn),\n",
    "                           recall_score(y_test, tuned_predicted_results_test)],\n",
    "\n",
    "    'F1 Score (Train)' : [f1_score(y_train, predicted_train_tree), \n",
    "                           f1_score(y_train, predicted_train_knn),\n",
    "                           f1_score(y_train, tuned_predicted_results_train)],\n",
    "    \n",
    "    'F1 Score (Test)' : [f1_score(y_test, predicted_test_tree), \n",
    "                           f1_score(y_test, predicted_test_knn),\n",
    "                           f1_score(y_test, tuned_predicted_results_test)],\n",
    "    \n",
    "    'Accuracy (Train)' : [accuracy_score(y_train, predicted_train_tree), \n",
    "                           accuracy_score(y_train, predicted_train_knn),\n",
    "                           accuracy_score(y_train, tuned_predicted_results_train)],\n",
    "    \n",
    "    'Accuracy (Test)' : [accuracy_score(y_test, predicted_test_tree), \n",
    "                           accuracy_score(y_test, predicted_test_knn),\n",
    "                           accuracy_score(y_test, tuned_predicted_results_test)]\n",
    "    \n",
    "})"
   ]
  },
  {
   "cell_type": "code",
   "execution_count": 138,
   "id": "1a1c52e5",
   "metadata": {},
   "outputs": [
    {
     "data": {
      "text/html": [
       "<div>\n",
       "<style scoped>\n",
       "    .dataframe tbody tr th:only-of-type {\n",
       "        vertical-align: middle;\n",
       "    }\n",
       "\n",
       "    .dataframe tbody tr th {\n",
       "        vertical-align: top;\n",
       "    }\n",
       "\n",
       "    .dataframe thead th {\n",
       "        text-align: right;\n",
       "    }\n",
       "</style>\n",
       "<table border=\"1\" class=\"dataframe\">\n",
       "  <thead>\n",
       "    <tr style=\"text-align: right;\">\n",
       "      <th></th>\n",
       "      <th>Binary Classifier (Model)</th>\n",
       "      <th>Precision (Train)</th>\n",
       "      <th>Precision (Test)</th>\n",
       "      <th>Recall (Train)</th>\n",
       "      <th>Recall (Test)</th>\n",
       "      <th>F1 Score (Train)</th>\n",
       "      <th>F1 Score (Test)</th>\n",
       "      <th>Accuracy (Train)</th>\n",
       "      <th>Accuracy (Test)</th>\n",
       "    </tr>\n",
       "  </thead>\n",
       "  <tbody>\n",
       "    <tr>\n",
       "      <th>0</th>\n",
       "      <td>Decision Tree</td>\n",
       "      <td>0.809406</td>\n",
       "      <td>0.725490</td>\n",
       "      <td>0.706263</td>\n",
       "      <td>0.633252</td>\n",
       "      <td>0.754325</td>\n",
       "      <td>0.676240</td>\n",
       "      <td>0.943718</td>\n",
       "      <td>0.923575</td>\n",
       "    </tr>\n",
       "    <tr>\n",
       "      <th>1</th>\n",
       "      <td>KNN</td>\n",
       "      <td>0.768377</td>\n",
       "      <td>0.639731</td>\n",
       "      <td>0.598272</td>\n",
       "      <td>0.464548</td>\n",
       "      <td>0.672738</td>\n",
       "      <td>0.538244</td>\n",
       "      <td>0.928788</td>\n",
       "      <td>0.899538</td>\n",
       "    </tr>\n",
       "    <tr>\n",
       "      <th>2</th>\n",
       "      <td>Logistic Regression</td>\n",
       "      <td>0.141915</td>\n",
       "      <td>0.144520</td>\n",
       "      <td>0.859611</td>\n",
       "      <td>0.880196</td>\n",
       "      <td>0.243611</td>\n",
       "      <td>0.248276</td>\n",
       "      <td>0.346941</td>\n",
       "      <td>0.328197</td>\n",
       "    </tr>\n",
       "  </tbody>\n",
       "</table>\n",
       "</div>"
      ],
      "text/plain": [
       "  Binary Classifier (Model)  Precision (Train)  Precision (Test)  \\\n",
       "0             Decision Tree           0.809406          0.725490   \n",
       "1                       KNN           0.768377          0.639731   \n",
       "2       Logistic Regression           0.141915          0.144520   \n",
       "\n",
       "   Recall (Train)  Recall (Test)  F1 Score (Train)  F1 Score (Test)  \\\n",
       "0        0.706263       0.633252          0.754325         0.676240   \n",
       "1        0.598272       0.464548          0.672738         0.538244   \n",
       "2        0.859611       0.880196          0.243611         0.248276   \n",
       "\n",
       "   Accuracy (Train)  Accuracy (Test)  \n",
       "0          0.943718         0.923575  \n",
       "1          0.928788         0.899538  \n",
       "2          0.346941         0.328197  "
      ]
     },
     "execution_count": 138,
     "metadata": {},
     "output_type": "execute_result"
    }
   ],
   "source": [
    "model_evaluation"
   ]
  },
  {
   "cell_type": "markdown",
   "id": "d516aa55",
   "metadata": {},
   "source": [
    "The evaluation metrics for the 3 binary classifiers constructed are shown in the table above. \n",
    "\n",
    "- <b> Precision </b> indicates how correctly the people who are looking to rent are captured by the model. A high precision indicates a low False Positive rate.\n",
    "\n",
    "\n",
    "- <b> Recall </b> indicates what proportion of the people who are actually going to rent are predicted by the model. In the context of this model, recall would quantify the reach of the our client through their marketing campaigns, and is a measure of how wide of a net are they casting, in terms of who sees the campaign. A high recall indicates a low False Negative rate.\n",
    "\n",
    "\n",
    "- <b> F-1 score and Accuracy score </b> are both measures of how well the model predicts both positive and negative classes (people who will rent an automobile and not rent respectively) and quantifies how well the model fits the underlying data.\n",
    "\n",
    "The most important KPI for evaluating model performance in this case would be recall. Since our client's intent is to use the results of the model in a marketing campaign, it is ok to have False Positives in the final outcome. However, False Negatives would be more damaging to our client in this case, as False Negatives represent people who would have rented, but the model erroneously predicted they will not. False Negatives, in the context of this problem, represent opportunity cost, and should be minimized, in whatever model is picked. Hence, the best model for this use case would be model with the highest recall, or the lowest false negative rate. This would ensure a wide net is being cast and the maximum number of people are seeing the campaign and missed opportunities are minimized.\n",
    "\n",
    "<b> The decision tree classifier </b> performs similarly in the train and test sets across all 4 KPI's, indicating there is no overfitting in the model. The test KPI's are lower than the train KPI's, which is expected. The model does quite well in capturing the maximum number of people who will rent and does so correctly (shown by the high precision and recall across both train & test sets).\n",
    "\n",
    "<b> The KNN classifier </b> performs similarly across all 4 evaluation KPI's. However, the KPI's in the test set are much lower than their equivalent KPI's in the training set, indicating there might be some overfitting in the model. \n",
    "\n",
    "<b> The logistic regression classifier </b> performs really well in capturing most of the people who will rent, indicated by the high recall, across both train and test sets, but has a really high False Positive rate (indicated by the very low precision). This means, while the model does capture almost all customers who will actually rent, but also erroneously includes a lot of customers who do not express an intent to rent a vehicle from our client. From a marketing perspective, this might make the target audience for the campaign super diluted and reduce the Return on Ad Spend (ROAS) from the campaign. The model also poorly fits the underlying data."
   ]
  },
  {
   "cell_type": "markdown",
   "id": "1a79b50d",
   "metadata": {},
   "source": [
    "### Recommendations to Client : Decision Tree Classifier"
   ]
  },
  {
   "cell_type": "code",
   "execution_count": 139,
   "id": "4bcff402",
   "metadata": {},
   "outputs": [
    {
     "name": "stderr",
     "output_type": "stream",
     "text": [
      "<ipython-input-139-3fdce3677e83>:17: UserWarning: Matplotlib is currently using agg, which is a non-GUI backend, so cannot show the figure.\n",
      "  plt.show()\n"
     ]
    }
   ],
   "source": [
    "importances = best_tree.feature_importances_\n",
    "feature_names = X.columns\n",
    "\n",
    "# Sort the feature importances in descending order\n",
    "indices = np.argsort(importances)[::-1]\n",
    "sorted_feature_names = [feature_names[i] for i in indices]\n",
    "sorted_importances = importances[indices]\n",
    "\n",
    "# Plot the feature importances\n",
    "plt.figure(figsize=(15, 7))\n",
    "plt.title(\"15 Most Important Features Impacting Decision to Rent a Car\")\n",
    "plt.bar(range(len(importances[:15])), sorted_importances[:15], align=\"center\")\n",
    "plt.xticks(range(len(importances[:15])), sorted_feature_names[:15], rotation=90)\n",
    "plt.xlabel(\"Features\")\n",
    "plt.ylabel(\"Importance\")\n",
    "plt.tight_layout()\n",
    "plt.show()"
   ]
  },
  {
   "cell_type": "markdown",
   "id": "c240af4c",
   "metadata": {},
   "source": [
    "The decision tree classifier should be presented to our client. \n",
    "\n",
    "<b> Model Performance </b> : From a model performance standpoint, the decision tree classifier fits the underlying data well, as it has the highest F-1 score and accuracy score out of all 3 binary classifiers. \n",
    "\n",
    "The decision tree classifier has a high recall (may be not the highest), but does a good job of capturing most customers who express an intent to rent from our client, without including too many False Positives in the final outcome, which might dilute our client's target audience and reduce the Return on Ad Spend (ROAS). The decision tree classifier has the best balance of precision and recall out of all 3 classifiers constructed.\n",
    "\n",
    "<b> Explainability & Interpretability </b> : The decision tree model also allows us to build a feature importance chart, which essentially bubbles up the most important features impacting a customer's decision to rent or not to rent. This makes it much easier to explain the inner workings of the model to our client, making the model all the more interpretable and explainable, and seem less \"black box\". The tree can also be plotted, if the client is interested in understanding the logic behind the classifier. \n",
    "\n",
    "The KNN and logistic regression approaches do not offer the same level of interpretability as the decision tree and does not have the same level of model performance either. The decision tree provides a very fine balance of an explainable, interpretable model that captures most people who will rent from our client.\n",
    "\n",
    "As we can see from the feature importance chart above, the most important features all make intuitive sense. If customers have a large budget for transportation, they are more likely to rent a car. If customers do not have their own vehicle in Ontario, they are more likely to rent. Customers staying in hotels are also more likely to rent - if they are staying with friends/family, they will most likely use their car or friends and family will show them around and do not need to rent a car. Customers who come to Ontario to study are also more likely to rent as students do not have their own vehicle in a new location / country. Customers who come to Ontario for outdoor activities are also likely to rent as beaches, natural parks, hiking trails, etc. tend to be far away and not very accessible with public transit.\n",
    "\n",
    "<b> Callouts </b> : \n",
    "- There is a lot of instances of customers skipping questions while answering the survey, leading to a lot of missing data. A customer might have actually done something but it was not captured in the data because the question was skipped, which introduces noise to the data.\n",
    "- The data for the most important features shown above, might not always be available, at the time of making the prediction. Hence, the model might need to be re-trained based on the data at hand, which might reduce accuracy."
   ]
  }
 ],
 "metadata": {
  "kernelspec": {
   "display_name": "Python 3 (ipykernel)",
   "language": "python",
   "name": "python3"
  },
  "language_info": {
   "codemirror_mode": {
    "name": "ipython",
    "version": 3
   },
   "file_extension": ".py",
   "mimetype": "text/x-python",
   "name": "python",
   "nbconvert_exporter": "python",
   "pygments_lexer": "ipython3",
   "version": "3.10.9"
  }
 },
 "nbformat": 4,
 "nbformat_minor": 5
}
