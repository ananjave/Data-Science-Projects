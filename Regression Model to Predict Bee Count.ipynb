{
 "cells": [
  {
   "cell_type": "markdown",
   "id": "b361ed8a",
   "metadata": {},
   "source": [
    "# Regression Model to Predict Total Count of Bees in a Given Month"
   ]
  },
  {
   "cell_type": "markdown",
   "id": "a8a8cc4d",
   "metadata": {},
   "source": [
    "### Model Building Process"
   ]
  },
  {
   "cell_type": "markdown",
   "id": "e0f3513e",
   "metadata": {},
   "source": [
    "The model building process consists of the following steps: \n",
    "\n",
    "\n",
    "- **Data Cleanup:** This involves examining the data for missing values and outliers, which were not present in this dataset. This can be done by looking at the summary statistics for the data, using the .info() and .describe() function calls on the data. The variable 'Year' is dropped from the analysis and it will not add much value to the model in terms of predictive power. \n",
    "\n",
    "\n",
    "\n",
    "- **Data Visualization + Feature Engineering:** The data is visualized to see any trends that can be noticed in the dataset. In this case, we can see that the bee count is much higher in the summer, spring and fall months when the temperature is warm, than in the winter months. Hence, a dummy variable \"Spring_Summer_Fall\" has been created to indicate times of peak bee count. \n",
    "\n",
    "\n",
    "- **Modelling:** A Test-Test-Test approach has been used here, where all variables which can potentially contribute to the model output have initially been included. This \"test-down\" approach starts with a complex model, with a large number of features and uses feature extraction techniques (outlined below) to hand-pick those features which are statistically significant.\n",
    "\n",
    "\n",
    "- **Feature Extraction:** A heatmap is generated to visually show the pairwise correlation between different variables in the model. This helps choose which features to include and not to include in the modelling step. Different sets of features are included in the model and the p-value of the individual t-tests is checked from the OLS output. Variables which have a p-value greater than the chosen alpha of 0.05 are removed.\n",
    "\n",
    "\n",
    "- **Heteroskedasticity Checks:** The model is checked to see if there is heteroskedasticity in the final output, by plotting the residuals against the fitted values and see if a cone-shape pattern emerges. \n",
    "\n",
    "\n",
    "- **Outlier Checks:** The Cook's distance plot is plotted to see if there are data points with high influence on the regression results. If there are such data points, then the outliers have to be either deleted if out-of-scope for the analysis, or imputed if in-scope.  "
   ]
  },
  {
   "cell_type": "code",
   "execution_count": 303,
   "id": "9556fa5f",
   "metadata": {},
   "outputs": [],
   "source": [
    "import pandas as pd\n",
    "import numpy as np\n",
    "import matplotlib.pyplot as plt\n",
    "\n",
    "from statsmodels.formula.api import ols\n",
    "import seaborn as sns\n",
    "from scipy.stats import norm\n",
    "import statsmodels.api as sm\n",
    "\n",
    "from sklearn.model_selection import train_test_split\n",
    "from sklearn.linear_model import LinearRegression\n",
    "from sklearn.metrics import mean_squared_error\n",
    "from sklearn.metrics import mean_absolute_error\n",
    "from numpy import sqrt"
   ]
  },
  {
   "cell_type": "code",
   "execution_count": 304,
   "id": "466acad7",
   "metadata": {},
   "outputs": [],
   "source": [
    "data_1 = pd.read_excel('/Users/mohammadananjaved/Desktop/MMA860 - Data Acquisition & Management/MMA860_Exam_Data_2024B.xlsx',\n",
    "                         sheet_name = 'Bees')"
   ]
  },
  {
   "cell_type": "code",
   "execution_count": 305,
   "id": "4bfc27de",
   "metadata": {},
   "outputs": [
    {
     "data": {
      "text/html": [
       "<div>\n",
       "<style scoped>\n",
       "    .dataframe tbody tr th:only-of-type {\n",
       "        vertical-align: middle;\n",
       "    }\n",
       "\n",
       "    .dataframe tbody tr th {\n",
       "        vertical-align: top;\n",
       "    }\n",
       "\n",
       "    .dataframe thead th {\n",
       "        text-align: right;\n",
       "    }\n",
       "</style>\n",
       "<table border=\"1\" class=\"dataframe\">\n",
       "  <thead>\n",
       "    <tr style=\"text-align: right;\">\n",
       "      <th></th>\n",
       "      <th>Bee_Count</th>\n",
       "      <th>Year</th>\n",
       "      <th>Avg_Temp</th>\n",
       "      <th>Low_Temp</th>\n",
       "      <th>High_Temp</th>\n",
       "      <th>Total_Precip</th>\n",
       "      <th>Major_Storm</th>\n",
       "      <th>Avg_Wind_Speed</th>\n",
       "      <th>Avail_Flower_Species</th>\n",
       "    </tr>\n",
       "  </thead>\n",
       "  <tbody>\n",
       "    <tr>\n",
       "      <th>count</th>\n",
       "      <td>54.000000</td>\n",
       "      <td>54.000000</td>\n",
       "      <td>54.000000</td>\n",
       "      <td>54.000000</td>\n",
       "      <td>54.000000</td>\n",
       "      <td>54.000000</td>\n",
       "      <td>54.000000</td>\n",
       "      <td>54.000000</td>\n",
       "      <td>54.000000</td>\n",
       "    </tr>\n",
       "    <tr>\n",
       "      <th>mean</th>\n",
       "      <td>34789.388889</td>\n",
       "      <td>2019.777778</td>\n",
       "      <td>11.907407</td>\n",
       "      <td>1.703704</td>\n",
       "      <td>22.111111</td>\n",
       "      <td>30.251852</td>\n",
       "      <td>0.462963</td>\n",
       "      <td>10.688889</td>\n",
       "      <td>14.685185</td>\n",
       "    </tr>\n",
       "    <tr>\n",
       "      <th>std</th>\n",
       "      <td>25047.689838</td>\n",
       "      <td>1.327029</td>\n",
       "      <td>13.105189</td>\n",
       "      <td>13.539083</td>\n",
       "      <td>13.481877</td>\n",
       "      <td>8.173467</td>\n",
       "      <td>0.573403</td>\n",
       "      <td>2.753911</td>\n",
       "      <td>10.912731</td>\n",
       "    </tr>\n",
       "    <tr>\n",
       "      <th>min</th>\n",
       "      <td>972.000000</td>\n",
       "      <td>2018.000000</td>\n",
       "      <td>-10.000000</td>\n",
       "      <td>-21.000000</td>\n",
       "      <td>-3.000000</td>\n",
       "      <td>13.600000</td>\n",
       "      <td>-1.000000</td>\n",
       "      <td>5.100000</td>\n",
       "      <td>0.000000</td>\n",
       "    </tr>\n",
       "    <tr>\n",
       "      <th>25%</th>\n",
       "      <td>6932.250000</td>\n",
       "      <td>2019.000000</td>\n",
       "      <td>0.750000</td>\n",
       "      <td>-10.000000</td>\n",
       "      <td>11.000000</td>\n",
       "      <td>24.800000</td>\n",
       "      <td>0.000000</td>\n",
       "      <td>8.925000</td>\n",
       "      <td>0.000000</td>\n",
       "    </tr>\n",
       "    <tr>\n",
       "      <th>50%</th>\n",
       "      <td>36958.000000</td>\n",
       "      <td>2020.000000</td>\n",
       "      <td>9.000000</td>\n",
       "      <td>1.000000</td>\n",
       "      <td>20.500000</td>\n",
       "      <td>29.450000</td>\n",
       "      <td>0.500000</td>\n",
       "      <td>10.600000</td>\n",
       "      <td>19.000000</td>\n",
       "    </tr>\n",
       "    <tr>\n",
       "      <th>75%</th>\n",
       "      <td>55907.750000</td>\n",
       "      <td>2021.000000</td>\n",
       "      <td>24.000000</td>\n",
       "      <td>15.000000</td>\n",
       "      <td>33.000000</td>\n",
       "      <td>35.150000</td>\n",
       "      <td>1.000000</td>\n",
       "      <td>12.500000</td>\n",
       "      <td>23.000000</td>\n",
       "    </tr>\n",
       "    <tr>\n",
       "      <th>max</th>\n",
       "      <td>77895.000000</td>\n",
       "      <td>2022.000000</td>\n",
       "      <td>32.000000</td>\n",
       "      <td>25.000000</td>\n",
       "      <td>46.000000</td>\n",
       "      <td>54.400000</td>\n",
       "      <td>1.000000</td>\n",
       "      <td>19.200000</td>\n",
       "      <td>30.000000</td>\n",
       "    </tr>\n",
       "  </tbody>\n",
       "</table>\n",
       "</div>"
      ],
      "text/plain": [
       "          Bee_Count         Year   Avg_Temp   Low_Temp  High_Temp  \\\n",
       "count     54.000000    54.000000  54.000000  54.000000  54.000000   \n",
       "mean   34789.388889  2019.777778  11.907407   1.703704  22.111111   \n",
       "std    25047.689838     1.327029  13.105189  13.539083  13.481877   \n",
       "min      972.000000  2018.000000 -10.000000 -21.000000  -3.000000   \n",
       "25%     6932.250000  2019.000000   0.750000 -10.000000  11.000000   \n",
       "50%    36958.000000  2020.000000   9.000000   1.000000  20.500000   \n",
       "75%    55907.750000  2021.000000  24.000000  15.000000  33.000000   \n",
       "max    77895.000000  2022.000000  32.000000  25.000000  46.000000   \n",
       "\n",
       "       Total_Precip  Major_Storm  Avg_Wind_Speed  Avail_Flower_Species  \n",
       "count     54.000000    54.000000       54.000000             54.000000  \n",
       "mean      30.251852     0.462963       10.688889             14.685185  \n",
       "std        8.173467     0.573403        2.753911             10.912731  \n",
       "min       13.600000    -1.000000        5.100000              0.000000  \n",
       "25%       24.800000     0.000000        8.925000              0.000000  \n",
       "50%       29.450000     0.500000       10.600000             19.000000  \n",
       "75%       35.150000     1.000000       12.500000             23.000000  \n",
       "max       54.400000     1.000000       19.200000             30.000000  "
      ]
     },
     "execution_count": 305,
     "metadata": {},
     "output_type": "execute_result"
    }
   ],
   "source": [
    "data_1.describe()"
   ]
  },
  {
   "cell_type": "code",
   "execution_count": 306,
   "id": "89d9b852",
   "metadata": {},
   "outputs": [
    {
     "name": "stdout",
     "output_type": "stream",
     "text": [
      "<class 'pandas.core.frame.DataFrame'>\n",
      "RangeIndex: 54 entries, 0 to 53\n",
      "Data columns (total 10 columns):\n",
      " #   Column                Non-Null Count  Dtype  \n",
      "---  ------                --------------  -----  \n",
      " 0   Bee_Count             54 non-null     int64  \n",
      " 1   Year                  54 non-null     int64  \n",
      " 2   Month                 54 non-null     object \n",
      " 3   Avg_Temp              54 non-null     int64  \n",
      " 4   Low_Temp              54 non-null     int64  \n",
      " 5   High_Temp             54 non-null     int64  \n",
      " 6   Total_Precip          54 non-null     float64\n",
      " 7   Major_Storm           54 non-null     int64  \n",
      " 8   Avg_Wind_Speed        54 non-null     float64\n",
      " 9   Avail_Flower_Species  54 non-null     int64  \n",
      "dtypes: float64(2), int64(7), object(1)\n",
      "memory usage: 4.3+ KB\n"
     ]
    }
   ],
   "source": [
    "data_1.info()"
   ]
  },
  {
   "cell_type": "code",
   "execution_count": 307,
   "id": "50ef4593",
   "metadata": {},
   "outputs": [
    {
     "data": {
      "text/html": [
       "<div>\n",
       "<style scoped>\n",
       "    .dataframe tbody tr th:only-of-type {\n",
       "        vertical-align: middle;\n",
       "    }\n",
       "\n",
       "    .dataframe tbody tr th {\n",
       "        vertical-align: top;\n",
       "    }\n",
       "\n",
       "    .dataframe thead th {\n",
       "        text-align: right;\n",
       "    }\n",
       "</style>\n",
       "<table border=\"1\" class=\"dataframe\">\n",
       "  <thead>\n",
       "    <tr style=\"text-align: right;\">\n",
       "      <th></th>\n",
       "      <th>Bee_Count</th>\n",
       "      <th>Year</th>\n",
       "      <th>Month</th>\n",
       "      <th>Avg_Temp</th>\n",
       "      <th>Low_Temp</th>\n",
       "      <th>High_Temp</th>\n",
       "      <th>Total_Precip</th>\n",
       "      <th>Major_Storm</th>\n",
       "      <th>Avg_Wind_Speed</th>\n",
       "      <th>Avail_Flower_Species</th>\n",
       "    </tr>\n",
       "  </thead>\n",
       "  <tbody>\n",
       "    <tr>\n",
       "      <th>0</th>\n",
       "      <td>49926</td>\n",
       "      <td>2022</td>\n",
       "      <td>Jun</td>\n",
       "      <td>24</td>\n",
       "      <td>20</td>\n",
       "      <td>39</td>\n",
       "      <td>31.9</td>\n",
       "      <td>1</td>\n",
       "      <td>6.8</td>\n",
       "      <td>22</td>\n",
       "    </tr>\n",
       "    <tr>\n",
       "      <th>1</th>\n",
       "      <td>57750</td>\n",
       "      <td>2022</td>\n",
       "      <td>May</td>\n",
       "      <td>20</td>\n",
       "      <td>12</td>\n",
       "      <td>33</td>\n",
       "      <td>22.9</td>\n",
       "      <td>0</td>\n",
       "      <td>13.0</td>\n",
       "      <td>19</td>\n",
       "    </tr>\n",
       "    <tr>\n",
       "      <th>2</th>\n",
       "      <td>32164</td>\n",
       "      <td>2022</td>\n",
       "      <td>Apr</td>\n",
       "      <td>8</td>\n",
       "      <td>6</td>\n",
       "      <td>18</td>\n",
       "      <td>54.4</td>\n",
       "      <td>0</td>\n",
       "      <td>14.1</td>\n",
       "      <td>23</td>\n",
       "    </tr>\n",
       "    <tr>\n",
       "      <th>3</th>\n",
       "      <td>37344</td>\n",
       "      <td>2022</td>\n",
       "      <td>Mar</td>\n",
       "      <td>3</td>\n",
       "      <td>1</td>\n",
       "      <td>18</td>\n",
       "      <td>40.7</td>\n",
       "      <td>1</td>\n",
       "      <td>14.0</td>\n",
       "      <td>24</td>\n",
       "    </tr>\n",
       "    <tr>\n",
       "      <th>4</th>\n",
       "      <td>2385</td>\n",
       "      <td>2022</td>\n",
       "      <td>Feb</td>\n",
       "      <td>-8</td>\n",
       "      <td>-21</td>\n",
       "      <td>2</td>\n",
       "      <td>33.8</td>\n",
       "      <td>0</td>\n",
       "      <td>5.1</td>\n",
       "      <td>0</td>\n",
       "    </tr>\n",
       "  </tbody>\n",
       "</table>\n",
       "</div>"
      ],
      "text/plain": [
       "   Bee_Count  Year Month  Avg_Temp  Low_Temp  High_Temp  Total_Precip  \\\n",
       "0      49926  2022   Jun        24        20         39          31.9   \n",
       "1      57750  2022   May        20        12         33          22.9   \n",
       "2      32164  2022   Apr         8         6         18          54.4   \n",
       "3      37344  2022   Mar         3         1         18          40.7   \n",
       "4       2385  2022   Feb        -8       -21          2          33.8   \n",
       "\n",
       "   Major_Storm  Avg_Wind_Speed  Avail_Flower_Species  \n",
       "0            1             6.8                    22  \n",
       "1            0            13.0                    19  \n",
       "2            0            14.1                    23  \n",
       "3            1            14.0                    24  \n",
       "4            0             5.1                     0  "
      ]
     },
     "execution_count": 307,
     "metadata": {},
     "output_type": "execute_result"
    }
   ],
   "source": [
    "data_1.head()"
   ]
  },
  {
   "cell_type": "markdown",
   "id": "819ee5d9",
   "metadata": {},
   "source": [
    "#### Dropping variables not needed - The calendar year would not have predictive capability for a natural phenomenon, such as, Bee Count"
   ]
  },
  {
   "cell_type": "code",
   "execution_count": 358,
   "id": "757d9476",
   "metadata": {},
   "outputs": [],
   "source": [
    "data_1.drop('Year', axis = 1, inplace = True)"
   ]
  },
  {
   "cell_type": "markdown",
   "id": "2cb87a25",
   "metadata": {},
   "source": [
    "#### Bar graph to identify a pattern in average bee count per month"
   ]
  },
  {
   "cell_type": "code",
   "execution_count": 359,
   "id": "ac5c9c07",
   "metadata": {},
   "outputs": [],
   "source": [
    "data_1['Numeric_Month'] = data_1['Month'].map({'Jan':1, 'Feb':2, 'Mar':3, 'Apr':4, 'May':5, 'Jun':6, 'Jul':7, 'Aug':8,\n",
    "                                    'Sep':9, 'Oct':10, 'Nov':11, 'Dec':12})"
   ]
  },
  {
   "cell_type": "code",
   "execution_count": 360,
   "id": "2274e62a",
   "metadata": {},
   "outputs": [],
   "source": [
    "bee_count_monthly = data_1.groupby(['Month', 'Numeric_Month'], as_index = False)['Bee_Count'].mean().sort_values(by = 'Numeric_Month', ascending = True)"
   ]
  },
  {
   "cell_type": "code",
   "execution_count": 361,
   "id": "f66f4a5f",
   "metadata": {},
   "outputs": [],
   "source": [
    "bee_count_monthly.rename(columns = {'Bee_Count': 'Average_Bee_Count'}, inplace = True)"
   ]
  },
  {
   "cell_type": "code",
   "execution_count": 362,
   "id": "f7490d4a",
   "metadata": {},
   "outputs": [
    {
     "data": {
      "text/html": [
       "<div>\n",
       "<style scoped>\n",
       "    .dataframe tbody tr th:only-of-type {\n",
       "        vertical-align: middle;\n",
       "    }\n",
       "\n",
       "    .dataframe tbody tr th {\n",
       "        vertical-align: top;\n",
       "    }\n",
       "\n",
       "    .dataframe thead th {\n",
       "        text-align: right;\n",
       "    }\n",
       "</style>\n",
       "<table border=\"1\" class=\"dataframe\">\n",
       "  <thead>\n",
       "    <tr style=\"text-align: right;\">\n",
       "      <th></th>\n",
       "      <th>Month</th>\n",
       "      <th>Numeric_Month</th>\n",
       "      <th>Average_Bee_Count</th>\n",
       "    </tr>\n",
       "  </thead>\n",
       "  <tbody>\n",
       "    <tr>\n",
       "      <th>4</th>\n",
       "      <td>Jan</td>\n",
       "      <td>1</td>\n",
       "      <td>3233.2</td>\n",
       "    </tr>\n",
       "    <tr>\n",
       "      <th>3</th>\n",
       "      <td>Feb</td>\n",
       "      <td>2</td>\n",
       "      <td>4269.2</td>\n",
       "    </tr>\n",
       "    <tr>\n",
       "      <th>7</th>\n",
       "      <td>Mar</td>\n",
       "      <td>3</td>\n",
       "      <td>32664.8</td>\n",
       "    </tr>\n",
       "    <tr>\n",
       "      <th>0</th>\n",
       "      <td>Apr</td>\n",
       "      <td>4</td>\n",
       "      <td>30393.6</td>\n",
       "    </tr>\n",
       "    <tr>\n",
       "      <th>8</th>\n",
       "      <td>May</td>\n",
       "      <td>5</td>\n",
       "      <td>50465.0</td>\n",
       "    </tr>\n",
       "  </tbody>\n",
       "</table>\n",
       "</div>"
      ],
      "text/plain": [
       "  Month  Numeric_Month  Average_Bee_Count\n",
       "4   Jan              1             3233.2\n",
       "3   Feb              2             4269.2\n",
       "7   Mar              3            32664.8\n",
       "0   Apr              4            30393.6\n",
       "8   May              5            50465.0"
      ]
     },
     "execution_count": 362,
     "metadata": {},
     "output_type": "execute_result"
    }
   ],
   "source": [
    "bee_count_monthly.head()"
   ]
  },
  {
   "cell_type": "code",
   "execution_count": 363,
   "id": "515b6191",
   "metadata": {},
   "outputs": [
    {
     "data": {
      "image/png": "[encoded data removed]",
      "text/plain": [
       "<Figure size 504x360 with 1 Axes>"
      ]
     },
     "metadata": {
      "needs_background": "light"
     },
     "output_type": "display_data"
    }
   ],
   "source": [
    "plt.figure(figsize = (7,5))\n",
    "plt.bar(bee_count_monthly['Month'], bee_count_monthly['Average_Bee_Count'])\n",
    "plt.xlabel('Month of Year')\n",
    "plt.ylabel('Average Count of Bees')\n",
    "plt.title('Count of Bees by Month of Year')\n",
    "plt.show()"
   ]
  },
  {
   "cell_type": "markdown",
   "id": "7f7cfeb2",
   "metadata": {},
   "source": [
    "Since there is a spike in bee count from March - Oct, a dummy variable can be created to indicate the warm months Spring + Summer + Fall with a value of 1 and 0 to indicate Winter (Nov - Feb)"
   ]
  },
  {
   "cell_type": "markdown",
   "id": "e2ecb627",
   "metadata": {},
   "source": [
    "#### Creating a Dummy Variable \"Spring_Summer_Fall\" which groups the warm months as 1 and cold months as 0, based on trend seen above"
   ]
  },
  {
   "cell_type": "code",
   "execution_count": 364,
   "id": "7b0d89d5",
   "metadata": {},
   "outputs": [],
   "source": [
    "data_1['Spring_Summer_Fall'] = data_1['Month'].map({'Apr':1, 'Aug':1, 'Jul':1, 'Jun':1, 'Mar':1, 'May':1, 'Oct':1, 'Sep':1,\n",
    "                                            'Dec':0, 'Feb':0, 'Jan':0, 'Nov':0})"
   ]
  },
  {
   "cell_type": "code",
   "execution_count": 365,
   "id": "c4cf16ee",
   "metadata": {},
   "outputs": [
    {
     "data": {
      "text/html": [
       "<div>\n",
       "<style scoped>\n",
       "    .dataframe tbody tr th:only-of-type {\n",
       "        vertical-align: middle;\n",
       "    }\n",
       "\n",
       "    .dataframe tbody tr th {\n",
       "        vertical-align: top;\n",
       "    }\n",
       "\n",
       "    .dataframe thead th {\n",
       "        text-align: right;\n",
       "    }\n",
       "</style>\n",
       "<table border=\"1\" class=\"dataframe\">\n",
       "  <thead>\n",
       "    <tr style=\"text-align: right;\">\n",
       "      <th></th>\n",
       "      <th>Month</th>\n",
       "      <th>Spring_Summer_Fall</th>\n",
       "    </tr>\n",
       "  </thead>\n",
       "  <tbody>\n",
       "    <tr>\n",
       "      <th>0</th>\n",
       "      <td>Jun</td>\n",
       "      <td>1</td>\n",
       "    </tr>\n",
       "    <tr>\n",
       "      <th>1</th>\n",
       "      <td>May</td>\n",
       "      <td>1</td>\n",
       "    </tr>\n",
       "    <tr>\n",
       "      <th>2</th>\n",
       "      <td>Apr</td>\n",
       "      <td>1</td>\n",
       "    </tr>\n",
       "    <tr>\n",
       "      <th>3</th>\n",
       "      <td>Mar</td>\n",
       "      <td>1</td>\n",
       "    </tr>\n",
       "    <tr>\n",
       "      <th>4</th>\n",
       "      <td>Feb</td>\n",
       "      <td>0</td>\n",
       "    </tr>\n",
       "    <tr>\n",
       "      <th>5</th>\n",
       "      <td>Jan</td>\n",
       "      <td>0</td>\n",
       "    </tr>\n",
       "    <tr>\n",
       "      <th>6</th>\n",
       "      <td>Dec</td>\n",
       "      <td>0</td>\n",
       "    </tr>\n",
       "    <tr>\n",
       "      <th>7</th>\n",
       "      <td>Nov</td>\n",
       "      <td>0</td>\n",
       "    </tr>\n",
       "    <tr>\n",
       "      <th>8</th>\n",
       "      <td>Oct</td>\n",
       "      <td>1</td>\n",
       "    </tr>\n",
       "    <tr>\n",
       "      <th>9</th>\n",
       "      <td>Sep</td>\n",
       "      <td>1</td>\n",
       "    </tr>\n",
       "    <tr>\n",
       "      <th>10</th>\n",
       "      <td>Aug</td>\n",
       "      <td>1</td>\n",
       "    </tr>\n",
       "    <tr>\n",
       "      <th>11</th>\n",
       "      <td>Jul</td>\n",
       "      <td>1</td>\n",
       "    </tr>\n",
       "  </tbody>\n",
       "</table>\n",
       "</div>"
      ],
      "text/plain": [
       "   Month  Spring_Summer_Fall\n",
       "0    Jun                   1\n",
       "1    May                   1\n",
       "2    Apr                   1\n",
       "3    Mar                   1\n",
       "4    Feb                   0\n",
       "5    Jan                   0\n",
       "6    Dec                   0\n",
       "7    Nov                   0\n",
       "8    Oct                   1\n",
       "9    Sep                   1\n",
       "10   Aug                   1\n",
       "11   Jul                   1"
      ]
     },
     "execution_count": 365,
     "metadata": {},
     "output_type": "execute_result"
    }
   ],
   "source": [
    "data_1[['Month','Spring_Summer_Fall']].drop_duplicates()"
   ]
  },
  {
   "cell_type": "markdown",
   "id": "b0ad1856",
   "metadata": {},
   "source": [
    "A heatmap is being generated to visually see the correlation between the different data points available to us."
   ]
  },
  {
   "cell_type": "code",
   "execution_count": 366,
   "id": "d642748c",
   "metadata": {},
   "outputs": [
    {
     "data": {
      "image/png": "[encoded data removed]",
      "text/plain": [
       "<Figure size 720x432 with 2 Axes>"
      ]
     },
     "metadata": {
      "needs_background": "light"
     },
     "output_type": "display_data"
    }
   ],
   "source": [
    "plt.figure(figsize=(10, 6))\n",
    "heatmap = sns.heatmap(data_1.corr(), annot=True, cmap='coolwarm')"
   ]
  },
  {
   "cell_type": "markdown",
   "id": "5335c007",
   "metadata": {},
   "source": [
    "#### A top down approach is taken - Different combinations of features are checked and only features with a p-value of < 0.05, are chosen for the final model, given the correlations seen in the heatmap above"
   ]
  },
  {
   "cell_type": "code",
   "execution_count": 400,
   "id": "b5dbf319",
   "metadata": {},
   "outputs": [],
   "source": [
    "# Building a model with all possible variables in a TTT \"top-down\" approach\n",
    "\n",
    "# model_1 = ols('Bee_Count ~ Avg_Temp + Low_Temp + High_Temp + Total_Precip + Major_Storm + Avg_Wind_Speed + Avail_Flower_Species + Spring_Summer_Fall', data_1).fit()\n",
    "# model_1.summary()"
   ]
  },
  {
   "cell_type": "markdown",
   "id": "942bf461",
   "metadata": {},
   "source": [
    "#### Final Model Output"
   ]
  },
  {
   "cell_type": "code",
   "execution_count": 401,
   "id": "bdd91610",
   "metadata": {},
   "outputs": [
    {
     "data": {
      "text/html": [
       "<table class=\"simpletable\">\n",
       "<caption>OLS Regression Results</caption>\n",
       "<tr>\n",
       "  <th>Dep. Variable:</th>        <td>Bee_Count</td>    <th>  R-squared:         </th> <td>   0.883</td>\n",
       "</tr>\n",
       "<tr>\n",
       "  <th>Model:</th>                   <td>OLS</td>       <th>  Adj. R-squared:    </th> <td>   0.876</td>\n",
       "</tr>\n",
       "<tr>\n",
       "  <th>Method:</th>             <td>Least Squares</td>  <th>  F-statistic:       </th> <td>   125.5</td>\n",
       "</tr>\n",
       "<tr>\n",
       "  <th>Date:</th>             <td>Sat, 15 Apr 2023</td> <th>  Prob (F-statistic):</th> <td>2.88e-23</td>\n",
       "</tr>\n",
       "<tr>\n",
       "  <th>Time:</th>                 <td>13:35:03</td>     <th>  Log-Likelihood:    </th> <td> -565.18</td>\n",
       "</tr>\n",
       "<tr>\n",
       "  <th>No. Observations:</th>      <td>    54</td>      <th>  AIC:               </th> <td>   1138.</td>\n",
       "</tr>\n",
       "<tr>\n",
       "  <th>Df Residuals:</th>          <td>    50</td>      <th>  BIC:               </th> <td>   1146.</td>\n",
       "</tr>\n",
       "<tr>\n",
       "  <th>Df Model:</th>              <td>     3</td>      <th>                     </th>     <td> </td>   \n",
       "</tr>\n",
       "<tr>\n",
       "  <th>Covariance Type:</th>      <td>nonrobust</td>    <th>                     </th>     <td> </td>   \n",
       "</tr>\n",
       "</table>\n",
       "<table class=\"simpletable\">\n",
       "<tr>\n",
       "           <td></td>             <th>coef</th>     <th>std err</th>      <th>t</th>      <th>P>|t|</th>  <th>[0.025</th>    <th>0.975]</th>  \n",
       "</tr>\n",
       "<tr>\n",
       "  <th>Intercept</th>          <td> 2.787e+04</td> <td> 5102.515</td> <td>    5.461</td> <td> 0.000</td> <td> 1.76e+04</td> <td> 3.81e+04</td>\n",
       "</tr>\n",
       "<tr>\n",
       "  <th>Spring_Summer_Fall</th> <td> 2.187e+04</td> <td> 3952.931</td> <td>    5.534</td> <td> 0.000</td> <td> 1.39e+04</td> <td> 2.98e+04</td>\n",
       "</tr>\n",
       "<tr>\n",
       "  <th>Low_Temp</th>           <td> 1046.4408</td> <td>  140.577</td> <td>    7.444</td> <td> 0.000</td> <td>  764.084</td> <td> 1328.798</td>\n",
       "</tr>\n",
       "<tr>\n",
       "  <th>Total_Precip</th>       <td> -312.1050</td> <td>  151.366</td> <td>   -2.062</td> <td> 0.044</td> <td> -616.132</td> <td>   -8.078</td>\n",
       "</tr>\n",
       "</table>\n",
       "<table class=\"simpletable\">\n",
       "<tr>\n",
       "  <th>Omnibus:</th>       <td> 0.057</td> <th>  Durbin-Watson:     </th> <td>   1.718</td>\n",
       "</tr>\n",
       "<tr>\n",
       "  <th>Prob(Omnibus):</th> <td> 0.972</td> <th>  Jarque-Bera (JB):  </th> <td>   0.207</td>\n",
       "</tr>\n",
       "<tr>\n",
       "  <th>Skew:</th>          <td> 0.063</td> <th>  Prob(JB):          </th> <td>   0.902</td>\n",
       "</tr>\n",
       "<tr>\n",
       "  <th>Kurtosis:</th>      <td> 2.724</td> <th>  Cond. No.          </th> <td>    143.</td>\n",
       "</tr>\n",
       "</table><br/><br/>Notes:<br/>[1] Standard Errors assume that the covariance matrix of the errors is correctly specified."
      ],
      "text/plain": [
       "<class 'statsmodels.iolib.summary.Summary'>\n",
       "\"\"\"\n",
       "                            OLS Regression Results                            \n",
       "==============================================================================\n",
       "Dep. Variable:              Bee_Count   R-squared:                       0.883\n",
       "Model:                            OLS   Adj. R-squared:                  0.876\n",
       "Method:                 Least Squares   F-statistic:                     125.5\n",
       "Date:                Sat, 15 Apr 2023   Prob (F-statistic):           2.88e-23\n",
       "Time:                        13:35:03   Log-Likelihood:                -565.18\n",
       "No. Observations:                  54   AIC:                             1138.\n",
       "Df Residuals:                      50   BIC:                             1146.\n",
       "Df Model:                           3                                         \n",
       "Covariance Type:            nonrobust                                         \n",
       "======================================================================================\n",
       "                         coef    std err          t      P>|t|      [0.025      0.975]\n",
       "--------------------------------------------------------------------------------------\n",
       "Intercept           2.787e+04   5102.515      5.461      0.000    1.76e+04    3.81e+04\n",
       "Spring_Summer_Fall  2.187e+04   3952.931      5.534      0.000    1.39e+04    2.98e+04\n",
       "Low_Temp            1046.4408    140.577      7.444      0.000     764.084    1328.798\n",
       "Total_Precip        -312.1050    151.366     -2.062      0.044    -616.132      -8.078\n",
       "==============================================================================\n",
       "Omnibus:                        0.057   Durbin-Watson:                   1.718\n",
       "Prob(Omnibus):                  0.972   Jarque-Bera (JB):                0.207\n",
       "Skew:                           0.063   Prob(JB):                        0.902\n",
       "Kurtosis:                       2.724   Cond. No.                         143.\n",
       "==============================================================================\n",
       "\n",
       "Notes:\n",
       "[1] Standard Errors assume that the covariance matrix of the errors is correctly specified.\n",
       "\"\"\""
      ]
     },
     "execution_count": 401,
     "metadata": {},
     "output_type": "execute_result"
    }
   ],
   "source": [
    "model_2 = ols('Bee_Count ~ Spring_Summer_Fall + Low_Temp + Total_Precip', data_1).fit()\n",
    "model_2.summary()"
   ]
  },
  {
   "cell_type": "markdown",
   "id": "6e767535",
   "metadata": {},
   "source": [
    "### Final Model"
   ]
  },
  {
   "cell_type": "markdown",
   "id": "0f222bf6",
   "metadata": {},
   "source": [
    "#### The final model is Bee_Count = 27870 + 21870 * Spring_Summer_Fall - 312.1050 * Total_Precip + 1046.4408 * Low_Temp"
   ]
  },
  {
   "cell_type": "code",
   "execution_count": 368,
   "id": "621d20a9",
   "metadata": {},
   "outputs": [
    {
     "data": {
      "image/png": "[encoded data removed]",
      "text/plain": [
       "<Figure size 432x288 with 1 Axes>"
      ]
     },
     "metadata": {
      "needs_background": "light"
     },
     "output_type": "display_data"
    },
    {
     "data": {
      "image/png": "[encoded data removed]",
      "text/plain": [
       "<Figure size 432x288 with 1 Axes>"
      ]
     },
     "metadata": {
      "needs_background": "light"
     },
     "output_type": "display_data"
    },
    {
     "data": {
      "image/png": "[encoded data removed]",
      "text/plain": [
       "<Figure size 864x576 with 1 Axes>"
      ]
     },
     "metadata": {
      "needs_background": "light"
     },
     "output_type": "display_data"
    },
    {
     "name": "stdout",
     "output_type": "stream",
     "text": [
      "Mean of Residuals: -1.684249447727645e-10\n"
     ]
    }
   ],
   "source": [
    "# Model Training\n",
    "\n",
    "train_X = data_1[['Spring_Summer_Fall', 'Low_Temp', 'Total_Precip']]\n",
    "train_y = data_1['Bee_Count']\n",
    "predicted_y = model_2.predict(train_X)\n",
    "\n",
    "# Plotting the Residuals to check for trend\n",
    "    \n",
    "residuals = train_y - predicted_y\n",
    "    \n",
    "plt.scatter(predicted_y, residuals, s = 2, c = 'black')\n",
    "plt.hlines(0, min(predicted_y), max(predicted_y), color = 'red', linestyles = 'dashed')\n",
    "plt.xlabel('Model Prediction')\n",
    "plt.ylabel('Residual')\n",
    "plt.title('Plot of Residual vs Fitted Values')\n",
    "plt.show()\n",
    "\n",
    "# Plotting the frequency distribution of the residuals\n",
    "    \n",
    "mean, std = norm.fit(residuals)\n",
    "plt.hist(residuals, bins = 13, edgecolor = 'black', density = True)\n",
    "xmin, xmax = plt.xlim()\n",
    "x = np.linspace(xmin, xmax, 100)\n",
    "p = norm.pdf(x, mean, std)\n",
    "plt.plot(x, p, color = 'black')\n",
    "title = 'Density Plot of Fit residuals: mu = %.2f, std = %.2f' % (mean, std)\n",
    "plt.title(title)\n",
    "plt.show()\n",
    "\n",
    "# Residuals vs Leverage\n",
    "\n",
    "fig, ax = plt.subplots(figsize=(12,8))\n",
    "fig = sm.graphics.influence_plot(model_2, ax=ax, criterion=\"cooks\")\n",
    "plt.show()\n",
    "    \n",
    "print('Mean of Residuals:', residuals.mean())\n",
    "# print('R-squared for', label, reg_model.score(train_X, train_y)) "
   ]
  },
  {
   "cell_type": "code",
   "execution_count": 369,
   "id": "587c1416",
   "metadata": {},
   "outputs": [],
   "source": [
    "X = data_1[['Spring_Summer_Fall', 'Low_Temp', 'Total_Precip']]\n",
    "y = data_1['Bee_Count']\n",
    "\n",
    "X_train, X_test, y_train, y_test = train_test_split(X,y,train_size=0.7,random_state=0)\n",
    "\n",
    "reg = LinearRegression().fit(X_train, y_train)"
   ]
  },
  {
   "cell_type": "markdown",
   "id": "704de144",
   "metadata": {},
   "source": [
    "#### Evaluation on Training Data"
   ]
  },
  {
   "cell_type": "code",
   "execution_count": 370,
   "id": "99e7c975",
   "metadata": {},
   "outputs": [
    {
     "name": "stdout",
     "output_type": "stream",
     "text": [
      "R^2: 0.8799005860960556\n",
      "Root Mean Squared Error: 8537.527395393276\n",
      "Mean Absolute Error: 6760.663840027112\n"
     ]
    }
   ],
   "source": [
    "print(\"R^2:\", reg.score(X_train,y_train))\n",
    "print(\"Root Mean Squared Error:\",sqrt(mean_squared_error(y_train, reg.predict(X_train))))\n",
    "print(\"Mean Absolute Error:\",mean_absolute_error(y_train, reg.predict(X_train)))"
   ]
  },
  {
   "cell_type": "markdown",
   "id": "9555a6b2",
   "metadata": {},
   "source": [
    "#### Evaluation on Testing Data"
   ]
  },
  {
   "cell_type": "code",
   "execution_count": 371,
   "id": "996b302c",
   "metadata": {},
   "outputs": [
    {
     "name": "stdout",
     "output_type": "stream",
     "text": [
      "R^2: 0.8754302854964625\n",
      "Root Mean Squared Error: 8886.614762095478\n",
      "Mean Absolute Error: 7492.139618301906\n"
     ]
    }
   ],
   "source": [
    "print(\"R^2:\",reg.score(X_test,y_test))\n",
    "print(\"Root Mean Squared Error:\",sqrt(\n",
    "    mean_squared_error(y_test,reg.predict(X_test))))\n",
    "print(\"Mean Absolute Error:\",mean_absolute_error(\n",
    "    y_test,reg.predict(X_test)))"
   ]
  },
  {
   "cell_type": "markdown",
   "id": "7b8ac0d0",
   "metadata": {},
   "source": [
    "The model above is a good model for the following reasons - \n",
    "\n",
    "\n",
    "- Model performance on the training data and test data are very similar, which is really good, indicated by the similar $R^2$ in each case.\n",
    "\n",
    "\n",
    "- The $R^2$ of the model which represents goodness of fit, is 88%, indicating the model fits the underlying training data well.\n",
    "\n",
    "\n",
    "- From an individual feature perspective, the p-values of the t-test of each feature included in the final model is lower than 0.05, indicating the features chosen are statistically significant. This indicates the features themselves have predictive power and explain the predictor variable 'Bee Count' quite well. \n",
    "\n",
    "\n",
    "- The individual features having a p-value lower than 0.05 also indicate the features included are not correlated with each other, and there is no bias brought about by collinearity in the final model.\n",
    "\n",
    "\n",
    "- The p-value of the joint F-test of the model is very low, implying that the variables included in the model have predictive power.\n",
    "\n",
    "\n",
    "- The residuals are not heteroskedastic, indicating the model results do not have bias in them.\n",
    "\n",
    "\n",
    "- The Mean Absolute Error (MAE) is small relative to the predictions of bee count.\n",
    "\n",
    "\n",
    "- From a business perspective, the features chosen do explain the natural phenomenon of changes in bee count with time. "
   ]
  },
  {
   "cell_type": "markdown",
   "id": "4a23a562",
   "metadata": {},
   "source": [
    "### Testing the Impact of Different Variables on Bee Count"
   ]
  },
  {
   "cell_type": "code",
   "execution_count": 372,
   "id": "3953d4c8",
   "metadata": {},
   "outputs": [
    {
     "data": {
      "text/html": [
       "<table class=\"simpletable\">\n",
       "<caption>OLS Regression Results</caption>\n",
       "<tr>\n",
       "  <th>Dep. Variable:</th>        <td>Bee_Count</td>    <th>  R-squared:         </th> <td>   0.857</td>\n",
       "</tr>\n",
       "<tr>\n",
       "  <th>Model:</th>                   <td>OLS</td>       <th>  Adj. R-squared:    </th> <td>   0.849</td>\n",
       "</tr>\n",
       "<tr>\n",
       "  <th>Method:</th>             <td>Least Squares</td>  <th>  F-statistic:       </th> <td>   100.2</td>\n",
       "</tr>\n",
       "<tr>\n",
       "  <th>Date:</th>             <td>Sat, 15 Apr 2023</td> <th>  Prob (F-statistic):</th> <td>3.83e-21</td>\n",
       "</tr>\n",
       "<tr>\n",
       "  <th>Time:</th>                 <td>12:51:35</td>     <th>  Log-Likelihood:    </th> <td> -570.48</td>\n",
       "</tr>\n",
       "<tr>\n",
       "  <th>No. Observations:</th>      <td>    54</td>      <th>  AIC:               </th> <td>   1149.</td>\n",
       "</tr>\n",
       "<tr>\n",
       "  <th>Df Residuals:</th>          <td>    50</td>      <th>  BIC:               </th> <td>   1157.</td>\n",
       "</tr>\n",
       "<tr>\n",
       "  <th>Df Model:</th>              <td>     3</td>      <th>                     </th>     <td> </td>   \n",
       "</tr>\n",
       "<tr>\n",
       "  <th>Covariance Type:</th>      <td>nonrobust</td>    <th>                     </th>     <td> </td>   \n",
       "</tr>\n",
       "</table>\n",
       "<table class=\"simpletable\">\n",
       "<tr>\n",
       "      <td></td>         <th>coef</th>     <th>std err</th>      <th>t</th>      <th>P>|t|</th>  <th>[0.025</th>    <th>0.975]</th>  \n",
       "</tr>\n",
       "<tr>\n",
       "  <th>Intercept</th> <td> 7328.1818</td> <td> 6386.822</td> <td>    1.147</td> <td> 0.257</td> <td>-5500.128</td> <td> 2.02e+04</td>\n",
       "</tr>\n",
       "<tr>\n",
       "  <th>Avg_Temp</th>  <td>  432.9949</td> <td>  303.710</td> <td>    1.426</td> <td> 0.160</td> <td> -177.024</td> <td> 1043.014</td>\n",
       "</tr>\n",
       "<tr>\n",
       "  <th>Low_Temp</th>  <td>  349.3117</td> <td>  325.599</td> <td>    1.073</td> <td> 0.288</td> <td> -304.672</td> <td> 1003.296</td>\n",
       "</tr>\n",
       "<tr>\n",
       "  <th>High_Temp</th> <td>  981.8700</td> <td>  345.079</td> <td>    2.845</td> <td> 0.006</td> <td>  288.759</td> <td> 1674.981</td>\n",
       "</tr>\n",
       "</table>\n",
       "<table class=\"simpletable\">\n",
       "<tr>\n",
       "  <th>Omnibus:</th>       <td> 0.995</td> <th>  Durbin-Watson:     </th> <td>   1.671</td>\n",
       "</tr>\n",
       "<tr>\n",
       "  <th>Prob(Omnibus):</th> <td> 0.608</td> <th>  Jarque-Bera (JB):  </th> <td>   1.054</td>\n",
       "</tr>\n",
       "<tr>\n",
       "  <th>Skew:</th>          <td>-0.288</td> <th>  Prob(JB):          </th> <td>   0.590</td>\n",
       "</tr>\n",
       "<tr>\n",
       "  <th>Kurtosis:</th>      <td> 2.629</td> <th>  Cond. No.          </th> <td>    156.</td>\n",
       "</tr>\n",
       "</table><br/><br/>Notes:<br/>[1] Standard Errors assume that the covariance matrix of the errors is correctly specified."
      ],
      "text/plain": [
       "<class 'statsmodels.iolib.summary.Summary'>\n",
       "\"\"\"\n",
       "                            OLS Regression Results                            \n",
       "==============================================================================\n",
       "Dep. Variable:              Bee_Count   R-squared:                       0.857\n",
       "Model:                            OLS   Adj. R-squared:                  0.849\n",
       "Method:                 Least Squares   F-statistic:                     100.2\n",
       "Date:                Sat, 15 Apr 2023   Prob (F-statistic):           3.83e-21\n",
       "Time:                        12:51:35   Log-Likelihood:                -570.48\n",
       "No. Observations:                  54   AIC:                             1149.\n",
       "Df Residuals:                      50   BIC:                             1157.\n",
       "Df Model:                           3                                         \n",
       "Covariance Type:            nonrobust                                         \n",
       "==============================================================================\n",
       "                 coef    std err          t      P>|t|      [0.025      0.975]\n",
       "------------------------------------------------------------------------------\n",
       "Intercept   7328.1818   6386.822      1.147      0.257   -5500.128    2.02e+04\n",
       "Avg_Temp     432.9949    303.710      1.426      0.160    -177.024    1043.014\n",
       "Low_Temp     349.3117    325.599      1.073      0.288    -304.672    1003.296\n",
       "High_Temp    981.8700    345.079      2.845      0.006     288.759    1674.981\n",
       "==============================================================================\n",
       "Omnibus:                        0.995   Durbin-Watson:                   1.671\n",
       "Prob(Omnibus):                  0.608   Jarque-Bera (JB):                1.054\n",
       "Skew:                          -0.288   Prob(JB):                        0.590\n",
       "Kurtosis:                       2.629   Cond. No.                         156.\n",
       "==============================================================================\n",
       "\n",
       "Notes:\n",
       "[1] Standard Errors assume that the covariance matrix of the errors is correctly specified.\n",
       "\"\"\""
      ]
     },
     "execution_count": 372,
     "metadata": {},
     "output_type": "execute_result"
    }
   ],
   "source": [
    "model_1 = ols('Bee_Count ~ Avg_Temp + Low_Temp + High_Temp', data_1).fit()\n",
    "model_1.summary()"
   ]
  },
  {
   "cell_type": "markdown",
   "id": "eca0f50f",
   "metadata": {},
   "source": [
    "#### Hypothesis Testing - Wald Test to check if Temperature impacts Bee Count"
   ]
  },
  {
   "cell_type": "code",
   "execution_count": 373,
   "id": "ea1afd78",
   "metadata": {},
   "outputs": [
    {
     "name": "stdout",
     "output_type": "stream",
     "text": [
      "<F test: F=array([[100.16844777]]), p=3.825602991619636e-21, df_denom=50, df_num=3>\n"
     ]
    }
   ],
   "source": [
    "hypothesis_a = '(Avg_Temp=0, Low_Temp=0, High_Temp=0)'\n",
    "print(model_1.wald_test(hypothesis_a))"
   ]
  },
  {
   "cell_type": "code",
   "execution_count": 374,
   "id": "5b2c99ad",
   "metadata": {},
   "outputs": [
    {
     "name": "stdout",
     "output_type": "stream",
     "text": [
      "<F test: F=array([[10.19668982]]), p=0.00019317667951519198, df_denom=50, df_num=2>\n"
     ]
    }
   ],
   "source": [
    "hypothesis_b = '(Low_Temp=0, High_Temp=0)'\n",
    "print(model_1.wald_test(hypothesis_b))"
   ]
  },
  {
   "cell_type": "code",
   "execution_count": 375,
   "id": "17f99630",
   "metadata": {},
   "outputs": [
    {
     "name": "stdout",
     "output_type": "stream",
     "text": [
      "<F test: F=array([[8.96161789]]), p=0.000471835848369081, df_denom=50, df_num=2>\n"
     ]
    }
   ],
   "source": [
    "hypothesis_c = '(Avg_Temp=0, High_Temp=0)'\n",
    "print(model_1.wald_test(hypothesis_c))"
   ]
  },
  {
   "cell_type": "code",
   "execution_count": 376,
   "id": "1bd07454",
   "metadata": {},
   "outputs": [
    {
     "name": "stdout",
     "output_type": "stream",
     "text": [
      "<F test: F=array([[2.48037136]]), p=0.09395832877329999, df_denom=50, df_num=2>\n"
     ]
    }
   ],
   "source": [
    "hypothesis_d = '(Low_Temp=0, Avg_Temp=0)'\n",
    "print(model_1.wald_test(hypothesis_d))"
   ]
  },
  {
   "cell_type": "code",
   "execution_count": 377,
   "id": "c35bde64",
   "metadata": {},
   "outputs": [
    {
     "name": "stdout",
     "output_type": "stream",
     "text": [
      "<F test: F=array([[55.41173149]]), p=1.2153679884257684e-09, df_denom=50, df_num=1>\n"
     ]
    }
   ],
   "source": [
    "hypothesis_e = ('Low_Temp=0')\n",
    "print(model_2.wald_test(hypothesis_e))"
   ]
  },
  {
   "cell_type": "markdown",
   "id": "0f00d563",
   "metadata": {},
   "source": [
    "If the a model is built with all temperature variables included (model_1), the variable - \"High_Temp\" is found to be statistically significant, from the p-value of the individual t-tests. If the final model (model_2) is considered, the variable - \"Low_Temp\" is found to be statistically significant, in the context of the other variables present. Correlation should not be mistaken with causation and a hypothesis test should be performed to see if \"High_Temp\" actually has predictive power in model_1 and if \"Low_Temp\" has predictive power in model_2. <br>\n",
    "\n",
    "Hypothesis a-d for model_1:\n",
    "\n",
    "There are 3 temperature variables in the dataset. If a Wald Test is performed with all 3 temperature variables, we notice that the p-value of the collective set is very small, indicating that at least one of the 3 temperature variables does have an impact on bee count. If the test is continued with other combinations of 2 variables at a time, we notice that when High Temperature is not present in the null hypothesis, the p-value is very large. This indicates that in this model, the variable \"High Temp\" has a statistically significant impact on bee count. <br>\n",
    "\n",
    "Hypothesis e for model_2:\n",
    "\n",
    "If a Wald Test is performed with just Low_Temp in model_2, we notice a very small p-value. This indicates that the variable Low_Temp has sufficient predictive power for Bee_Count. <br>\n",
    "\n",
    "Hence, temperature does have sufficient predictive power for Bee Count."
   ]
  },
  {
   "cell_type": "markdown",
   "id": "3ac74fc3",
   "metadata": {},
   "source": [
    "## Model Testing"
   ]
  },
  {
   "cell_type": "code",
   "execution_count": 378,
   "id": "c09541ae",
   "metadata": {},
   "outputs": [],
   "source": [
    "data_2 = pd.read_excel('/Users/mohammadananjaved/Desktop/MMA860 - Data Acquisition & Management/MMA860_Exam_Data_2024B.xlsx',\n",
    "                         sheet_name = 'Next_Season')"
   ]
  },
  {
   "cell_type": "code",
   "execution_count": 379,
   "id": "a4829687",
   "metadata": {},
   "outputs": [
    {
     "name": "stdout",
     "output_type": "stream",
     "text": [
      "<class 'pandas.core.frame.DataFrame'>\n",
      "RangeIndex: 12 entries, 0 to 11\n",
      "Data columns (total 9 columns):\n",
      " #   Column                Non-Null Count  Dtype  \n",
      "---  ------                --------------  -----  \n",
      " 0   Year                  12 non-null     int64  \n",
      " 1   Month                 12 non-null     object \n",
      " 2   Avg_Temp              12 non-null     int64  \n",
      " 3   Low_Temp              12 non-null     int64  \n",
      " 4   High_Temp             12 non-null     int64  \n",
      " 5   Total_Precip          12 non-null     float64\n",
      " 6   Major_Storm           12 non-null     int64  \n",
      " 7   Avg_Wind_Speed        12 non-null     float64\n",
      " 8   Avail_Flower_Species  12 non-null     int64  \n",
      "dtypes: float64(2), int64(6), object(1)\n",
      "memory usage: 992.0+ bytes\n"
     ]
    }
   ],
   "source": [
    "data_2.info()"
   ]
  },
  {
   "cell_type": "code",
   "execution_count": 380,
   "id": "8d411205",
   "metadata": {},
   "outputs": [],
   "source": [
    "data_2['Spring_Summer_Fall'] = data_2['Month'].map({'Apr':1, 'Aug':1, 'Jul':1, 'Jun':1, 'Mar':1, 'May':1, 'Oct':1, 'Sep':1,\n",
    "                                            'Dec':0, 'Feb':0, 'Jan':0, 'Nov':0})"
   ]
  },
  {
   "cell_type": "code",
   "execution_count": 381,
   "id": "22c6fb31",
   "metadata": {},
   "outputs": [
    {
     "data": {
      "text/html": [
       "<div>\n",
       "<style scoped>\n",
       "    .dataframe tbody tr th:only-of-type {\n",
       "        vertical-align: middle;\n",
       "    }\n",
       "\n",
       "    .dataframe tbody tr th {\n",
       "        vertical-align: top;\n",
       "    }\n",
       "\n",
       "    .dataframe thead th {\n",
       "        text-align: right;\n",
       "    }\n",
       "</style>\n",
       "<table border=\"1\" class=\"dataframe\">\n",
       "  <thead>\n",
       "    <tr style=\"text-align: right;\">\n",
       "      <th></th>\n",
       "      <th>Year</th>\n",
       "      <th>Month</th>\n",
       "      <th>Avg_Temp</th>\n",
       "      <th>Low_Temp</th>\n",
       "      <th>High_Temp</th>\n",
       "      <th>Total_Precip</th>\n",
       "      <th>Major_Storm</th>\n",
       "      <th>Avg_Wind_Speed</th>\n",
       "      <th>Avail_Flower_Species</th>\n",
       "      <th>Spring_Summer_Fall</th>\n",
       "    </tr>\n",
       "  </thead>\n",
       "  <tbody>\n",
       "    <tr>\n",
       "      <th>0</th>\n",
       "      <td>2023</td>\n",
       "      <td>Jun</td>\n",
       "      <td>28</td>\n",
       "      <td>15</td>\n",
       "      <td>26</td>\n",
       "      <td>27.2</td>\n",
       "      <td>0</td>\n",
       "      <td>16.3</td>\n",
       "      <td>29</td>\n",
       "      <td>1</td>\n",
       "    </tr>\n",
       "    <tr>\n",
       "      <th>1</th>\n",
       "      <td>2023</td>\n",
       "      <td>May</td>\n",
       "      <td>26</td>\n",
       "      <td>10</td>\n",
       "      <td>24</td>\n",
       "      <td>29.9</td>\n",
       "      <td>0</td>\n",
       "      <td>12.0</td>\n",
       "      <td>23</td>\n",
       "      <td>1</td>\n",
       "    </tr>\n",
       "    <tr>\n",
       "      <th>2</th>\n",
       "      <td>2023</td>\n",
       "      <td>Apr</td>\n",
       "      <td>10</td>\n",
       "      <td>-2</td>\n",
       "      <td>22</td>\n",
       "      <td>42.8</td>\n",
       "      <td>0</td>\n",
       "      <td>10.7</td>\n",
       "      <td>23</td>\n",
       "      <td>1</td>\n",
       "    </tr>\n",
       "    <tr>\n",
       "      <th>3</th>\n",
       "      <td>2023</td>\n",
       "      <td>Mar</td>\n",
       "      <td>4</td>\n",
       "      <td>-12</td>\n",
       "      <td>5</td>\n",
       "      <td>30.0</td>\n",
       "      <td>0</td>\n",
       "      <td>16.1</td>\n",
       "      <td>23</td>\n",
       "      <td>1</td>\n",
       "    </tr>\n",
       "    <tr>\n",
       "      <th>4</th>\n",
       "      <td>2023</td>\n",
       "      <td>Feb</td>\n",
       "      <td>8</td>\n",
       "      <td>-22</td>\n",
       "      <td>0</td>\n",
       "      <td>30.8</td>\n",
       "      <td>0</td>\n",
       "      <td>4.3</td>\n",
       "      <td>0</td>\n",
       "      <td>0</td>\n",
       "    </tr>\n",
       "  </tbody>\n",
       "</table>\n",
       "</div>"
      ],
      "text/plain": [
       "   Year Month  Avg_Temp  Low_Temp  High_Temp  Total_Precip  Major_Storm  \\\n",
       "0  2023   Jun        28        15         26          27.2            0   \n",
       "1  2023   May        26        10         24          29.9            0   \n",
       "2  2023   Apr        10        -2         22          42.8            0   \n",
       "3  2023   Mar         4       -12          5          30.0            0   \n",
       "4  2023   Feb         8       -22          0          30.8            0   \n",
       "\n",
       "   Avg_Wind_Speed  Avail_Flower_Species  Spring_Summer_Fall  \n",
       "0            16.3                    29                   1  \n",
       "1            12.0                    23                   1  \n",
       "2            10.7                    23                   1  \n",
       "3            16.1                    23                   1  \n",
       "4             4.3                     0                   0  "
      ]
     },
     "execution_count": 381,
     "metadata": {},
     "output_type": "execute_result"
    }
   ],
   "source": [
    "data_2.head()"
   ]
  },
  {
   "cell_type": "code",
   "execution_count": 382,
   "id": "052e5172",
   "metadata": {},
   "outputs": [],
   "source": [
    "X_predict = data_2[['Spring_Summer_Fall', 'Total_Precip', 'Low_Temp']]"
   ]
  },
  {
   "cell_type": "code",
   "execution_count": 383,
   "id": "c6cba62d",
   "metadata": {},
   "outputs": [
    {
     "data": {
      "text/html": [
       "<div>\n",
       "<style scoped>\n",
       "    .dataframe tbody tr th:only-of-type {\n",
       "        vertical-align: middle;\n",
       "    }\n",
       "\n",
       "    .dataframe tbody tr th {\n",
       "        vertical-align: top;\n",
       "    }\n",
       "\n",
       "    .dataframe thead th {\n",
       "        text-align: right;\n",
       "    }\n",
       "</style>\n",
       "<table border=\"1\" class=\"dataframe\">\n",
       "  <thead>\n",
       "    <tr style=\"text-align: right;\">\n",
       "      <th></th>\n",
       "      <th>Spring_Summer_Fall</th>\n",
       "      <th>Total_Precip</th>\n",
       "      <th>Low_Temp</th>\n",
       "    </tr>\n",
       "  </thead>\n",
       "  <tbody>\n",
       "    <tr>\n",
       "      <th>0</th>\n",
       "      <td>1</td>\n",
       "      <td>27.2</td>\n",
       "      <td>15</td>\n",
       "    </tr>\n",
       "    <tr>\n",
       "      <th>1</th>\n",
       "      <td>1</td>\n",
       "      <td>29.9</td>\n",
       "      <td>10</td>\n",
       "    </tr>\n",
       "    <tr>\n",
       "      <th>2</th>\n",
       "      <td>1</td>\n",
       "      <td>42.8</td>\n",
       "      <td>-2</td>\n",
       "    </tr>\n",
       "    <tr>\n",
       "      <th>3</th>\n",
       "      <td>1</td>\n",
       "      <td>30.0</td>\n",
       "      <td>-12</td>\n",
       "    </tr>\n",
       "    <tr>\n",
       "      <th>4</th>\n",
       "      <td>0</td>\n",
       "      <td>30.8</td>\n",
       "      <td>-22</td>\n",
       "    </tr>\n",
       "  </tbody>\n",
       "</table>\n",
       "</div>"
      ],
      "text/plain": [
       "   Spring_Summer_Fall  Total_Precip  Low_Temp\n",
       "0                   1          27.2        15\n",
       "1                   1          29.9        10\n",
       "2                   1          42.8        -2\n",
       "3                   1          30.0       -12\n",
       "4                   0          30.8       -22"
      ]
     },
     "execution_count": 383,
     "metadata": {},
     "output_type": "execute_result"
    }
   ],
   "source": [
    "X_predict.head()"
   ]
  },
  {
   "cell_type": "markdown",
   "id": "b6b8c2e2",
   "metadata": {},
   "source": [
    "#### Model Prediction"
   ]
  },
  {
   "cell_type": "code",
   "execution_count": 384,
   "id": "39822350",
   "metadata": {},
   "outputs": [],
   "source": [
    "Model_prediction = model_2.predict(X_predict)"
   ]
  },
  {
   "cell_type": "code",
   "execution_count": 385,
   "id": "5e8cd183",
   "metadata": {},
   "outputs": [
    {
     "data": {
      "text/plain": [
       "0     56947.135754\n",
       "1     50872.248020\n",
       "2     34288.803252\n",
       "3     27819.339089\n",
       "4     -4769.136773\n",
       "5      5445.587591\n",
       "6      1272.762396\n",
       "7     13923.683954\n",
       "8     38438.021911\n",
       "9     51512.952336\n",
       "10    56135.662710\n",
       "11    55120.432374\n",
       "dtype: float64"
      ]
     },
     "execution_count": 385,
     "metadata": {},
     "output_type": "execute_result"
    }
   ],
   "source": [
    "Model_prediction"
   ]
  },
  {
   "cell_type": "markdown",
   "id": "55fb0eeb",
   "metadata": {},
   "source": [
    "#### Checking Confidence Interval Around Model Prediction - For a More Conservative Estimate"
   ]
  },
  {
   "cell_type": "code",
   "execution_count": 386,
   "id": "67e9190f",
   "metadata": {},
   "outputs": [],
   "source": [
    "Model_prediction_upper_bound = 3.81e+4 + 2.98e+4*data_2['Spring_Summer_Fall'] + 1328.798*data_2['Low_Temp'] - 8.078*data_2['Total_Precip']"
   ]
  },
  {
   "cell_type": "code",
   "execution_count": 387,
   "id": "84553d7f",
   "metadata": {},
   "outputs": [
    {
     "data": {
      "text/plain": [
       "0     87612.2484\n",
       "1     80946.4478\n",
       "2     64896.6656\n",
       "3     51712.0840\n",
       "4      8617.6416\n",
       "5     21899.1592\n",
       "6     12679.1610\n",
       "7     28627.1604\n",
       "8     62400.6296\n",
       "9     82264.7444\n",
       "10    87591.2456\n",
       "11    86263.2554\n",
       "dtype: float64"
      ]
     },
     "execution_count": 387,
     "metadata": {},
     "output_type": "execute_result"
    }
   ],
   "source": [
    "Model_prediction_upper_bound"
   ]
  },
  {
   "cell_type": "code",
   "execution_count": 388,
   "id": "4d9f507c",
   "metadata": {},
   "outputs": [],
   "source": [
    "data_2['Prediction_Upper_Bound'] = Model_prediction_upper_bound\n",
    "data_2['Prediction'] = Model_prediction"
   ]
  },
  {
   "cell_type": "code",
   "execution_count": 389,
   "id": "6c462505",
   "metadata": {},
   "outputs": [],
   "source": [
    "data_2['Swarm'] = [1 if x >= 95000 else 0 for x in data_2['Prediction_Upper_Bound']]"
   ]
  },
  {
   "cell_type": "code",
   "execution_count": 390,
   "id": "e9fe939a",
   "metadata": {},
   "outputs": [
    {
     "data": {
      "text/html": [
       "<div>\n",
       "<style scoped>\n",
       "    .dataframe tbody tr th:only-of-type {\n",
       "        vertical-align: middle;\n",
       "    }\n",
       "\n",
       "    .dataframe tbody tr th {\n",
       "        vertical-align: top;\n",
       "    }\n",
       "\n",
       "    .dataframe thead th {\n",
       "        text-align: right;\n",
       "    }\n",
       "</style>\n",
       "<table border=\"1\" class=\"dataframe\">\n",
       "  <thead>\n",
       "    <tr style=\"text-align: right;\">\n",
       "      <th></th>\n",
       "      <th>Year</th>\n",
       "      <th>Month</th>\n",
       "      <th>Avg_Temp</th>\n",
       "      <th>Low_Temp</th>\n",
       "      <th>High_Temp</th>\n",
       "      <th>Total_Precip</th>\n",
       "      <th>Major_Storm</th>\n",
       "      <th>Avg_Wind_Speed</th>\n",
       "      <th>Avail_Flower_Species</th>\n",
       "      <th>Spring_Summer_Fall</th>\n",
       "      <th>Prediction_Upper_Bound</th>\n",
       "      <th>Prediction</th>\n",
       "      <th>Swarm</th>\n",
       "    </tr>\n",
       "  </thead>\n",
       "  <tbody>\n",
       "    <tr>\n",
       "      <th>0</th>\n",
       "      <td>2023</td>\n",
       "      <td>Jun</td>\n",
       "      <td>28</td>\n",
       "      <td>15</td>\n",
       "      <td>26</td>\n",
       "      <td>27.2</td>\n",
       "      <td>0</td>\n",
       "      <td>16.3</td>\n",
       "      <td>29</td>\n",
       "      <td>1</td>\n",
       "      <td>87612.2484</td>\n",
       "      <td>56947.135754</td>\n",
       "      <td>0</td>\n",
       "    </tr>\n",
       "    <tr>\n",
       "      <th>1</th>\n",
       "      <td>2023</td>\n",
       "      <td>May</td>\n",
       "      <td>26</td>\n",
       "      <td>10</td>\n",
       "      <td>24</td>\n",
       "      <td>29.9</td>\n",
       "      <td>0</td>\n",
       "      <td>12.0</td>\n",
       "      <td>23</td>\n",
       "      <td>1</td>\n",
       "      <td>80946.4478</td>\n",
       "      <td>50872.248020</td>\n",
       "      <td>0</td>\n",
       "    </tr>\n",
       "    <tr>\n",
       "      <th>2</th>\n",
       "      <td>2023</td>\n",
       "      <td>Apr</td>\n",
       "      <td>10</td>\n",
       "      <td>-2</td>\n",
       "      <td>22</td>\n",
       "      <td>42.8</td>\n",
       "      <td>0</td>\n",
       "      <td>10.7</td>\n",
       "      <td>23</td>\n",
       "      <td>1</td>\n",
       "      <td>64896.6656</td>\n",
       "      <td>34288.803252</td>\n",
       "      <td>0</td>\n",
       "    </tr>\n",
       "    <tr>\n",
       "      <th>3</th>\n",
       "      <td>2023</td>\n",
       "      <td>Mar</td>\n",
       "      <td>4</td>\n",
       "      <td>-12</td>\n",
       "      <td>5</td>\n",
       "      <td>30.0</td>\n",
       "      <td>0</td>\n",
       "      <td>16.1</td>\n",
       "      <td>23</td>\n",
       "      <td>1</td>\n",
       "      <td>51712.0840</td>\n",
       "      <td>27819.339089</td>\n",
       "      <td>0</td>\n",
       "    </tr>\n",
       "    <tr>\n",
       "      <th>4</th>\n",
       "      <td>2023</td>\n",
       "      <td>Feb</td>\n",
       "      <td>8</td>\n",
       "      <td>-22</td>\n",
       "      <td>0</td>\n",
       "      <td>30.8</td>\n",
       "      <td>0</td>\n",
       "      <td>4.3</td>\n",
       "      <td>0</td>\n",
       "      <td>0</td>\n",
       "      <td>8617.6416</td>\n",
       "      <td>-4769.136773</td>\n",
       "      <td>0</td>\n",
       "    </tr>\n",
       "    <tr>\n",
       "      <th>5</th>\n",
       "      <td>2023</td>\n",
       "      <td>Jan</td>\n",
       "      <td>-5</td>\n",
       "      <td>-12</td>\n",
       "      <td>4</td>\n",
       "      <td>31.6</td>\n",
       "      <td>1</td>\n",
       "      <td>15.5</td>\n",
       "      <td>0</td>\n",
       "      <td>0</td>\n",
       "      <td>21899.1592</td>\n",
       "      <td>5445.587591</td>\n",
       "      <td>0</td>\n",
       "    </tr>\n",
       "    <tr>\n",
       "      <th>6</th>\n",
       "      <td>2022</td>\n",
       "      <td>Dec</td>\n",
       "      <td>-7</td>\n",
       "      <td>-19</td>\n",
       "      <td>0</td>\n",
       "      <td>21.5</td>\n",
       "      <td>0</td>\n",
       "      <td>13.6</td>\n",
       "      <td>0</td>\n",
       "      <td>0</td>\n",
       "      <td>12679.1610</td>\n",
       "      <td>1272.762396</td>\n",
       "      <td>0</td>\n",
       "    </tr>\n",
       "    <tr>\n",
       "      <th>7</th>\n",
       "      <td>2022</td>\n",
       "      <td>Nov</td>\n",
       "      <td>3</td>\n",
       "      <td>-7</td>\n",
       "      <td>13</td>\n",
       "      <td>21.2</td>\n",
       "      <td>1</td>\n",
       "      <td>13.8</td>\n",
       "      <td>0</td>\n",
       "      <td>0</td>\n",
       "      <td>28627.1604</td>\n",
       "      <td>13923.683954</td>\n",
       "      <td>0</td>\n",
       "    </tr>\n",
       "    <tr>\n",
       "      <th>8</th>\n",
       "      <td>2022</td>\n",
       "      <td>Oct</td>\n",
       "      <td>25</td>\n",
       "      <td>-4</td>\n",
       "      <td>23</td>\n",
       "      <td>22.8</td>\n",
       "      <td>0</td>\n",
       "      <td>13.7</td>\n",
       "      <td>25</td>\n",
       "      <td>1</td>\n",
       "      <td>62400.6296</td>\n",
       "      <td>38438.021911</td>\n",
       "      <td>0</td>\n",
       "    </tr>\n",
       "    <tr>\n",
       "      <th>9</th>\n",
       "      <td>2022</td>\n",
       "      <td>Sep</td>\n",
       "      <td>24</td>\n",
       "      <td>11</td>\n",
       "      <td>28</td>\n",
       "      <td>31.2</td>\n",
       "      <td>2</td>\n",
       "      <td>13.0</td>\n",
       "      <td>27</td>\n",
       "      <td>1</td>\n",
       "      <td>82264.7444</td>\n",
       "      <td>51512.952336</td>\n",
       "      <td>0</td>\n",
       "    </tr>\n",
       "    <tr>\n",
       "      <th>10</th>\n",
       "      <td>2022</td>\n",
       "      <td>Aug</td>\n",
       "      <td>31</td>\n",
       "      <td>15</td>\n",
       "      <td>37</td>\n",
       "      <td>29.8</td>\n",
       "      <td>0</td>\n",
       "      <td>9.9</td>\n",
       "      <td>19</td>\n",
       "      <td>1</td>\n",
       "      <td>87591.2456</td>\n",
       "      <td>56135.662710</td>\n",
       "      <td>0</td>\n",
       "    </tr>\n",
       "    <tr>\n",
       "      <th>11</th>\n",
       "      <td>2022</td>\n",
       "      <td>Jul</td>\n",
       "      <td>30</td>\n",
       "      <td>14</td>\n",
       "      <td>40</td>\n",
       "      <td>29.7</td>\n",
       "      <td>0</td>\n",
       "      <td>14.9</td>\n",
       "      <td>30</td>\n",
       "      <td>1</td>\n",
       "      <td>86263.2554</td>\n",
       "      <td>55120.432374</td>\n",
       "      <td>0</td>\n",
       "    </tr>\n",
       "  </tbody>\n",
       "</table>\n",
       "</div>"
      ],
      "text/plain": [
       "    Year Month  Avg_Temp  Low_Temp  High_Temp  Total_Precip  Major_Storm  \\\n",
       "0   2023   Jun        28        15         26          27.2            0   \n",
       "1   2023   May        26        10         24          29.9            0   \n",
       "2   2023   Apr        10        -2         22          42.8            0   \n",
       "3   2023   Mar         4       -12          5          30.0            0   \n",
       "4   2023   Feb         8       -22          0          30.8            0   \n",
       "5   2023   Jan        -5       -12          4          31.6            1   \n",
       "6   2022   Dec        -7       -19          0          21.5            0   \n",
       "7   2022   Nov         3        -7         13          21.2            1   \n",
       "8   2022   Oct        25        -4         23          22.8            0   \n",
       "9   2022   Sep        24        11         28          31.2            2   \n",
       "10  2022   Aug        31        15         37          29.8            0   \n",
       "11  2022   Jul        30        14         40          29.7            0   \n",
       "\n",
       "    Avg_Wind_Speed  Avail_Flower_Species  Spring_Summer_Fall  \\\n",
       "0             16.3                    29                   1   \n",
       "1             12.0                    23                   1   \n",
       "2             10.7                    23                   1   \n",
       "3             16.1                    23                   1   \n",
       "4              4.3                     0                   0   \n",
       "5             15.5                     0                   0   \n",
       "6             13.6                     0                   0   \n",
       "7             13.8                     0                   0   \n",
       "8             13.7                    25                   1   \n",
       "9             13.0                    27                   1   \n",
       "10             9.9                    19                   1   \n",
       "11            14.9                    30                   1   \n",
       "\n",
       "    Prediction_Upper_Bound    Prediction  Swarm  \n",
       "0               87612.2484  56947.135754      0  \n",
       "1               80946.4478  50872.248020      0  \n",
       "2               64896.6656  34288.803252      0  \n",
       "3               51712.0840  27819.339089      0  \n",
       "4                8617.6416  -4769.136773      0  \n",
       "5               21899.1592   5445.587591      0  \n",
       "6               12679.1610   1272.762396      0  \n",
       "7               28627.1604  13923.683954      0  \n",
       "8               62400.6296  38438.021911      0  \n",
       "9               82264.7444  51512.952336      0  \n",
       "10              87591.2456  56135.662710      0  \n",
       "11              86263.2554  55120.432374      0  "
      ]
     },
     "execution_count": 390,
     "metadata": {},
     "output_type": "execute_result"
    }
   ],
   "source": [
    "data_2"
   ]
  },
  {
   "cell_type": "markdown",
   "id": "b3b26e3f",
   "metadata": {},
   "source": [
    "Using the predicted values, there is no instance of Bee Count exceeding 95,000. Instead of just looking at a point estimate, if the upper bound of the confidence interval around the estimates is considered (calculated at the 95% significance level), we still do not have a single instance of Bee Count exceeding 95,000. \n",
    "\n",
    "Hence, we can conclude with 95% confidence, that swarming is not a possibility, assuming the weather forecast is accurate. "
   ]
  }
 ],
 "metadata": {
  "kernelspec": {
   "display_name": "Python 3 (ipykernel)",
   "language": "python",
   "name": "python3"
  },
  "language_info": {
   "codemirror_mode": {
    "name": "ipython",
    "version": 3
   },
   "file_extension": ".py",
   "mimetype": "text/x-python",
   "name": "python",
   "nbconvert_exporter": "python",
   "pygments_lexer": "ipython3",
   "version": "3.10.9"
  }
 },
 "nbformat": 4,
 "nbformat_minor": 5
}
